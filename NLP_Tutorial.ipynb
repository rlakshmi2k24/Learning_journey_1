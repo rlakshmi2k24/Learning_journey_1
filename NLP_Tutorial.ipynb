{
  "nbformat": 4,
  "nbformat_minor": 0,
  "metadata": {
    "colab": {
      "provenance": [],
      "include_colab_link": true
    },
    "kernelspec": {
      "name": "python3",
      "display_name": "Python 3"
    }
  },
  "cells": [
    {
      "cell_type": "markdown",
      "metadata": {
        "id": "view-in-github",
        "colab_type": "text"
      },
      "source": [
        "<a href=\"https://colab.research.google.com/github/rlakshmi2k24/Learning_journey_1/blob/main/NLP_Tutorial.ipynb\" target=\"_parent\"><img src=\"https://colab.research.google.com/assets/colab-badge.svg\" alt=\"Open In Colab\"/></a>"
      ]
    },
    {
      "cell_type": "markdown",
      "metadata": {
        "id": "lJiuIkXKjBS8"
      },
      "source": [
        "TUTORIAL ON NATURAL LANGUAGE PROCESSING\n"
      ]
    },
    {
      "cell_type": "markdown",
      "metadata": {
        "id": "WNT3qGBHk3ME"
      },
      "source": [
        "## TEXT MINING"
      ]
    },
    {
      "cell_type": "markdown",
      "metadata": {
        "id": "4qpCAKuajdPw"
      },
      "source": [
        "Text mining is the most important thing one must discover as our data usage is increasing exponentially on a day to day basis. So, it's really important to uncover the patterns in text that we generate. So, i'll be starting with first of all text pre-processing and to be able to start with text pre-processing the very first library that we should start with is NLTK(Natural language Tool-kit). Our Agenda is to extract meaningful information from Natural Language Text."
      ]
    },
    {
      "cell_type": "markdown",
      "metadata": {
        "id": "N48_o_8xk0vN"
      },
      "source": [
        "# NATURAL LANGUAGE TOOL-KIT ( NLTK )"
      ]
    },
    {
      "cell_type": "code",
      "source": [
        "import nltk\n",
        "nltk.download('punkt_tab')\n",
        "sentence = \"The quick brown fox jumps over the lazy dog\"\n",
        "tokens = nltk.word_tokenize(sentence,language='english')"
      ],
      "metadata": {
        "colab": {
          "base_uri": "https://localhost:8080/"
        },
        "id": "3nW2fjA0TP-k",
        "outputId": "d2e3d091-2c13-431d-b5d3-25065b47bdd6"
      },
      "execution_count": null,
      "outputs": [
        {
          "output_type": "stream",
          "name": "stderr",
          "text": [
            "[nltk_data] Downloading package punkt_tab to /root/nltk_data...\n",
            "[nltk_data]   Package punkt_tab is already up-to-date!\n"
          ]
        }
      ]
    },
    {
      "cell_type": "code",
      "source": [
        "tokens"
      ],
      "metadata": {
        "colab": {
          "base_uri": "https://localhost:8080/"
        },
        "id": "9Pm7x6mdUfZx",
        "outputId": "fd30f4d3-89e6-4551-8e7d-37c1514451ce"
      },
      "execution_count": null,
      "outputs": [
        {
          "output_type": "execute_result",
          "data": {
            "text/plain": [
              "['The', 'quick', 'brown', 'fox', 'jumps', 'over', 'the', 'lazy', 'dog']"
            ]
          },
          "metadata": {},
          "execution_count": 5
        }
      ]
    },
    {
      "cell_type": "code",
      "source": [
        "#bigrams\n",
        "bigrams = list(nltk.bigrams(tokens))\n",
        "print(bigrams)"
      ],
      "metadata": {
        "colab": {
          "base_uri": "https://localhost:8080/"
        },
        "id": "TI0IAx21Uh8p",
        "outputId": "96bdc135-2c6f-4830-8f55-997aaec536e5"
      },
      "execution_count": null,
      "outputs": [
        {
          "output_type": "stream",
          "name": "stdout",
          "text": [
            "[('The', 'quick'), ('quick', 'brown'), ('brown', 'fox'), ('fox', 'jumps'), ('jumps', 'over'), ('over', 'the'), ('the', 'lazy'), ('lazy', 'dog')]\n"
          ]
        }
      ]
    },
    {
      "cell_type": "code",
      "metadata": {
        "id": "uNmfFHUnjEJo",
        "colab": {
          "base_uri": "https://localhost:8080/"
        },
        "outputId": "efca2ead-4bdf-4174-c83e-15b02b63691d"
      },
      "source": [
        "import nltk\n",
        "nltk.download('punkt')\n",
        "nltk.download('stopwords')\n",
        "sentence = \"This is a bit of an odd one, but welcome nonetheless. Sony has announced one of the PlayStation 4 games which will make up PlayStation Plus' line-up for June 2020 early in a tweet. It's Call of Duty: WWII. Quite the big addition, isn't it? The Japanese giant states that the other PS4 game which will be a part of the line-up will be revealed later this week. We will, of course, bring you confirmation of that second title here on Push Square when the news breaks.\""
      ],
      "execution_count": null,
      "outputs": [
        {
          "output_type": "stream",
          "name": "stderr",
          "text": [
            "[nltk_data] Downloading package punkt to /root/nltk_data...\n",
            "[nltk_data]   Unzipping tokenizers/punkt.zip.\n",
            "[nltk_data] Downloading package stopwords to /root/nltk_data...\n",
            "[nltk_data]   Unzipping corpora/stopwords.zip.\n"
          ]
        }
      ]
    },
    {
      "cell_type": "markdown",
      "metadata": {
        "id": "95d6A1belx2V"
      },
      "source": [
        "TOKENIZATION -\n",
        "\n",
        "A process of breaking a sentence into many small pieces is known as tokenization."
      ]
    },
    {
      "cell_type": "code",
      "metadata": {
        "id": "rkqu0x8Hls_z",
        "colab": {
          "base_uri": "https://localhost:8080/"
        },
        "outputId": "57c3ae61-14e4-4bd9-dc84-af7146702bae"
      },
      "source": [
        "tokens = nltk.word_tokenize(sentence,language='english',preserve_line=False)\n",
        "tokens"
      ],
      "execution_count": null,
      "outputs": [
        {
          "output_type": "execute_result",
          "data": {
            "text/plain": [
              "['This',\n",
              " 'is',\n",
              " 'a',\n",
              " 'bit',\n",
              " 'of',\n",
              " 'an',\n",
              " 'odd',\n",
              " 'one',\n",
              " ',',\n",
              " 'but',\n",
              " 'welcome',\n",
              " 'nonetheless',\n",
              " '.',\n",
              " 'Sony',\n",
              " 'has',\n",
              " 'announced',\n",
              " 'one',\n",
              " 'of',\n",
              " 'the',\n",
              " 'PlayStation',\n",
              " '4',\n",
              " 'games',\n",
              " 'which',\n",
              " 'will',\n",
              " 'make',\n",
              " 'up',\n",
              " 'PlayStation',\n",
              " 'Plus',\n",
              " \"'\",\n",
              " 'line-up',\n",
              " 'for',\n",
              " 'June',\n",
              " '2020',\n",
              " 'early',\n",
              " 'in',\n",
              " 'a',\n",
              " 'tweet',\n",
              " '.',\n",
              " 'It',\n",
              " \"'s\",\n",
              " 'Call',\n",
              " 'of',\n",
              " 'Duty',\n",
              " ':',\n",
              " 'WWII',\n",
              " '.',\n",
              " 'Quite',\n",
              " 'the',\n",
              " 'big',\n",
              " 'addition',\n",
              " ',',\n",
              " 'is',\n",
              " \"n't\",\n",
              " 'it',\n",
              " '?',\n",
              " 'The',\n",
              " 'Japanese',\n",
              " 'giant',\n",
              " 'states',\n",
              " 'that',\n",
              " 'the',\n",
              " 'other',\n",
              " 'PS4',\n",
              " 'game',\n",
              " 'which',\n",
              " 'will',\n",
              " 'be',\n",
              " 'a',\n",
              " 'part',\n",
              " 'of',\n",
              " 'the',\n",
              " 'line-up',\n",
              " 'will',\n",
              " 'be',\n",
              " 'revealed',\n",
              " 'later',\n",
              " 'this',\n",
              " 'week',\n",
              " '.',\n",
              " 'We',\n",
              " 'will',\n",
              " ',',\n",
              " 'of',\n",
              " 'course',\n",
              " ',',\n",
              " 'bring',\n",
              " 'you',\n",
              " 'confirmation',\n",
              " 'of',\n",
              " 'that',\n",
              " 'second',\n",
              " 'title',\n",
              " 'here',\n",
              " 'on',\n",
              " 'Push',\n",
              " 'Square',\n",
              " 'when',\n",
              " 'the',\n",
              " 'news',\n",
              " 'breaks',\n",
              " '.']"
            ]
          },
          "metadata": {},
          "execution_count": 4
        }
      ]
    },
    {
      "cell_type": "code",
      "metadata": {
        "id": "ZcbVRxeaomgV",
        "colab": {
          "base_uri": "https://localhost:8080/"
        },
        "outputId": "8dcec1e4-ef2c-4916-a36f-917b5191786e"
      },
      "source": [
        "sent_tokens = nltk.sent_tokenize(sentence,language='english')\n",
        "sent_tokens"
      ],
      "execution_count": null,
      "outputs": [
        {
          "output_type": "execute_result",
          "data": {
            "text/plain": [
              "['This is a bit of an odd one, but welcome nonetheless.',\n",
              " \"Sony has announced one of the PlayStation 4 games which will make up PlayStation Plus' line-up for June 2020 early in a tweet.\",\n",
              " \"It's Call of Duty: WWII.\",\n",
              " \"Quite the big addition, isn't it?\",\n",
              " 'The Japanese giant states that the other PS4 game which will be a part of the line-up will be revealed later this week.',\n",
              " 'We will, of course, bring you confirmation of that second title here on Push Square when the news breaks.']"
            ]
          },
          "metadata": {},
          "execution_count": 5
        }
      ]
    },
    {
      "cell_type": "code",
      "metadata": {
        "id": "IUEzAlm0rnEj",
        "colab": {
          "base_uri": "https://localhost:8080/"
        },
        "outputId": "c05f0298-9efe-4cf4-88b2-a90f6ad1aeb6"
      },
      "source": [
        "bigrams = list(nltk.bigrams(tokens))\n",
        "bigrams"
      ],
      "execution_count": null,
      "outputs": [
        {
          "output_type": "execute_result",
          "data": {
            "text/plain": [
              "[('This', 'is'),\n",
              " ('is', 'a'),\n",
              " ('a', 'bit'),\n",
              " ('bit', 'of'),\n",
              " ('of', 'an'),\n",
              " ('an', 'odd'),\n",
              " ('odd', 'one'),\n",
              " ('one', ','),\n",
              " (',', 'but'),\n",
              " ('but', 'welcome'),\n",
              " ('welcome', 'nonetheless'),\n",
              " ('nonetheless', '.'),\n",
              " ('.', 'Sony'),\n",
              " ('Sony', 'has'),\n",
              " ('has', 'announced'),\n",
              " ('announced', 'one'),\n",
              " ('one', 'of'),\n",
              " ('of', 'the'),\n",
              " ('the', 'PlayStation'),\n",
              " ('PlayStation', '4'),\n",
              " ('4', 'games'),\n",
              " ('games', 'which'),\n",
              " ('which', 'will'),\n",
              " ('will', 'make'),\n",
              " ('make', 'up'),\n",
              " ('up', 'PlayStation'),\n",
              " ('PlayStation', 'Plus'),\n",
              " ('Plus', \"'\"),\n",
              " (\"'\", 'line-up'),\n",
              " ('line-up', 'for'),\n",
              " ('for', 'June'),\n",
              " ('June', '2020'),\n",
              " ('2020', 'early'),\n",
              " ('early', 'in'),\n",
              " ('in', 'a'),\n",
              " ('a', 'tweet'),\n",
              " ('tweet', '.'),\n",
              " ('.', 'It'),\n",
              " ('It', \"'s\"),\n",
              " (\"'s\", 'Call'),\n",
              " ('Call', 'of'),\n",
              " ('of', 'Duty'),\n",
              " ('Duty', ':'),\n",
              " (':', 'WWII'),\n",
              " ('WWII', '.'),\n",
              " ('.', 'Quite'),\n",
              " ('Quite', 'the'),\n",
              " ('the', 'big'),\n",
              " ('big', 'addition'),\n",
              " ('addition', ','),\n",
              " (',', 'is'),\n",
              " ('is', \"n't\"),\n",
              " (\"n't\", 'it'),\n",
              " ('it', '?'),\n",
              " ('?', 'The'),\n",
              " ('The', 'Japanese'),\n",
              " ('Japanese', 'giant'),\n",
              " ('giant', 'states'),\n",
              " ('states', 'that'),\n",
              " ('that', 'the'),\n",
              " ('the', 'other'),\n",
              " ('other', 'PS4'),\n",
              " ('PS4', 'game'),\n",
              " ('game', 'which'),\n",
              " ('which', 'will'),\n",
              " ('will', 'be'),\n",
              " ('be', 'a'),\n",
              " ('a', 'part'),\n",
              " ('part', 'of'),\n",
              " ('of', 'the'),\n",
              " ('the', 'line-up'),\n",
              " ('line-up', 'will'),\n",
              " ('will', 'be'),\n",
              " ('be', 'revealed'),\n",
              " ('revealed', 'later'),\n",
              " ('later', 'this'),\n",
              " ('this', 'week'),\n",
              " ('week', '.'),\n",
              " ('.', 'We'),\n",
              " ('We', 'will'),\n",
              " ('will', ','),\n",
              " (',', 'of'),\n",
              " ('of', 'course'),\n",
              " ('course', ','),\n",
              " (',', 'bring'),\n",
              " ('bring', 'you'),\n",
              " ('you', 'confirmation'),\n",
              " ('confirmation', 'of'),\n",
              " ('of', 'that'),\n",
              " ('that', 'second'),\n",
              " ('second', 'title'),\n",
              " ('title', 'here'),\n",
              " ('here', 'on'),\n",
              " ('on', 'Push'),\n",
              " ('Push', 'Square'),\n",
              " ('Square', 'when'),\n",
              " ('when', 'the'),\n",
              " ('the', 'news'),\n",
              " ('news', 'breaks'),\n",
              " ('breaks', '.')]"
            ]
          },
          "metadata": {},
          "execution_count": 6
        }
      ]
    },
    {
      "cell_type": "code",
      "metadata": {
        "id": "4SFYlo_-uTOf",
        "colab": {
          "base_uri": "https://localhost:8080/"
        },
        "outputId": "c51536c1-da84-459f-bb2a-8cd85f519369"
      },
      "source": [
        "trigrams = list(nltk.trigrams(tokens))\n",
        "trigrams"
      ],
      "execution_count": null,
      "outputs": [
        {
          "output_type": "execute_result",
          "data": {
            "text/plain": [
              "[('This', 'is', 'a'),\n",
              " ('is', 'a', 'bit'),\n",
              " ('a', 'bit', 'of'),\n",
              " ('bit', 'of', 'an'),\n",
              " ('of', 'an', 'odd'),\n",
              " ('an', 'odd', 'one'),\n",
              " ('odd', 'one', ','),\n",
              " ('one', ',', 'but'),\n",
              " (',', 'but', 'welcome'),\n",
              " ('but', 'welcome', 'nonetheless'),\n",
              " ('welcome', 'nonetheless', '.'),\n",
              " ('nonetheless', '.', 'Sony'),\n",
              " ('.', 'Sony', 'has'),\n",
              " ('Sony', 'has', 'announced'),\n",
              " ('has', 'announced', 'one'),\n",
              " ('announced', 'one', 'of'),\n",
              " ('one', 'of', 'the'),\n",
              " ('of', 'the', 'PlayStation'),\n",
              " ('the', 'PlayStation', '4'),\n",
              " ('PlayStation', '4', 'games'),\n",
              " ('4', 'games', 'which'),\n",
              " ('games', 'which', 'will'),\n",
              " ('which', 'will', 'make'),\n",
              " ('will', 'make', 'up'),\n",
              " ('make', 'up', 'PlayStation'),\n",
              " ('up', 'PlayStation', 'Plus'),\n",
              " ('PlayStation', 'Plus', \"'\"),\n",
              " ('Plus', \"'\", 'line-up'),\n",
              " (\"'\", 'line-up', 'for'),\n",
              " ('line-up', 'for', 'June'),\n",
              " ('for', 'June', '2020'),\n",
              " ('June', '2020', 'early'),\n",
              " ('2020', 'early', 'in'),\n",
              " ('early', 'in', 'a'),\n",
              " ('in', 'a', 'tweet'),\n",
              " ('a', 'tweet', '.'),\n",
              " ('tweet', '.', 'It'),\n",
              " ('.', 'It', \"'s\"),\n",
              " ('It', \"'s\", 'Call'),\n",
              " (\"'s\", 'Call', 'of'),\n",
              " ('Call', 'of', 'Duty'),\n",
              " ('of', 'Duty', ':'),\n",
              " ('Duty', ':', 'WWII'),\n",
              " (':', 'WWII', '.'),\n",
              " ('WWII', '.', 'Quite'),\n",
              " ('.', 'Quite', 'the'),\n",
              " ('Quite', 'the', 'big'),\n",
              " ('the', 'big', 'addition'),\n",
              " ('big', 'addition', ','),\n",
              " ('addition', ',', 'is'),\n",
              " (',', 'is', \"n't\"),\n",
              " ('is', \"n't\", 'it'),\n",
              " (\"n't\", 'it', '?'),\n",
              " ('it', '?', 'The'),\n",
              " ('?', 'The', 'Japanese'),\n",
              " ('The', 'Japanese', 'giant'),\n",
              " ('Japanese', 'giant', 'states'),\n",
              " ('giant', 'states', 'that'),\n",
              " ('states', 'that', 'the'),\n",
              " ('that', 'the', 'other'),\n",
              " ('the', 'other', 'PS4'),\n",
              " ('other', 'PS4', 'game'),\n",
              " ('PS4', 'game', 'which'),\n",
              " ('game', 'which', 'will'),\n",
              " ('which', 'will', 'be'),\n",
              " ('will', 'be', 'a'),\n",
              " ('be', 'a', 'part'),\n",
              " ('a', 'part', 'of'),\n",
              " ('part', 'of', 'the'),\n",
              " ('of', 'the', 'line-up'),\n",
              " ('the', 'line-up', 'will'),\n",
              " ('line-up', 'will', 'be'),\n",
              " ('will', 'be', 'revealed'),\n",
              " ('be', 'revealed', 'later'),\n",
              " ('revealed', 'later', 'this'),\n",
              " ('later', 'this', 'week'),\n",
              " ('this', 'week', '.'),\n",
              " ('week', '.', 'We'),\n",
              " ('.', 'We', 'will'),\n",
              " ('We', 'will', ','),\n",
              " ('will', ',', 'of'),\n",
              " (',', 'of', 'course'),\n",
              " ('of', 'course', ','),\n",
              " ('course', ',', 'bring'),\n",
              " (',', 'bring', 'you'),\n",
              " ('bring', 'you', 'confirmation'),\n",
              " ('you', 'confirmation', 'of'),\n",
              " ('confirmation', 'of', 'that'),\n",
              " ('of', 'that', 'second'),\n",
              " ('that', 'second', 'title'),\n",
              " ('second', 'title', 'here'),\n",
              " ('title', 'here', 'on'),\n",
              " ('here', 'on', 'Push'),\n",
              " ('on', 'Push', 'Square'),\n",
              " ('Push', 'Square', 'when'),\n",
              " ('Square', 'when', 'the'),\n",
              " ('when', 'the', 'news'),\n",
              " ('the', 'news', 'breaks'),\n",
              " ('news', 'breaks', '.')]"
            ]
          },
          "metadata": {},
          "execution_count": 7
        }
      ]
    },
    {
      "cell_type": "code",
      "metadata": {
        "id": "yD26d4zQudfs",
        "colab": {
          "base_uri": "https://localhost:8080/"
        },
        "outputId": "9d7780e6-1f2d-4bd0-e068-e3419485c9e7"
      },
      "source": [
        "ngrams = list(nltk.ngrams(tokens,5))\n",
        "ngrams"
      ],
      "execution_count": null,
      "outputs": [
        {
          "output_type": "execute_result",
          "data": {
            "text/plain": [
              "[('This', 'is', 'a', 'bit', 'of'),\n",
              " ('is', 'a', 'bit', 'of', 'an'),\n",
              " ('a', 'bit', 'of', 'an', 'odd'),\n",
              " ('bit', 'of', 'an', 'odd', 'one'),\n",
              " ('of', 'an', 'odd', 'one', ','),\n",
              " ('an', 'odd', 'one', ',', 'but'),\n",
              " ('odd', 'one', ',', 'but', 'welcome'),\n",
              " ('one', ',', 'but', 'welcome', 'nonetheless'),\n",
              " (',', 'but', 'welcome', 'nonetheless', '.'),\n",
              " ('but', 'welcome', 'nonetheless', '.', 'Sony'),\n",
              " ('welcome', 'nonetheless', '.', 'Sony', 'has'),\n",
              " ('nonetheless', '.', 'Sony', 'has', 'announced'),\n",
              " ('.', 'Sony', 'has', 'announced', 'one'),\n",
              " ('Sony', 'has', 'announced', 'one', 'of'),\n",
              " ('has', 'announced', 'one', 'of', 'the'),\n",
              " ('announced', 'one', 'of', 'the', 'PlayStation'),\n",
              " ('one', 'of', 'the', 'PlayStation', '4'),\n",
              " ('of', 'the', 'PlayStation', '4', 'games'),\n",
              " ('the', 'PlayStation', '4', 'games', 'which'),\n",
              " ('PlayStation', '4', 'games', 'which', 'will'),\n",
              " ('4', 'games', 'which', 'will', 'make'),\n",
              " ('games', 'which', 'will', 'make', 'up'),\n",
              " ('which', 'will', 'make', 'up', 'PlayStation'),\n",
              " ('will', 'make', 'up', 'PlayStation', 'Plus'),\n",
              " ('make', 'up', 'PlayStation', 'Plus', \"'\"),\n",
              " ('up', 'PlayStation', 'Plus', \"'\", 'line-up'),\n",
              " ('PlayStation', 'Plus', \"'\", 'line-up', 'for'),\n",
              " ('Plus', \"'\", 'line-up', 'for', 'June'),\n",
              " (\"'\", 'line-up', 'for', 'June', '2020'),\n",
              " ('line-up', 'for', 'June', '2020', 'early'),\n",
              " ('for', 'June', '2020', 'early', 'in'),\n",
              " ('June', '2020', 'early', 'in', 'a'),\n",
              " ('2020', 'early', 'in', 'a', 'tweet'),\n",
              " ('early', 'in', 'a', 'tweet', '.'),\n",
              " ('in', 'a', 'tweet', '.', 'It'),\n",
              " ('a', 'tweet', '.', 'It', \"'s\"),\n",
              " ('tweet', '.', 'It', \"'s\", 'Call'),\n",
              " ('.', 'It', \"'s\", 'Call', 'of'),\n",
              " ('It', \"'s\", 'Call', 'of', 'Duty'),\n",
              " (\"'s\", 'Call', 'of', 'Duty', ':'),\n",
              " ('Call', 'of', 'Duty', ':', 'WWII'),\n",
              " ('of', 'Duty', ':', 'WWII', '.'),\n",
              " ('Duty', ':', 'WWII', '.', 'Quite'),\n",
              " (':', 'WWII', '.', 'Quite', 'the'),\n",
              " ('WWII', '.', 'Quite', 'the', 'big'),\n",
              " ('.', 'Quite', 'the', 'big', 'addition'),\n",
              " ('Quite', 'the', 'big', 'addition', ','),\n",
              " ('the', 'big', 'addition', ',', 'is'),\n",
              " ('big', 'addition', ',', 'is', \"n't\"),\n",
              " ('addition', ',', 'is', \"n't\", 'it'),\n",
              " (',', 'is', \"n't\", 'it', '?'),\n",
              " ('is', \"n't\", 'it', '?', 'The'),\n",
              " (\"n't\", 'it', '?', 'The', 'Japanese'),\n",
              " ('it', '?', 'The', 'Japanese', 'giant'),\n",
              " ('?', 'The', 'Japanese', 'giant', 'states'),\n",
              " ('The', 'Japanese', 'giant', 'states', 'that'),\n",
              " ('Japanese', 'giant', 'states', 'that', 'the'),\n",
              " ('giant', 'states', 'that', 'the', 'other'),\n",
              " ('states', 'that', 'the', 'other', 'PS4'),\n",
              " ('that', 'the', 'other', 'PS4', 'game'),\n",
              " ('the', 'other', 'PS4', 'game', 'which'),\n",
              " ('other', 'PS4', 'game', 'which', 'will'),\n",
              " ('PS4', 'game', 'which', 'will', 'be'),\n",
              " ('game', 'which', 'will', 'be', 'a'),\n",
              " ('which', 'will', 'be', 'a', 'part'),\n",
              " ('will', 'be', 'a', 'part', 'of'),\n",
              " ('be', 'a', 'part', 'of', 'the'),\n",
              " ('a', 'part', 'of', 'the', 'line-up'),\n",
              " ('part', 'of', 'the', 'line-up', 'will'),\n",
              " ('of', 'the', 'line-up', 'will', 'be'),\n",
              " ('the', 'line-up', 'will', 'be', 'revealed'),\n",
              " ('line-up', 'will', 'be', 'revealed', 'later'),\n",
              " ('will', 'be', 'revealed', 'later', 'this'),\n",
              " ('be', 'revealed', 'later', 'this', 'week'),\n",
              " ('revealed', 'later', 'this', 'week', '.'),\n",
              " ('later', 'this', 'week', '.', 'We'),\n",
              " ('this', 'week', '.', 'We', 'will'),\n",
              " ('week', '.', 'We', 'will', ','),\n",
              " ('.', 'We', 'will', ',', 'of'),\n",
              " ('We', 'will', ',', 'of', 'course'),\n",
              " ('will', ',', 'of', 'course', ','),\n",
              " (',', 'of', 'course', ',', 'bring'),\n",
              " ('of', 'course', ',', 'bring', 'you'),\n",
              " ('course', ',', 'bring', 'you', 'confirmation'),\n",
              " (',', 'bring', 'you', 'confirmation', 'of'),\n",
              " ('bring', 'you', 'confirmation', 'of', 'that'),\n",
              " ('you', 'confirmation', 'of', 'that', 'second'),\n",
              " ('confirmation', 'of', 'that', 'second', 'title'),\n",
              " ('of', 'that', 'second', 'title', 'here'),\n",
              " ('that', 'second', 'title', 'here', 'on'),\n",
              " ('second', 'title', 'here', 'on', 'Push'),\n",
              " ('title', 'here', 'on', 'Push', 'Square'),\n",
              " ('here', 'on', 'Push', 'Square', 'when'),\n",
              " ('on', 'Push', 'Square', 'when', 'the'),\n",
              " ('Push', 'Square', 'when', 'the', 'news'),\n",
              " ('Square', 'when', 'the', 'news', 'breaks'),\n",
              " ('when', 'the', 'news', 'breaks', '.')]"
            ]
          },
          "metadata": {},
          "execution_count": 8
        }
      ]
    },
    {
      "cell_type": "markdown",
      "metadata": {
        "id": "szzBfMREzNBd"
      },
      "source": [
        "# STEMMING"
      ]
    },
    {
      "cell_type": "markdown",
      "metadata": {
        "id": "pd2LA2HgzRl7"
      },
      "source": [
        "Stemming is the process of converting words into its root form. for example the root word of study, studies and studying is studi, but the main problem with stemming is that the root word may not be an english word because most of the roots are greek or roman.\n",
        "\n",
        "There are three types of stemming algorithms:\n",
        "1. Porter\n",
        "2. Lancaster\n",
        "3. Snow Ball"
      ]
    },
    {
      "cell_type": "code",
      "source": [
        "from nltk.stem import PorterStemmer,LancasterStemmer,SnowballStemmer\n",
        "pst = PorterStemmer()\n",
        "lst = LancasterStemmer()\n",
        "sst = SnowballStemmer('english',ignore_stopwords=False)\n",
        "print('Snowball Stemmer')\n",
        "for words in tokens:\n",
        "  print(words + ':' + sst.stem(words))"
      ],
      "metadata": {
        "colab": {
          "base_uri": "https://localhost:8080/"
        },
        "id": "SbguiHQmVdmC",
        "outputId": "6c8a9eaf-2644-486d-d690-c6c25625bafe"
      },
      "execution_count": null,
      "outputs": [
        {
          "output_type": "stream",
          "name": "stdout",
          "text": [
            "Snowball Stemmer\n",
            "The:the\n",
            "quick:quick\n",
            "brown:brown\n",
            "fox:fox\n",
            "jumps:jump\n",
            "over:over\n",
            "the:the\n",
            "lazy:lazi\n",
            "dog:dog\n"
          ]
        }
      ]
    },
    {
      "cell_type": "code",
      "metadata": {
        "id": "2VtR8nqMuzy-",
        "colab": {
          "base_uri": "https://localhost:8080/"
        },
        "outputId": "a086b6c7-a49e-4492-c793-385423ec2f43"
      },
      "source": [
        "from nltk.stem import PorterStemmer,LancasterStemmer,SnowballStemmer\n",
        "pst = PorterStemmer()\n",
        "lst = LancasterStemmer()\n",
        "sst = SnowballStemmer('english',ignore_stopwords=False)\n",
        "print('Porter Stemmer')\n",
        "for words in tokens:\n",
        "  print(words + ':' + pst.stem(words))"
      ],
      "execution_count": null,
      "outputs": [
        {
          "output_type": "stream",
          "name": "stdout",
          "text": [
            "Porter Stemmer\n",
            "This:thi\n",
            "is:is\n",
            "a:a\n",
            "bit:bit\n",
            "of:of\n",
            "an:an\n",
            "odd:odd\n",
            "one:one\n",
            ",:,\n",
            "but:but\n",
            "welcome:welcom\n",
            "nonetheless:nonetheless\n",
            ".:.\n",
            "Sony:soni\n",
            "has:ha\n",
            "announced:announc\n",
            "one:one\n",
            "of:of\n",
            "the:the\n",
            "PlayStation:playstat\n",
            "4:4\n",
            "games:game\n",
            "which:which\n",
            "will:will\n",
            "make:make\n",
            "up:up\n",
            "PlayStation:playstat\n",
            "Plus:plu\n",
            "':'\n",
            "line-up:line-up\n",
            "for:for\n",
            "June:june\n",
            "2020:2020\n",
            "early:earli\n",
            "in:in\n",
            "a:a\n",
            "tweet:tweet\n",
            ".:.\n",
            "It:it\n",
            "'s:'s\n",
            "Call:call\n",
            "of:of\n",
            "Duty:duti\n",
            ":::\n",
            "WWII:wwii\n",
            ".:.\n",
            "Quite:quit\n",
            "the:the\n",
            "big:big\n",
            "addition:addit\n",
            ",:,\n",
            "is:is\n",
            "n't:n't\n",
            "it:it\n",
            "?:?\n",
            "The:the\n",
            "Japanese:japanes\n",
            "giant:giant\n",
            "states:state\n",
            "that:that\n",
            "the:the\n",
            "other:other\n",
            "PS4:ps4\n",
            "game:game\n",
            "which:which\n",
            "will:will\n",
            "be:be\n",
            "a:a\n",
            "part:part\n",
            "of:of\n",
            "the:the\n",
            "line-up:line-up\n",
            "will:will\n",
            "be:be\n",
            "revealed:reveal\n",
            "later:later\n",
            "this:thi\n",
            "week:week\n",
            ".:.\n",
            "We:we\n",
            "will:will\n",
            ",:,\n",
            "of:of\n",
            "course:cours\n",
            ",:,\n",
            "bring:bring\n",
            "you:you\n",
            "confirmation:confirm\n",
            "of:of\n",
            "that:that\n",
            "second:second\n",
            "title:titl\n",
            "here:here\n",
            "on:on\n",
            "Push:push\n",
            "Square:squar\n",
            "when:when\n",
            "the:the\n",
            "news:news\n",
            "breaks:break\n",
            ".:.\n"
          ]
        }
      ]
    },
    {
      "cell_type": "code",
      "metadata": {
        "id": "WGbS8Tcs3yMT",
        "colab": {
          "base_uri": "https://localhost:8080/"
        },
        "outputId": "877488e7-34b6-482a-84a3-3aae022e065e"
      },
      "source": [
        "print('Lancaster Stemmer')\n",
        "for words in tokens:\n",
        "  print(words + ':' + lst.stem(words))"
      ],
      "execution_count": null,
      "outputs": [
        {
          "output_type": "stream",
          "name": "stdout",
          "text": [
            "Lancaster Stemmer\n",
            "This:thi\n",
            "is:is\n",
            "a:a\n",
            "bit:bit\n",
            "of:of\n",
            "an:an\n",
            "odd:od\n",
            "one:on\n",
            ",:,\n",
            "but:but\n",
            "welcome:welcom\n",
            "nonetheless:nonetheless\n",
            ".:.\n",
            "Sony:sony\n",
            "has:has\n",
            "announced:annount\n",
            "one:on\n",
            "of:of\n",
            "the:the\n",
            "PlayStation:playst\n",
            "4:4\n",
            "games:gam\n",
            "which:which\n",
            "will:wil\n",
            "make:mak\n",
            "up:up\n",
            "PlayStation:playst\n",
            "Plus:plu\n",
            "':'\n",
            "line-up:line-up\n",
            "for:for\n",
            "June:jun\n",
            "2020:2020\n",
            "early:ear\n",
            "in:in\n",
            "a:a\n",
            "tweet:tweet\n",
            ".:.\n",
            "It:it\n",
            "'s:'s\n",
            "Call:cal\n",
            "of:of\n",
            "Duty:duty\n",
            ":::\n",
            "WWII:wwi\n",
            ".:.\n",
            "Quite:quit\n",
            "the:the\n",
            "big:big\n",
            "addition:addit\n",
            ",:,\n",
            "is:is\n",
            "n't:n't\n",
            "it:it\n",
            "?:?\n",
            "The:the\n",
            "Japanese:japanes\n",
            "giant:giant\n",
            "states:stat\n",
            "that:that\n",
            "the:the\n",
            "other:oth\n",
            "PS4:ps4\n",
            "game:gam\n",
            "which:which\n",
            "will:wil\n",
            "be:be\n",
            "a:a\n",
            "part:part\n",
            "of:of\n",
            "the:the\n",
            "line-up:line-up\n",
            "will:wil\n",
            "be:be\n",
            "revealed:rev\n",
            "later:lat\n",
            "this:thi\n",
            "week:week\n",
            ".:.\n",
            "We:we\n",
            "will:wil\n",
            ",:,\n",
            "of:of\n",
            "course:cours\n",
            ",:,\n",
            "bring:bring\n",
            "you:you\n",
            "confirmation:confirm\n",
            "of:of\n",
            "that:that\n",
            "second:second\n",
            "title:titl\n",
            "here:her\n",
            "on:on\n",
            "Push:push\n",
            "Square:squ\n",
            "when:when\n",
            "the:the\n",
            "news:new\n",
            "breaks:break\n",
            ".:.\n"
          ]
        }
      ]
    },
    {
      "cell_type": "code",
      "metadata": {
        "id": "j9aI3Svb4bGp",
        "colab": {
          "base_uri": "https://localhost:8080/"
        },
        "outputId": "571b1f6a-b440-4fa1-b06f-588f9c2efc0c"
      },
      "source": [
        "print('Snowball Stemmer')\n",
        "for words in tokens:\n",
        "  print(words + ':' + sst.stem(words))"
      ],
      "execution_count": null,
      "outputs": [
        {
          "output_type": "stream",
          "name": "stdout",
          "text": [
            "Snowball Stemmer\n",
            "This:this\n",
            "is:is\n",
            "a:a\n",
            "bit:bit\n",
            "of:of\n",
            "an:an\n",
            "odd:odd\n",
            "one:one\n",
            ",:,\n",
            "but:but\n",
            "welcome:welcom\n",
            "nonetheless:nonetheless\n",
            ".:.\n",
            "Sony:soni\n",
            "has:has\n",
            "announced:announc\n",
            "one:one\n",
            "of:of\n",
            "the:the\n",
            "PlayStation:playstat\n",
            "4:4\n",
            "games:game\n",
            "which:which\n",
            "will:will\n",
            "make:make\n",
            "up:up\n",
            "PlayStation:playstat\n",
            "Plus:plus\n",
            "':'\n",
            "line-up:line-up\n",
            "for:for\n",
            "June:june\n",
            "2020:2020\n",
            "early:earli\n",
            "in:in\n",
            "a:a\n",
            "tweet:tweet\n",
            ".:.\n",
            "It:it\n",
            "'s:'s\n",
            "Call:call\n",
            "of:of\n",
            "Duty:duti\n",
            ":::\n",
            "WWII:wwii\n",
            ".:.\n",
            "Quite:quit\n",
            "the:the\n",
            "big:big\n",
            "addition:addit\n",
            ",:,\n",
            "is:is\n",
            "n't:n't\n",
            "it:it\n",
            "?:?\n",
            "The:the\n",
            "Japanese:japanes\n",
            "giant:giant\n",
            "states:state\n",
            "that:that\n",
            "the:the\n",
            "other:other\n",
            "PS4:ps4\n",
            "game:game\n",
            "which:which\n",
            "will:will\n",
            "be:be\n",
            "a:a\n",
            "part:part\n",
            "of:of\n",
            "the:the\n",
            "line-up:line-up\n",
            "will:will\n",
            "be:be\n",
            "revealed:reveal\n",
            "later:later\n",
            "this:this\n",
            "week:week\n",
            ".:.\n",
            "We:we\n",
            "will:will\n",
            ",:,\n",
            "of:of\n",
            "course:cours\n",
            ",:,\n",
            "bring:bring\n",
            "you:you\n",
            "confirmation:confirm\n",
            "of:of\n",
            "that:that\n",
            "second:second\n",
            "title:titl\n",
            "here:here\n",
            "on:on\n",
            "Push:push\n",
            "Square:squar\n",
            "when:when\n",
            "the:the\n",
            "news:news\n",
            "breaks:break\n",
            ".:.\n"
          ]
        }
      ]
    },
    {
      "cell_type": "markdown",
      "metadata": {
        "id": "FhZfBpzg7S0k"
      },
      "source": [
        "# LEMMATIZATION"
      ]
    },
    {
      "cell_type": "markdown",
      "metadata": {
        "id": "R_PcWA7t7aIf"
      },
      "source": [
        "Lemmatization is similar to stemming the only difference is of the output of the two. the output of lemmatization will always be an english word and because of this reason we should always prefer lemmatization over Stemming."
      ]
    },
    {
      "cell_type": "code",
      "metadata": {
        "id": "eRH5nzoc4e6x",
        "colab": {
          "base_uri": "https://localhost:8080/"
        },
        "outputId": "e8ed1a0f-f4d8-443b-f14d-3a2c6f9034f9"
      },
      "source": [
        "nltk.download('wordnet')\n",
        "nltk.download('omw-1.4')\n",
        "from nltk.stem import wordnet, WordNetLemmatizer\n",
        "wlt = WordNetLemmatizer()\n",
        "print('Wordnet Lemmatizer')\n",
        "for words in tokens:\n",
        "  print(words + \":\" + wlt.lemmatize(words))"
      ],
      "execution_count": null,
      "outputs": [
        {
          "output_type": "stream",
          "name": "stderr",
          "text": [
            "[nltk_data] Downloading package wordnet to /root/nltk_data...\n",
            "[nltk_data] Downloading package omw-1.4 to /root/nltk_data...\n"
          ]
        },
        {
          "output_type": "stream",
          "name": "stdout",
          "text": [
            "Wordnet Lemmatizer\n",
            "The:The\n",
            "quick:quick\n",
            "brown:brown\n",
            "fox:fox\n",
            "jumps:jump\n",
            "over:over\n",
            "the:the\n",
            "lazy:lazy\n",
            "dog:dog\n"
          ]
        }
      ]
    },
    {
      "cell_type": "markdown",
      "metadata": {
        "id": "Z3W_Plmc9Lqi"
      },
      "source": [
        "# STOP WORDS"
      ]
    },
    {
      "cell_type": "markdown",
      "metadata": {
        "id": "9Cnx_CWs9Pb8"
      },
      "source": [
        "Most common words that we use in a sentence to form we can ignore when using NLP because it will decrease the size of the data and thereby, we can increase the computational power and also, these words don't possess any change in meaning this is the reason we can ignore stop words."
      ]
    },
    {
      "cell_type": "code",
      "metadata": {
        "id": "r3Bz-hE18bFZ",
        "colab": {
          "base_uri": "https://localhost:8080/"
        },
        "outputId": "ce3b4dff-738d-4217-95d0-c3737d6f352b"
      },
      "source": [
        "nltk.download('stopwords')\n",
        "from nltk.corpus import stopwords"
      ],
      "execution_count": null,
      "outputs": [
        {
          "output_type": "stream",
          "name": "stderr",
          "text": [
            "[nltk_data] Downloading package stopwords to /root/nltk_data...\n",
            "[nltk_data]   Unzipping corpora/stopwords.zip.\n"
          ]
        }
      ]
    },
    {
      "cell_type": "code",
      "metadata": {
        "id": "v0TKJgLD91KO",
        "colab": {
          "base_uri": "https://localhost:8080/"
        },
        "outputId": "b0fdefbb-3cdc-40c9-e898-ad3f024c9865"
      },
      "source": [
        "stoplist = stopwords.words('english')\n",
        "print(stoplist)"
      ],
      "execution_count": null,
      "outputs": [
        {
          "output_type": "stream",
          "name": "stdout",
          "text": [
            "['a', 'about', 'above', 'after', 'again', 'against', 'ain', 'all', 'am', 'an', 'and', 'any', 'are', 'aren', \"aren't\", 'as', 'at', 'be', 'because', 'been', 'before', 'being', 'below', 'between', 'both', 'but', 'by', 'can', 'couldn', \"couldn't\", 'd', 'did', 'didn', \"didn't\", 'do', 'does', 'doesn', \"doesn't\", 'doing', 'don', \"don't\", 'down', 'during', 'each', 'few', 'for', 'from', 'further', 'had', 'hadn', \"hadn't\", 'has', 'hasn', \"hasn't\", 'have', 'haven', \"haven't\", 'having', 'he', \"he'd\", \"he'll\", 'her', 'here', 'hers', 'herself', \"he's\", 'him', 'himself', 'his', 'how', 'i', \"i'd\", 'if', \"i'll\", \"i'm\", 'in', 'into', 'is', 'isn', \"isn't\", 'it', \"it'd\", \"it'll\", \"it's\", 'its', 'itself', \"i've\", 'just', 'll', 'm', 'ma', 'me', 'mightn', \"mightn't\", 'more', 'most', 'mustn', \"mustn't\", 'my', 'myself', 'needn', \"needn't\", 'no', 'nor', 'not', 'now', 'o', 'of', 'off', 'on', 'once', 'only', 'or', 'other', 'our', 'ours', 'ourselves', 'out', 'over', 'own', 're', 's', 'same', 'shan', \"shan't\", 'she', \"she'd\", \"she'll\", \"she's\", 'should', 'shouldn', \"shouldn't\", \"should've\", 'so', 'some', 'such', 't', 'than', 'that', \"that'll\", 'the', 'their', 'theirs', 'them', 'themselves', 'then', 'there', 'these', 'they', \"they'd\", \"they'll\", \"they're\", \"they've\", 'this', 'those', 'through', 'to', 'too', 'under', 'until', 'up', 've', 'very', 'was', 'wasn', \"wasn't\", 'we', \"we'd\", \"we'll\", \"we're\", 'were', 'weren', \"weren't\", \"we've\", 'what', 'when', 'where', 'which', 'while', 'who', 'whom', 'why', 'will', 'with', 'won', \"won't\", 'wouldn', \"wouldn't\", 'y', 'you', \"you'd\", \"you'll\", 'your', \"you're\", 'yours', 'yourself', 'yourselves', \"you've\"]\n"
          ]
        }
      ]
    },
    {
      "cell_type": "code",
      "metadata": {
        "id": "lA3l7NQD-aWy",
        "colab": {
          "base_uri": "https://localhost:8080/"
        },
        "outputId": "cec2217d-a3d9-441a-ba07-f23d35dd7de0"
      },
      "source": [
        "len(stoplist)"
      ],
      "execution_count": null,
      "outputs": [
        {
          "output_type": "execute_result",
          "data": {
            "text/plain": [
              "198"
            ]
          },
          "metadata": {},
          "execution_count": 29
        }
      ]
    },
    {
      "cell_type": "code",
      "source": [
        "sentence = sentence.lower()"
      ],
      "metadata": {
        "id": "_rlCmtLtYZ1O"
      },
      "execution_count": null,
      "outputs": []
    },
    {
      "cell_type": "code",
      "source": [
        "tokens = nltk.word_tokenize(sentence,language='english')"
      ],
      "metadata": {
        "id": "f9nsHuk9Y0t3"
      },
      "execution_count": null,
      "outputs": []
    },
    {
      "cell_type": "code",
      "source": [
        "#remove stopwords from the sentence\n",
        "for words in tokens:\n",
        "  if words not in stoplist:\n",
        "    print(words)"
      ],
      "metadata": {
        "colab": {
          "base_uri": "https://localhost:8080/"
        },
        "id": "a9N3J4TGYUGZ",
        "outputId": "db6fae64-95bb-4912-9c1c-303a34342669"
      },
      "execution_count": null,
      "outputs": [
        {
          "output_type": "stream",
          "name": "stdout",
          "text": [
            "quick\n",
            "brown\n",
            "fox\n",
            "jumps\n",
            "lazy\n",
            "dog\n"
          ]
        }
      ]
    },
    {
      "cell_type": "code",
      "source": [],
      "metadata": {
        "id": "w0kAOOgLYq9M"
      },
      "execution_count": null,
      "outputs": []
    },
    {
      "cell_type": "code",
      "metadata": {
        "id": "S3xj0oBw-9L4"
      },
      "source": [
        "from nltk.probability import FreqDist"
      ],
      "execution_count": null,
      "outputs": []
    },
    {
      "cell_type": "code",
      "metadata": {
        "id": "z7qx67sm_Ulx",
        "colab": {
          "base_uri": "https://localhost:8080/"
        },
        "outputId": "19009d31-cb67-4f5a-e259-8a39c51c1e22"
      },
      "source": [
        "fdist = FreqDist(word.lower() for word in nltk.word_tokenize(sentence))\n",
        "fdist"
      ],
      "execution_count": null,
      "outputs": [
        {
          "output_type": "execute_result",
          "data": {
            "text/plain": [
              "FreqDist({\"'\": 1,\n",
              "          \"'s\": 1,\n",
              "          ',': 4,\n",
              "          '.': 5,\n",
              "          '2020': 1,\n",
              "          '4': 1,\n",
              "          ':': 1,\n",
              "          '?': 1,\n",
              "          'a': 3,\n",
              "          'addition': 1,\n",
              "          'an': 1,\n",
              "          'announced': 1,\n",
              "          'be': 2,\n",
              "          'big': 1,\n",
              "          'bit': 1,\n",
              "          'breaks': 1,\n",
              "          'bring': 1,\n",
              "          'but': 1,\n",
              "          'call': 1,\n",
              "          'confirmation': 1,\n",
              "          'course': 1,\n",
              "          'duty': 1,\n",
              "          'early': 1,\n",
              "          'for': 1,\n",
              "          'game': 1,\n",
              "          'games': 1,\n",
              "          'giant': 1,\n",
              "          'has': 1,\n",
              "          'here': 1,\n",
              "          'in': 1,\n",
              "          'is': 2,\n",
              "          'it': 2,\n",
              "          'japanese': 1,\n",
              "          'june': 1,\n",
              "          'later': 1,\n",
              "          'line-up': 2,\n",
              "          'make': 1,\n",
              "          \"n't\": 1,\n",
              "          'news': 1,\n",
              "          'nonetheless': 1,\n",
              "          'odd': 1,\n",
              "          'of': 6,\n",
              "          'on': 1,\n",
              "          'one': 2,\n",
              "          'other': 1,\n",
              "          'part': 1,\n",
              "          'playstation': 2,\n",
              "          'plus': 1,\n",
              "          'ps4': 1,\n",
              "          'push': 1,\n",
              "          'quite': 1,\n",
              "          'revealed': 1,\n",
              "          'second': 1,\n",
              "          'sony': 1,\n",
              "          'square': 1,\n",
              "          'states': 1,\n",
              "          'that': 2,\n",
              "          'the': 6,\n",
              "          'this': 2,\n",
              "          'title': 1,\n",
              "          'tweet': 1,\n",
              "          'up': 1,\n",
              "          'we': 1,\n",
              "          'week': 1,\n",
              "          'welcome': 1,\n",
              "          'when': 1,\n",
              "          'which': 2,\n",
              "          'will': 4,\n",
              "          'wwii': 1,\n",
              "          'you': 1})"
            ]
          },
          "metadata": {},
          "execution_count": 17
        }
      ]
    },
    {
      "cell_type": "markdown",
      "metadata": {
        "id": "SkTF2rbTrxLL"
      },
      "source": [
        "# Regular Expression (regex)"
      ]
    },
    {
      "cell_type": "markdown",
      "metadata": {
        "id": "LE92vE0er3ma"
      },
      "source": [
        "Regular expressions are used to filter out sentences from an unstructured form of text. for example, taking out date and time from a system log file,taking out e-mail address or we can remove numbers from out text. So, basically with the help of regular expression we can process our text very easily."
      ]
    },
    {
      "cell_type": "code",
      "metadata": {
        "id": "wUFaykbIpNyZ",
        "colab": {
          "base_uri": "https://localhost:8080/"
        },
        "outputId": "d2480277-8242-4e58-e563-df9ad6a0694f"
      },
      "source": [
        "import re\n",
        "if re.search('data','data is increasing exponentially'):\n",
        "  print('data is there')"
      ],
      "execution_count": null,
      "outputs": [
        {
          "output_type": "stream",
          "name": "stdout",
          "text": [
            "data is there\n"
          ]
        }
      ]
    },
    {
      "cell_type": "code",
      "metadata": {
        "id": "szYde9Wc4aAS",
        "colab": {
          "base_uri": "https://localhost:8080/"
        },
        "outputId": "0c7c6db9-a971-42b1-b3cd-aa169fdbb52e"
      },
      "source": [
        "str = \"cat,mat,bat\"\n",
        "str_new = re.findall(\"[cmb]at\",str)\n",
        "print(str_new)"
      ],
      "execution_count": null,
      "outputs": [
        {
          "output_type": "stream",
          "name": "stdout",
          "text": [
            "['cat', 'mat', 'bat']\n"
          ]
        }
      ]
    },
    {
      "cell_type": "code",
      "metadata": {
        "id": "t3sB6kRZSHJu",
        "colab": {
          "base_uri": "https://localhost:8080/"
        },
        "outputId": "6a5ba580-52de-4521-9403-bb933ee16d35"
      },
      "source": [
        "str_range = re.findall(\"[a-h]at\",str)\n",
        "print(str_range)"
      ],
      "execution_count": null,
      "outputs": [
        {
          "output_type": "stream",
          "name": "stdout",
          "text": [
            "['cat', 'bat']\n"
          ]
        }
      ]
    },
    {
      "cell_type": "code",
      "metadata": {
        "id": "h_ivY6A8S5y8",
        "colab": {
          "base_uri": "https://localhost:8080/"
        },
        "outputId": "4d7a7b12-e479-4dc6-b673-7dc3978ffabc"
      },
      "source": [
        "str_range_new  = re.findall(\"[^a-h]at\",str)\n",
        "print(str_range_new)"
      ],
      "execution_count": null,
      "outputs": [
        {
          "output_type": "stream",
          "name": "stdout",
          "text": [
            "['mat']\n"
          ]
        }
      ]
    },
    {
      "cell_type": "code",
      "metadata": {
        "id": "U-Bj2aj3TUO9",
        "colab": {
          "base_uri": "https://localhost:8080/"
        },
        "outputId": "bd47d56c-5737-49de-e031-8bd76ee368f2"
      },
      "source": [
        "str = \"cat mat rat bat\"\n",
        "#now how to replace mat with swag\n",
        "regex = re.compile('[m]at')\n",
        "str_new = regex.sub('swag',str)\n",
        "print(str_new)"
      ],
      "execution_count": null,
      "outputs": [
        {
          "output_type": "stream",
          "name": "stdout",
          "text": [
            "cat swag rat bat\n"
          ]
        }
      ]
    },
    {
      "cell_type": "code",
      "metadata": {
        "id": "-3Tyy-VZVCaS",
        "colab": {
          "base_uri": "https://localhost:8080/"
        },
        "outputId": "e20816f3-32cc-41df-e00e-8e4df88da604"
      },
      "source": [
        "str_bday = '''\n",
        "Happy Birthday to You\n",
        "Happy Birthday to You\n",
        "Happy Birthday Dear Shubham\n",
        "Happy Birthday to You.\n",
        "\n",
        "From good friends and true,\n",
        "From old friends and new,\n",
        "May good luck go with you,\n",
        "And happiness too.\n",
        "'''\n",
        "regex = re.compile('\\n') # \\n represents next line\n",
        "str_bday = regex.sub(\" \",str_bday)\n",
        "print(str_bday)"
      ],
      "execution_count": null,
      "outputs": [
        {
          "output_type": "stream",
          "name": "stdout",
          "text": [
            " Happy Birthday to You Happy Birthday to You Happy Birthday Dear Shubham Happy Birthday to You.  From good friends and true, From old friends and new, May good luck go with you, And happiness too. \n"
          ]
        }
      ]
    },
    {
      "cell_type": "code",
      "metadata": {
        "id": "tyUs8gJNYld7",
        "colab": {
          "base_uri": "https://localhost:8080/"
        },
        "outputId": "d48a6f60-4ad0-4792-bf44-a622c54e7960"
      },
      "source": [
        "# \\d represents numbers and \\D represents anything but numbers\n",
        "str_num = \"12345\"\n",
        "str_num_new = re.findall(\"\\d\",str_num)\n",
        "str_num_new"
      ],
      "execution_count": null,
      "outputs": [
        {
          "output_type": "execute_result",
          "data": {
            "text/plain": [
              "['1', '2', '3', '4', '5']"
            ]
          },
          "metadata": {},
          "execution_count": 24
        }
      ]
    },
    {
      "cell_type": "code",
      "metadata": {
        "id": "Xdaj5g-pbkcQ",
        "colab": {
          "base_uri": "https://localhost:8080/"
        },
        "outputId": "f248dce8-5f39-4582-8e51-296770578fa3"
      },
      "source": [
        "str_no_num = re.findall(\"\\D\",str_num)\n",
        "str_no_num"
      ],
      "execution_count": null,
      "outputs": [
        {
          "output_type": "execute_result",
          "data": {
            "text/plain": [
              "[]"
            ]
          },
          "metadata": {},
          "execution_count": 25
        }
      ]
    },
    {
      "cell_type": "code",
      "metadata": {
        "id": "WUOkv_-UbsYn",
        "colab": {
          "base_uri": "https://localhost:8080/"
        },
        "outputId": "2923232e-1a96-47ea-ef26-bb711c7299bc"
      },
      "source": [
        "num = \"123 1234 12345 123456 1234567 12345678\"\n",
        "print(re.findall(\"\\d{4,7}\",num))"
      ],
      "execution_count": null,
      "outputs": [
        {
          "output_type": "stream",
          "name": "stdout",
          "text": [
            "['1234', '12345', '123456', '1234567', '1234567']\n"
          ]
        }
      ]
    },
    {
      "cell_type": "code",
      "metadata": {
        "id": "uyo2GxLsej8s",
        "colab": {
          "base_uri": "https://localhost:8080/"
        },
        "outputId": "57626ffb-528e-46c2-b6ad-f2dd457a79e0"
      },
      "source": [
        " # \\w represents [a-zA-z0-9_] and \\W represents anything but w [^a-zA-Z0-9_]\n",
        " phone = \"123-456-1290\"\n",
        " if re.search(\"\\w{3}-\\w{3}-\\w{4}\",phone):\n",
        "   print('yes it is a number')"
      ],
      "execution_count": null,
      "outputs": [
        {
          "output_type": "stream",
          "name": "stdout",
          "text": [
            "yes it is a number\n"
          ]
        }
      ]
    },
    {
      "cell_type": "code",
      "metadata": {
        "id": "XlXeSyBRk7JG",
        "colab": {
          "base_uri": "https://localhost:8080/"
        },
        "outputId": "608e7ce2-0e05-4ff5-dca4-110a484e60b8"
      },
      "source": [
        "# \\s represents [\\f\\n\\r\\t\\v] and \\S represents [^\\f\\n\\r\\t\\v]\n",
        "if re.search('\\w{2,10}\\s\\w{2,10}',\"SHUBHAM MITTAL\"):\n",
        "  print('It is my Name')"
      ],
      "execution_count": null,
      "outputs": [
        {
          "output_type": "stream",
          "name": "stdout",
          "text": [
            "It is my Name\n"
          ]
        }
      ]
    },
    {
      "cell_type": "code",
      "metadata": {
        "id": "bzeXetm7mtXF",
        "colab": {
          "base_uri": "https://localhost:8080/"
        },
        "outputId": "5fbc33af-a57a-4183-a878-e604b35b0b78"
      },
      "source": [
        "# Check Email address\n",
        "if re.search(\"[\\w._%+]{2,20}@[\\w.-]{2,10}\",\"shubhammittal1992@gmail.com\"):\n",
        "  print(\"email is valid\")"
      ],
      "execution_count": null,
      "outputs": [
        {
          "output_type": "stream",
          "name": "stdout",
          "text": [
            "email is valid\n"
          ]
        }
      ]
    },
    {
      "cell_type": "code",
      "metadata": {
        "id": "RdiH7pS2oZRq",
        "colab": {
          "base_uri": "https://localhost:8080/",
          "height": 52
        },
        "outputId": "31f126fd-62a3-44bf-eab4-2f601b24b479"
      },
      "source": [
        "#Web scraping using Regular expression\n",
        "'''\n",
        "import urllib.request\n",
        "from re import findall\n",
        "url = https://www.summet.com/dmsi/html/codesamples/addresses/.html\n",
        "response = urllib.request.urlopen(url)\n",
        "html = response.read()\n",
        "html_str = html.decode()\n",
        "data = findall(\"\\(\\d{3}\\)-\\d{3}-\\d{4}\",html_str)\n",
        "print(data)\n",
        "'''"
      ],
      "execution_count": null,
      "outputs": [
        {
          "output_type": "execute_result",
          "data": {
            "text/plain": [
              "'\\nimport urllib.request\\nfrom re import findall\\nurl = https://www.summet.com/dmsi/html/codesamples/addresses/.html\\nresponse = urllib.request.urlopen(url)\\nhtml = response.read()\\nhtml_str = html.decode()\\ndata = findall(\"\\\\(\\\\d{3}\\\\)-\\\\d{3}-\\\\d{4}\",html_str)\\nprint(data)\\n'"
            ],
            "application/vnd.google.colaboratory.intrinsic+json": {
              "type": "string"
            }
          },
          "metadata": {},
          "execution_count": 30
        }
      ]
    },
    {
      "cell_type": "code",
      "metadata": {
        "id": "x0-8GfN2qLvs",
        "colab": {
          "base_uri": "https://localhost:8080/",
          "height": 87
        },
        "outputId": "a117a3d9-8c9d-4c11-e9a2-ccfd94b12ba3"
      },
      "source": [
        "Punctuation = re.compile(r\"[-.?,!()|0-9]\")\n",
        "new_str = Punctuation.sub(\"\",sentence)\n",
        "new_str"
      ],
      "execution_count": null,
      "outputs": [
        {
          "output_type": "execute_result",
          "data": {
            "text/plain": [
              "\"This is a bit of an odd one but welcome nonetheless Sony has announced one of the PlayStation  games which will make up PlayStation Plus' lineup for June  early in a tweet It's Call of Duty: WWII Quite the big addition isn't it The Japanese giant states that the other PS game which will be a part of the lineup will be revealed later this week We will of course bring you confirmation of that second title here on Push Square when the news breaks\""
            ],
            "application/vnd.google.colaboratory.intrinsic+json": {
              "type": "string"
            }
          },
          "metadata": {},
          "execution_count": 31
        }
      ]
    },
    {
      "cell_type": "code",
      "metadata": {
        "id": "vTuQhvK-CojK",
        "colab": {
          "base_uri": "https://localhost:8080/"
        },
        "outputId": "7c9ad72a-fe0b-41a8-d395-d7d535a9c453"
      },
      "source": [
        "len(nltk.word_tokenize(sentence))"
      ],
      "execution_count": null,
      "outputs": [
        {
          "output_type": "execute_result",
          "data": {
            "text/plain": [
              "101"
            ]
          },
          "metadata": {},
          "execution_count": 32
        }
      ]
    },
    {
      "cell_type": "code",
      "metadata": {
        "id": "3-3CeWGwC7DG",
        "colab": {
          "base_uri": "https://localhost:8080/"
        },
        "outputId": "163725ee-491a-462e-c31c-b5f15fb0e355"
      },
      "source": [
        "len(nltk.word_tokenize(new_str))"
      ],
      "execution_count": null,
      "outputs": [
        {
          "output_type": "execute_result",
          "data": {
            "text/plain": [
              "89"
            ]
          },
          "metadata": {},
          "execution_count": 33
        }
      ]
    },
    {
      "cell_type": "code",
      "metadata": {
        "id": "LFOj59M1DAZF",
        "colab": {
          "base_uri": "https://localhost:8080/",
          "height": 87
        },
        "outputId": "382be331-2578-4004-b4f2-7e79f319cf2c"
      },
      "source": [
        "sentence = sentence.lower()\n",
        "sentence"
      ],
      "execution_count": null,
      "outputs": [
        {
          "output_type": "execute_result",
          "data": {
            "text/plain": [
              "\"this is a bit of an odd one, but welcome nonetheless. sony has announced one of the playstation 4 games which will make up playstation plus' line-up for june 2020 early in a tweet. it's call of duty: wwii. quite the big addition, isn't it? the japanese giant states that the other ps4 game which will be a part of the line-up will be revealed later this week. we will, of course, bring you confirmation of that second title here on push square when the news breaks.\""
            ],
            "application/vnd.google.colaboratory.intrinsic+json": {
              "type": "string"
            }
          },
          "metadata": {},
          "execution_count": 34
        }
      ]
    },
    {
      "cell_type": "markdown",
      "metadata": {
        "id": "6i_B66dTEH0I"
      },
      "source": [
        "# Parts of Speech Tag (POS Tagging)"
      ]
    },
    {
      "cell_type": "markdown",
      "metadata": {
        "id": "Poq5xTkHES8h"
      },
      "source": [
        "Noun - a word (except a pronoun) that identifies a person, place or thing, or names one of them (proper noun) The simple definition is: a person, place or thing. Here are some examples: person: man, woman, teacher, John, Mary. place: home, office, town, countryside, America.\n",
        "\n",
        "Article - Articles are words that define a noun as specific or unspecific. Consider the following examples: After the long day, the cup of tea tasted particularly good. By using the article the, we've shown that it was one specific day that was long and one specific cup of tea that tasted good.\n",
        "\n",
        "Verb - A verb is a word or a combination of words that indicates action or a state of being or condition. A verb is the part of a sentence that tells us what the subject performs. Verbs are the hearts of English sentences. Examples: Jacob walks in the morning.\n",
        "\n",
        "Pronoun - Indefinite pronouns: one, other, none, some, anybody, everybody, no one. Reflexive pronouns: myself, yourself, himself, herself, itself, ourselves, yourselves, themselves. Possessive pronouns: my, your, its, his, her, our, their, whose. Interrogative pronouns: who, what, which, whose.\n",
        "\n",
        "Adjective -  Adjectives are words that are used to describe or modify nouns or pronouns. For example, red, quick, happy, and obnoxious are adjectives because they can describe things—a red hat, the quick rabbit, a happy duck, an obnoxious person.\n",
        "\n",
        "Adverb - Adverbs modify verbs, adjectives, or other adverbs. They can add to or change the meaning of a word. A great way to spot adverbs is to look for words that end in -ly.\n",
        "\n",
        "Conjunction - Conjunction is a word that joins words, phrases, clauses or sentence. e.g. but, and, yet, or, because, nor, although, since, unless, while, where etc. Examples: She bought a shirt and a book.\n",
        "\n",
        "Preposition - Prepositional phrases can function as either adjective phrases or adverb phrases to modify other words in a sentence. Common prepositional phrase examples include about, after, at, before, behind, by, during, for, from, in, of, over, past, to, under, up, and with.\n",
        "\n",
        "Interjection - An interjection is a word that expresses a strong emotion. It expresses emotion of joy, sorrow, excitement, wonder surprise, pain, sadness, happiness, and so on. Interjections are usually specific words such as 'Hurrah, Wow, Oh, Ouch, Huh'."
      ]
    },
    {
      "cell_type": "code",
      "metadata": {
        "id": "qTMUGSfIDQkb",
        "colab": {
          "base_uri": "https://localhost:8080/"
        },
        "outputId": "00509b5f-fcd0-4b89-b49a-e7adcf8589d2"
      },
      "source": [
        "nltk.download('averaged_perceptron_tagger')\n",
        "pos_tag = nltk.pos_tag(tokens)\n",
        "print(pos_tag)"
      ],
      "execution_count": null,
      "outputs": [
        {
          "output_type": "stream",
          "name": "stderr",
          "text": [
            "[nltk_data] Downloading package averaged_perceptron_tagger to\n",
            "[nltk_data]     /root/nltk_data...\n",
            "[nltk_data]   Unzipping taggers/averaged_perceptron_tagger.zip.\n"
          ]
        },
        {
          "output_type": "stream",
          "name": "stdout",
          "text": [
            "[('This', 'DT'), ('is', 'VBZ'), ('a', 'DT'), ('bit', 'NN'), ('of', 'IN'), ('an', 'DT'), ('odd', 'JJ'), ('one', 'CD'), (',', ','), ('but', 'CC'), ('welcome', 'JJ'), ('nonetheless', 'RB'), ('.', '.'), ('Sony', 'NNP'), ('has', 'VBZ'), ('announced', 'VBN'), ('one', 'CD'), ('of', 'IN'), ('the', 'DT'), ('PlayStation', 'NNP'), ('4', 'CD'), ('games', 'NNS'), ('which', 'WDT'), ('will', 'MD'), ('make', 'VB'), ('up', 'RP'), ('PlayStation', 'NNP'), ('Plus', 'NNP'), (\"'\", 'POS'), ('line-up', 'NN'), ('for', 'IN'), ('June', 'NNP'), ('2020', 'CD'), ('early', 'RB'), ('in', 'IN'), ('a', 'DT'), ('tweet', 'NN'), ('.', '.'), ('It', 'PRP'), (\"'s\", 'VBZ'), ('Call', 'NNP'), ('of', 'IN'), ('Duty', 'NN'), (':', ':'), ('WWII', 'NNP'), ('.', '.'), ('Quite', 'PDT'), ('the', 'DT'), ('big', 'JJ'), ('addition', 'NN'), (',', ','), ('is', 'VBZ'), (\"n't\", 'RB'), ('it', 'PRP'), ('?', '.'), ('The', 'DT'), ('Japanese', 'JJ'), ('giant', 'JJ'), ('states', 'NNS'), ('that', 'IN'), ('the', 'DT'), ('other', 'JJ'), ('PS4', 'NNP'), ('game', 'NN'), ('which', 'WDT'), ('will', 'MD'), ('be', 'VB'), ('a', 'DT'), ('part', 'NN'), ('of', 'IN'), ('the', 'DT'), ('line-up', 'NN'), ('will', 'MD'), ('be', 'VB'), ('revealed', 'VBN'), ('later', 'RB'), ('this', 'DT'), ('week', 'NN'), ('.', '.'), ('We', 'PRP'), ('will', 'MD'), (',', ','), ('of', 'IN'), ('course', 'NN'), (',', ','), ('bring', 'VBG'), ('you', 'PRP'), ('confirmation', 'NN'), ('of', 'IN'), ('that', 'DT'), ('second', 'JJ'), ('title', 'NN'), ('here', 'RB'), ('on', 'IN'), ('Push', 'NNP'), ('Square', 'NNP'), ('when', 'WRB'), ('the', 'DT'), ('news', 'NN'), ('breaks', 'NNS'), ('.', '.')]\n"
          ]
        }
      ]
    },
    {
      "cell_type": "markdown",
      "metadata": {
        "id": "9WTPObFS41HY"
      },
      "source": [
        "# NAMED ENTITY RECOGNITION"
      ]
    },
    {
      "cell_type": "markdown",
      "metadata": {
        "id": "t0DsHoxm4-v8"
      },
      "source": [
        "DATA Extraction task for finding and sorting into different categories like Name, place, Organisation, Date, Time , Location , Cardinal Numbers , Ordinal Numbers Etc."
      ]
    },
    {
      "cell_type": "code",
      "metadata": {
        "id": "mv4szcBm29Df",
        "colab": {
          "base_uri": "https://localhost:8080/"
        },
        "outputId": "51be5a01-803f-41d5-cec7-afd450832bb0"
      },
      "source": [
        "nltk.download('maxent_ne_chunker')\n",
        "nltk.download('words')"
      ],
      "execution_count": null,
      "outputs": [
        {
          "output_type": "stream",
          "name": "stderr",
          "text": [
            "[nltk_data] Downloading package maxent_ne_chunker to\n",
            "[nltk_data]     /root/nltk_data...\n",
            "[nltk_data]   Unzipping chunkers/maxent_ne_chunker.zip.\n",
            "[nltk_data] Downloading package words to /root/nltk_data...\n",
            "[nltk_data]   Unzipping corpora/words.zip.\n"
          ]
        },
        {
          "output_type": "execute_result",
          "data": {
            "text/plain": [
              "True"
            ]
          },
          "metadata": {},
          "execution_count": 36
        }
      ]
    },
    {
      "cell_type": "code",
      "metadata": {
        "id": "FKScwgNiHvUm",
        "colab": {
          "base_uri": "https://localhost:8080/"
        },
        "outputId": "6db126bf-3a8f-4c89-b2f5-6106dd56fbb5"
      },
      "source": [
        "for chunk in nltk.ne_chunk(pos_tag):\n",
        "  print(chunk)"
      ],
      "execution_count": null,
      "outputs": [
        {
          "output_type": "stream",
          "name": "stdout",
          "text": [
            "('This', 'DT')\n",
            "('is', 'VBZ')\n",
            "('a', 'DT')\n",
            "('bit', 'NN')\n",
            "('of', 'IN')\n",
            "('an', 'DT')\n",
            "('odd', 'JJ')\n",
            "('one', 'CD')\n",
            "(',', ',')\n",
            "('but', 'CC')\n",
            "('welcome', 'JJ')\n",
            "('nonetheless', 'RB')\n",
            "('.', '.')\n",
            "(PERSON Sony/NNP)\n",
            "('has', 'VBZ')\n",
            "('announced', 'VBN')\n",
            "('one', 'CD')\n",
            "('of', 'IN')\n",
            "('the', 'DT')\n",
            "(ORGANIZATION PlayStation/NNP)\n",
            "('4', 'CD')\n",
            "('games', 'NNS')\n",
            "('which', 'WDT')\n",
            "('will', 'MD')\n",
            "('make', 'VB')\n",
            "('up', 'RP')\n",
            "(ORGANIZATION PlayStation/NNP Plus/NNP)\n",
            "(\"'\", 'POS')\n",
            "('line-up', 'NN')\n",
            "('for', 'IN')\n",
            "('June', 'NNP')\n",
            "('2020', 'CD')\n",
            "('early', 'RB')\n",
            "('in', 'IN')\n",
            "('a', 'DT')\n",
            "('tweet', 'NN')\n",
            "('.', '.')\n",
            "('It', 'PRP')\n",
            "(\"'s\", 'VBZ')\n",
            "(ORGANIZATION Call/NNP)\n",
            "('of', 'IN')\n",
            "(GPE Duty/NN)\n",
            "(':', ':')\n",
            "('WWII', 'NNP')\n",
            "('.', '.')\n",
            "('Quite', 'PDT')\n",
            "('the', 'DT')\n",
            "('big', 'JJ')\n",
            "('addition', 'NN')\n",
            "(',', ',')\n",
            "('is', 'VBZ')\n",
            "(\"n't\", 'RB')\n",
            "('it', 'PRP')\n",
            "('?', '.')\n",
            "('The', 'DT')\n",
            "(GPE Japanese/JJ)\n",
            "('giant', 'JJ')\n",
            "('states', 'NNS')\n",
            "('that', 'IN')\n",
            "('the', 'DT')\n",
            "('other', 'JJ')\n",
            "(ORGANIZATION PS4/NNP)\n",
            "('game', 'NN')\n",
            "('which', 'WDT')\n",
            "('will', 'MD')\n",
            "('be', 'VB')\n",
            "('a', 'DT')\n",
            "('part', 'NN')\n",
            "('of', 'IN')\n",
            "('the', 'DT')\n",
            "('line-up', 'NN')\n",
            "('will', 'MD')\n",
            "('be', 'VB')\n",
            "('revealed', 'VBN')\n",
            "('later', 'RB')\n",
            "('this', 'DT')\n",
            "('week', 'NN')\n",
            "('.', '.')\n",
            "('We', 'PRP')\n",
            "('will', 'MD')\n",
            "(',', ',')\n",
            "('of', 'IN')\n",
            "('course', 'NN')\n",
            "(',', ',')\n",
            "('bring', 'VBG')\n",
            "('you', 'PRP')\n",
            "('confirmation', 'NN')\n",
            "('of', 'IN')\n",
            "('that', 'DT')\n",
            "('second', 'JJ')\n",
            "('title', 'NN')\n",
            "('here', 'RB')\n",
            "('on', 'IN')\n",
            "(PERSON Push/NNP Square/NNP)\n",
            "('when', 'WRB')\n",
            "('the', 'DT')\n",
            "('news', 'NN')\n",
            "('breaks', 'NNS')\n",
            "('.', '.')\n"
          ]
        }
      ]
    },
    {
      "cell_type": "markdown",
      "metadata": {
        "id": "9N4BCe0pTm_7"
      },
      "source": [
        "# Bag of Words Approach"
      ]
    },
    {
      "cell_type": "code",
      "metadata": {
        "id": "Df2VlnRxNsSz"
      },
      "source": [
        "review_1 = \"The movie was good and we really like it\"\n",
        "review_2 = \"The movie was good but ending was boring\"\n",
        "review_3 = \"We did not like the movie as it was too lengthy\""
      ],
      "execution_count": null,
      "outputs": []
    },
    {
      "cell_type": "code",
      "source": [
        "import nltk\n",
        "nltk.download('punkt')"
      ],
      "metadata": {
        "colab": {
          "base_uri": "https://localhost:8080/"
        },
        "id": "VtBi2WdwLZvO",
        "outputId": "5440a30d-b258-407b-870e-0f5260a9e55b"
      },
      "execution_count": null,
      "outputs": [
        {
          "output_type": "stream",
          "name": "stderr",
          "text": [
            "[nltk_data] Downloading package punkt to /root/nltk_data...\n",
            "[nltk_data]   Unzipping tokenizers/punkt.zip.\n"
          ]
        },
        {
          "output_type": "execute_result",
          "data": {
            "text/plain": [
              "True"
            ]
          },
          "metadata": {},
          "execution_count": 5
        }
      ]
    },
    {
      "cell_type": "code",
      "metadata": {
        "id": "kmuMC-W0UH9m"
      },
      "source": [
        "review_1_tokens = nltk.word_tokenize(review_1)\n",
        "review_2_tokens = nltk.word_tokenize(review_2)\n",
        "review_3_tokens = nltk.word_tokenize(review_3)\n",
        "review_tokens = set(review_1_tokens).union(set(review_2_tokens)).union(set(review_3_tokens))"
      ],
      "execution_count": null,
      "outputs": []
    },
    {
      "cell_type": "code",
      "metadata": {
        "id": "62YDAJ4hU24i",
        "colab": {
          "base_uri": "https://localhost:8080/"
        },
        "outputId": "7f7e4483-219d-4bcd-bf20-7258d6953856"
      },
      "source": [
        "len(review_tokens)"
      ],
      "execution_count": null,
      "outputs": [
        {
          "output_type": "execute_result",
          "data": {
            "text/plain": [
              "19"
            ]
          },
          "metadata": {},
          "execution_count": 7
        }
      ]
    },
    {
      "cell_type": "code",
      "metadata": {
        "id": "e0wP7aZaU5O0",
        "colab": {
          "base_uri": "https://localhost:8080/"
        },
        "outputId": "2a12fdf3-e37e-436a-c6fa-c31e7177af07"
      },
      "source": [
        "review_tokens"
      ],
      "execution_count": null,
      "outputs": [
        {
          "output_type": "execute_result",
          "data": {
            "text/plain": [
              "{'The',\n",
              " 'We',\n",
              " 'and',\n",
              " 'as',\n",
              " 'boring',\n",
              " 'but',\n",
              " 'did',\n",
              " 'ending',\n",
              " 'good',\n",
              " 'it',\n",
              " 'lengthy',\n",
              " 'like',\n",
              " 'movie',\n",
              " 'not',\n",
              " 'really',\n",
              " 'the',\n",
              " 'too',\n",
              " 'was',\n",
              " 'we'}"
            ]
          },
          "metadata": {},
          "execution_count": 8
        }
      ]
    },
    {
      "cell_type": "code",
      "metadata": {
        "id": "EvbSWAhLU7TU",
        "colab": {
          "base_uri": "https://localhost:8080/"
        },
        "outputId": "5e767854-6956-4823-a357-cce7ea800111"
      },
      "source": [
        "review_dict1 = dict.fromkeys(review_tokens,0)\n",
        "for token in review_1_tokens:\n",
        "  review_dict1[token] = review_dict1[token] + 1\n",
        "review_dict1"
      ],
      "execution_count": null,
      "outputs": [
        {
          "output_type": "execute_result",
          "data": {
            "text/plain": [
              "{'it': 1,\n",
              " 'and': 1,\n",
              " 'really': 1,\n",
              " 'was': 1,\n",
              " 'We': 0,\n",
              " 'like': 1,\n",
              " 'ending': 0,\n",
              " 'as': 0,\n",
              " 'did': 0,\n",
              " 'lengthy': 0,\n",
              " 'we': 1,\n",
              " 'boring': 0,\n",
              " 'the': 0,\n",
              " 'not': 0,\n",
              " 'The': 1,\n",
              " 'but': 0,\n",
              " 'movie': 1,\n",
              " 'good': 1,\n",
              " 'too': 0}"
            ]
          },
          "metadata": {},
          "execution_count": 9
        }
      ]
    },
    {
      "cell_type": "code",
      "metadata": {
        "id": "lu1ziii1aCYy",
        "colab": {
          "base_uri": "https://localhost:8080/"
        },
        "outputId": "a9b20184-0c51-4fb0-c453-13e53e98051b"
      },
      "source": [
        "review_dict2 = dict.fromkeys(review_tokens,0)\n",
        "for token in review_2_tokens:\n",
        "  review_dict2[token] = review_dict2[token] + 1\n",
        "review_dict2"
      ],
      "execution_count": null,
      "outputs": [
        {
          "output_type": "execute_result",
          "data": {
            "text/plain": [
              "{'it': 0,\n",
              " 'and': 0,\n",
              " 'really': 0,\n",
              " 'was': 2,\n",
              " 'We': 0,\n",
              " 'like': 0,\n",
              " 'ending': 1,\n",
              " 'as': 0,\n",
              " 'did': 0,\n",
              " 'lengthy': 0,\n",
              " 'we': 0,\n",
              " 'boring': 1,\n",
              " 'the': 0,\n",
              " 'not': 0,\n",
              " 'The': 1,\n",
              " 'but': 1,\n",
              " 'movie': 1,\n",
              " 'good': 1,\n",
              " 'too': 0}"
            ]
          },
          "metadata": {},
          "execution_count": 10
        }
      ]
    },
    {
      "cell_type": "code",
      "metadata": {
        "id": "ogVSFJtqbXxJ",
        "colab": {
          "base_uri": "https://localhost:8080/"
        },
        "outputId": "b3f6b51b-c47a-4976-ecb5-98b55e609985"
      },
      "source": [
        "review_dict3 = dict.fromkeys(review_tokens,0)\n",
        "for token in review_3_tokens:\n",
        "  review_dict3[token] = review_dict3[token] + 1\n",
        "review_dict3"
      ],
      "execution_count": null,
      "outputs": [
        {
          "output_type": "execute_result",
          "data": {
            "text/plain": [
              "{'it': 1,\n",
              " 'and': 0,\n",
              " 'really': 0,\n",
              " 'was': 1,\n",
              " 'We': 1,\n",
              " 'like': 1,\n",
              " 'ending': 0,\n",
              " 'as': 1,\n",
              " 'did': 1,\n",
              " 'lengthy': 1,\n",
              " 'we': 0,\n",
              " 'boring': 0,\n",
              " 'the': 1,\n",
              " 'not': 1,\n",
              " 'The': 0,\n",
              " 'but': 0,\n",
              " 'movie': 1,\n",
              " 'good': 0,\n",
              " 'too': 1}"
            ]
          },
          "metadata": {},
          "execution_count": 11
        }
      ]
    },
    {
      "cell_type": "code",
      "metadata": {
        "id": "pQGJE6_FbeYA",
        "colab": {
          "base_uri": "https://localhost:8080/",
          "height": 143
        },
        "outputId": "76305b5d-e827-4db4-ef70-582f14cdc43e"
      },
      "source": [
        "import pandas as pd\n",
        "review_df = pd.DataFrame([review_dict1,review_dict2,review_dict3])\n",
        "review_df"
      ],
      "execution_count": null,
      "outputs": [
        {
          "output_type": "execute_result",
          "data": {
            "text/plain": [
              "   it  and  really  was  We  like  ending  as  did  lengthy  we  boring  the  \\\n",
              "0   1    1       1    1   0     1       0   0    0        0   1       0    0   \n",
              "1   0    0       0    2   0     0       1   0    0        0   0       1    0   \n",
              "2   1    0       0    1   1     1       0   1    1        1   0       0    1   \n",
              "\n",
              "   not  The  but  movie  good  too  \n",
              "0    0    1    0      1     1    0  \n",
              "1    0    1    1      1     1    0  \n",
              "2    1    0    0      1     0    1  "
            ],
            "text/html": [
              "\n",
              "\n",
              "  <div id=\"df-f286450d-79c6-4d68-9e21-058876d1f55b\">\n",
              "    <div class=\"colab-df-container\">\n",
              "      <div>\n",
              "<style scoped>\n",
              "    .dataframe tbody tr th:only-of-type {\n",
              "        vertical-align: middle;\n",
              "    }\n",
              "\n",
              "    .dataframe tbody tr th {\n",
              "        vertical-align: top;\n",
              "    }\n",
              "\n",
              "    .dataframe thead th {\n",
              "        text-align: right;\n",
              "    }\n",
              "</style>\n",
              "<table border=\"1\" class=\"dataframe\">\n",
              "  <thead>\n",
              "    <tr style=\"text-align: right;\">\n",
              "      <th></th>\n",
              "      <th>it</th>\n",
              "      <th>and</th>\n",
              "      <th>really</th>\n",
              "      <th>was</th>\n",
              "      <th>We</th>\n",
              "      <th>like</th>\n",
              "      <th>ending</th>\n",
              "      <th>as</th>\n",
              "      <th>did</th>\n",
              "      <th>lengthy</th>\n",
              "      <th>we</th>\n",
              "      <th>boring</th>\n",
              "      <th>the</th>\n",
              "      <th>not</th>\n",
              "      <th>The</th>\n",
              "      <th>but</th>\n",
              "      <th>movie</th>\n",
              "      <th>good</th>\n",
              "      <th>too</th>\n",
              "    </tr>\n",
              "  </thead>\n",
              "  <tbody>\n",
              "    <tr>\n",
              "      <th>0</th>\n",
              "      <td>1</td>\n",
              "      <td>1</td>\n",
              "      <td>1</td>\n",
              "      <td>1</td>\n",
              "      <td>0</td>\n",
              "      <td>1</td>\n",
              "      <td>0</td>\n",
              "      <td>0</td>\n",
              "      <td>0</td>\n",
              "      <td>0</td>\n",
              "      <td>1</td>\n",
              "      <td>0</td>\n",
              "      <td>0</td>\n",
              "      <td>0</td>\n",
              "      <td>1</td>\n",
              "      <td>0</td>\n",
              "      <td>1</td>\n",
              "      <td>1</td>\n",
              "      <td>0</td>\n",
              "    </tr>\n",
              "    <tr>\n",
              "      <th>1</th>\n",
              "      <td>0</td>\n",
              "      <td>0</td>\n",
              "      <td>0</td>\n",
              "      <td>2</td>\n",
              "      <td>0</td>\n",
              "      <td>0</td>\n",
              "      <td>1</td>\n",
              "      <td>0</td>\n",
              "      <td>0</td>\n",
              "      <td>0</td>\n",
              "      <td>0</td>\n",
              "      <td>1</td>\n",
              "      <td>0</td>\n",
              "      <td>0</td>\n",
              "      <td>1</td>\n",
              "      <td>1</td>\n",
              "      <td>1</td>\n",
              "      <td>1</td>\n",
              "      <td>0</td>\n",
              "    </tr>\n",
              "    <tr>\n",
              "      <th>2</th>\n",
              "      <td>1</td>\n",
              "      <td>0</td>\n",
              "      <td>0</td>\n",
              "      <td>1</td>\n",
              "      <td>1</td>\n",
              "      <td>1</td>\n",
              "      <td>0</td>\n",
              "      <td>1</td>\n",
              "      <td>1</td>\n",
              "      <td>1</td>\n",
              "      <td>0</td>\n",
              "      <td>0</td>\n",
              "      <td>1</td>\n",
              "      <td>1</td>\n",
              "      <td>0</td>\n",
              "      <td>0</td>\n",
              "      <td>1</td>\n",
              "      <td>0</td>\n",
              "      <td>1</td>\n",
              "    </tr>\n",
              "  </tbody>\n",
              "</table>\n",
              "</div>\n",
              "      <button class=\"colab-df-convert\" onclick=\"convertToInteractive('df-f286450d-79c6-4d68-9e21-058876d1f55b')\"\n",
              "              title=\"Convert this dataframe to an interactive table.\"\n",
              "              style=\"display:none;\">\n",
              "\n",
              "  <svg xmlns=\"http://www.w3.org/2000/svg\" height=\"24px\"viewBox=\"0 0 24 24\"\n",
              "       width=\"24px\">\n",
              "    <path d=\"M0 0h24v24H0V0z\" fill=\"none\"/>\n",
              "    <path d=\"M18.56 5.44l.94 2.06.94-2.06 2.06-.94-2.06-.94-.94-2.06-.94 2.06-2.06.94zm-11 1L8.5 8.5l.94-2.06 2.06-.94-2.06-.94L8.5 2.5l-.94 2.06-2.06.94zm10 10l.94 2.06.94-2.06 2.06-.94-2.06-.94-.94-2.06-.94 2.06-2.06.94z\"/><path d=\"M17.41 7.96l-1.37-1.37c-.4-.4-.92-.59-1.43-.59-.52 0-1.04.2-1.43.59L10.3 9.45l-7.72 7.72c-.78.78-.78 2.05 0 2.83L4 21.41c.39.39.9.59 1.41.59.51 0 1.02-.2 1.41-.59l7.78-7.78 2.81-2.81c.8-.78.8-2.07 0-2.86zM5.41 20L4 18.59l7.72-7.72 1.47 1.35L5.41 20z\"/>\n",
              "  </svg>\n",
              "      </button>\n",
              "\n",
              "\n",
              "\n",
              "    <div id=\"df-fdc6a4d0-a863-4d81-8efb-369882152bd1\">\n",
              "      <button class=\"colab-df-quickchart\" onclick=\"quickchart('df-fdc6a4d0-a863-4d81-8efb-369882152bd1')\"\n",
              "              title=\"Suggest charts.\"\n",
              "              style=\"display:none;\">\n",
              "\n",
              "<svg xmlns=\"http://www.w3.org/2000/svg\" height=\"24px\"viewBox=\"0 0 24 24\"\n",
              "     width=\"24px\">\n",
              "    <g>\n",
              "        <path d=\"M19 3H5c-1.1 0-2 .9-2 2v14c0 1.1.9 2 2 2h14c1.1 0 2-.9 2-2V5c0-1.1-.9-2-2-2zM9 17H7v-7h2v7zm4 0h-2V7h2v10zm4 0h-2v-4h2v4z\"/>\n",
              "    </g>\n",
              "</svg>\n",
              "      </button>\n",
              "    </div>\n",
              "\n",
              "<style>\n",
              "  .colab-df-quickchart {\n",
              "    background-color: #E8F0FE;\n",
              "    border: none;\n",
              "    border-radius: 50%;\n",
              "    cursor: pointer;\n",
              "    display: none;\n",
              "    fill: #1967D2;\n",
              "    height: 32px;\n",
              "    padding: 0 0 0 0;\n",
              "    width: 32px;\n",
              "  }\n",
              "\n",
              "  .colab-df-quickchart:hover {\n",
              "    background-color: #E2EBFA;\n",
              "    box-shadow: 0px 1px 2px rgba(60, 64, 67, 0.3), 0px 1px 3px 1px rgba(60, 64, 67, 0.15);\n",
              "    fill: #174EA6;\n",
              "  }\n",
              "\n",
              "  [theme=dark] .colab-df-quickchart {\n",
              "    background-color: #3B4455;\n",
              "    fill: #D2E3FC;\n",
              "  }\n",
              "\n",
              "  [theme=dark] .colab-df-quickchart:hover {\n",
              "    background-color: #434B5C;\n",
              "    box-shadow: 0px 1px 3px 1px rgba(0, 0, 0, 0.15);\n",
              "    filter: drop-shadow(0px 1px 2px rgba(0, 0, 0, 0.3));\n",
              "    fill: #FFFFFF;\n",
              "  }\n",
              "</style>\n",
              "\n",
              "    <script>\n",
              "      async function quickchart(key) {\n",
              "        const containerElement = document.querySelector('#' + key);\n",
              "        const charts = await google.colab.kernel.invokeFunction(\n",
              "            'suggestCharts', [key], {});\n",
              "      }\n",
              "    </script>\n",
              "\n",
              "      <script>\n",
              "\n",
              "function displayQuickchartButton(domScope) {\n",
              "  let quickchartButtonEl =\n",
              "    domScope.querySelector('#df-fdc6a4d0-a863-4d81-8efb-369882152bd1 button.colab-df-quickchart');\n",
              "  quickchartButtonEl.style.display =\n",
              "    google.colab.kernel.accessAllowed ? 'block' : 'none';\n",
              "}\n",
              "\n",
              "        displayQuickchartButton(document);\n",
              "      </script>\n",
              "      <style>\n",
              "    .colab-df-container {\n",
              "      display:flex;\n",
              "      flex-wrap:wrap;\n",
              "      gap: 12px;\n",
              "    }\n",
              "\n",
              "    .colab-df-convert {\n",
              "      background-color: #E8F0FE;\n",
              "      border: none;\n",
              "      border-radius: 50%;\n",
              "      cursor: pointer;\n",
              "      display: none;\n",
              "      fill: #1967D2;\n",
              "      height: 32px;\n",
              "      padding: 0 0 0 0;\n",
              "      width: 32px;\n",
              "    }\n",
              "\n",
              "    .colab-df-convert:hover {\n",
              "      background-color: #E2EBFA;\n",
              "      box-shadow: 0px 1px 2px rgba(60, 64, 67, 0.3), 0px 1px 3px 1px rgba(60, 64, 67, 0.15);\n",
              "      fill: #174EA6;\n",
              "    }\n",
              "\n",
              "    [theme=dark] .colab-df-convert {\n",
              "      background-color: #3B4455;\n",
              "      fill: #D2E3FC;\n",
              "    }\n",
              "\n",
              "    [theme=dark] .colab-df-convert:hover {\n",
              "      background-color: #434B5C;\n",
              "      box-shadow: 0px 1px 3px 1px rgba(0, 0, 0, 0.15);\n",
              "      filter: drop-shadow(0px 1px 2px rgba(0, 0, 0, 0.3));\n",
              "      fill: #FFFFFF;\n",
              "    }\n",
              "  </style>\n",
              "\n",
              "      <script>\n",
              "        const buttonEl =\n",
              "          document.querySelector('#df-f286450d-79c6-4d68-9e21-058876d1f55b button.colab-df-convert');\n",
              "        buttonEl.style.display =\n",
              "          google.colab.kernel.accessAllowed ? 'block' : 'none';\n",
              "\n",
              "        async function convertToInteractive(key) {\n",
              "          const element = document.querySelector('#df-f286450d-79c6-4d68-9e21-058876d1f55b');\n",
              "          const dataTable =\n",
              "            await google.colab.kernel.invokeFunction('convertToInteractive',\n",
              "                                                     [key], {});\n",
              "          if (!dataTable) return;\n",
              "\n",
              "          const docLinkHtml = 'Like what you see? Visit the ' +\n",
              "            '<a target=\"_blank\" href=https://colab.research.google.com/notebooks/data_table.ipynb>data table notebook</a>'\n",
              "            + ' to learn more about interactive tables.';\n",
              "          element.innerHTML = '';\n",
              "          dataTable['output_type'] = 'display_data';\n",
              "          await google.colab.output.renderOutput(dataTable, element);\n",
              "          const docLink = document.createElement('div');\n",
              "          docLink.innerHTML = docLinkHtml;\n",
              "          element.appendChild(docLink);\n",
              "        }\n",
              "      </script>\n",
              "    </div>\n",
              "  </div>\n"
            ]
          },
          "metadata": {},
          "execution_count": 12
        }
      ]
    },
    {
      "cell_type": "markdown",
      "metadata": {
        "id": "VUyP5ZY4dWOB"
      },
      "source": [
        "Now, we can do the same thing using Count vectorizer using Sklearn"
      ]
    },
    {
      "cell_type": "code",
      "metadata": {
        "id": "sVE3XXPebu77"
      },
      "source": [
        "from sklearn.feature_extraction.text import CountVectorizer\n",
        "review_list = [review_1,review_2,review_3]"
      ],
      "execution_count": null,
      "outputs": []
    },
    {
      "cell_type": "code",
      "metadata": {
        "id": "f9BuxUpcdoad"
      },
      "source": [
        "count_vect = CountVectorizer()\n",
        "X_counts = count_vect.fit_transform(review_list)"
      ],
      "execution_count": null,
      "outputs": []
    },
    {
      "cell_type": "code",
      "metadata": {
        "id": "VPvvcKU-d7jg",
        "colab": {
          "base_uri": "https://localhost:8080/"
        },
        "outputId": "7445909a-a9cb-4ff3-ab29-19652d3fd50a"
      },
      "source": [
        "type(X_counts)"
      ],
      "execution_count": null,
      "outputs": [
        {
          "output_type": "execute_result",
          "data": {
            "text/plain": [
              "scipy.sparse._csr.csr_matrix"
            ]
          },
          "metadata": {},
          "execution_count": 15
        }
      ]
    },
    {
      "cell_type": "code",
      "metadata": {
        "id": "ZeibztQvd9Do",
        "colab": {
          "base_uri": "https://localhost:8080/"
        },
        "outputId": "633c28dc-04a5-4c78-8070-649a1ae4c0b7"
      },
      "source": [
        "#X_names = count_vect.get_feature_names()\n",
        "X_names = count_vect.get_feature_names_out()\n",
        "X_names"
      ],
      "execution_count": null,
      "outputs": [
        {
          "output_type": "execute_result",
          "data": {
            "text/plain": [
              "array(['and', 'as', 'boring', 'but', 'did', 'ending', 'good', 'it',\n",
              "       'lengthy', 'like', 'movie', 'not', 'really', 'the', 'too', 'was',\n",
              "       'we'], dtype=object)"
            ]
          },
          "metadata": {},
          "execution_count": 18
        }
      ]
    },
    {
      "cell_type": "code",
      "metadata": {
        "id": "9lrR22XFeJjy",
        "colab": {
          "base_uri": "https://localhost:8080/",
          "height": 143
        },
        "outputId": "963a6039-60b0-475e-81f4-0f98337f4b06"
      },
      "source": [
        "X_df = pd.DataFrame(X_counts.toarray(),columns=X_names)\n",
        "X_df"
      ],
      "execution_count": null,
      "outputs": [
        {
          "output_type": "execute_result",
          "data": {
            "text/plain": [
              "   and  as  boring  but  did  ending  good  it  lengthy  like  movie  not  \\\n",
              "0    1   0       0    0    0       0     1   1        0     1      1    0   \n",
              "1    0   0       1    1    0       1     1   0        0     0      1    0   \n",
              "2    0   1       0    0    1       0     0   1        1     1      1    1   \n",
              "\n",
              "   really  the  too  was  we  \n",
              "0       1    1    0    1   1  \n",
              "1       0    1    0    2   0  \n",
              "2       0    1    1    1   1  "
            ],
            "text/html": [
              "\n",
              "\n",
              "  <div id=\"df-4e2ec5c4-7572-41a5-8d61-70a03db5dc83\">\n",
              "    <div class=\"colab-df-container\">\n",
              "      <div>\n",
              "<style scoped>\n",
              "    .dataframe tbody tr th:only-of-type {\n",
              "        vertical-align: middle;\n",
              "    }\n",
              "\n",
              "    .dataframe tbody tr th {\n",
              "        vertical-align: top;\n",
              "    }\n",
              "\n",
              "    .dataframe thead th {\n",
              "        text-align: right;\n",
              "    }\n",
              "</style>\n",
              "<table border=\"1\" class=\"dataframe\">\n",
              "  <thead>\n",
              "    <tr style=\"text-align: right;\">\n",
              "      <th></th>\n",
              "      <th>and</th>\n",
              "      <th>as</th>\n",
              "      <th>boring</th>\n",
              "      <th>but</th>\n",
              "      <th>did</th>\n",
              "      <th>ending</th>\n",
              "      <th>good</th>\n",
              "      <th>it</th>\n",
              "      <th>lengthy</th>\n",
              "      <th>like</th>\n",
              "      <th>movie</th>\n",
              "      <th>not</th>\n",
              "      <th>really</th>\n",
              "      <th>the</th>\n",
              "      <th>too</th>\n",
              "      <th>was</th>\n",
              "      <th>we</th>\n",
              "    </tr>\n",
              "  </thead>\n",
              "  <tbody>\n",
              "    <tr>\n",
              "      <th>0</th>\n",
              "      <td>1</td>\n",
              "      <td>0</td>\n",
              "      <td>0</td>\n",
              "      <td>0</td>\n",
              "      <td>0</td>\n",
              "      <td>0</td>\n",
              "      <td>1</td>\n",
              "      <td>1</td>\n",
              "      <td>0</td>\n",
              "      <td>1</td>\n",
              "      <td>1</td>\n",
              "      <td>0</td>\n",
              "      <td>1</td>\n",
              "      <td>1</td>\n",
              "      <td>0</td>\n",
              "      <td>1</td>\n",
              "      <td>1</td>\n",
              "    </tr>\n",
              "    <tr>\n",
              "      <th>1</th>\n",
              "      <td>0</td>\n",
              "      <td>0</td>\n",
              "      <td>1</td>\n",
              "      <td>1</td>\n",
              "      <td>0</td>\n",
              "      <td>1</td>\n",
              "      <td>1</td>\n",
              "      <td>0</td>\n",
              "      <td>0</td>\n",
              "      <td>0</td>\n",
              "      <td>1</td>\n",
              "      <td>0</td>\n",
              "      <td>0</td>\n",
              "      <td>1</td>\n",
              "      <td>0</td>\n",
              "      <td>2</td>\n",
              "      <td>0</td>\n",
              "    </tr>\n",
              "    <tr>\n",
              "      <th>2</th>\n",
              "      <td>0</td>\n",
              "      <td>1</td>\n",
              "      <td>0</td>\n",
              "      <td>0</td>\n",
              "      <td>1</td>\n",
              "      <td>0</td>\n",
              "      <td>0</td>\n",
              "      <td>1</td>\n",
              "      <td>1</td>\n",
              "      <td>1</td>\n",
              "      <td>1</td>\n",
              "      <td>1</td>\n",
              "      <td>0</td>\n",
              "      <td>1</td>\n",
              "      <td>1</td>\n",
              "      <td>1</td>\n",
              "      <td>1</td>\n",
              "    </tr>\n",
              "  </tbody>\n",
              "</table>\n",
              "</div>\n",
              "      <button class=\"colab-df-convert\" onclick=\"convertToInteractive('df-4e2ec5c4-7572-41a5-8d61-70a03db5dc83')\"\n",
              "              title=\"Convert this dataframe to an interactive table.\"\n",
              "              style=\"display:none;\">\n",
              "\n",
              "  <svg xmlns=\"http://www.w3.org/2000/svg\" height=\"24px\"viewBox=\"0 0 24 24\"\n",
              "       width=\"24px\">\n",
              "    <path d=\"M0 0h24v24H0V0z\" fill=\"none\"/>\n",
              "    <path d=\"M18.56 5.44l.94 2.06.94-2.06 2.06-.94-2.06-.94-.94-2.06-.94 2.06-2.06.94zm-11 1L8.5 8.5l.94-2.06 2.06-.94-2.06-.94L8.5 2.5l-.94 2.06-2.06.94zm10 10l.94 2.06.94-2.06 2.06-.94-2.06-.94-.94-2.06-.94 2.06-2.06.94z\"/><path d=\"M17.41 7.96l-1.37-1.37c-.4-.4-.92-.59-1.43-.59-.52 0-1.04.2-1.43.59L10.3 9.45l-7.72 7.72c-.78.78-.78 2.05 0 2.83L4 21.41c.39.39.9.59 1.41.59.51 0 1.02-.2 1.41-.59l7.78-7.78 2.81-2.81c.8-.78.8-2.07 0-2.86zM5.41 20L4 18.59l7.72-7.72 1.47 1.35L5.41 20z\"/>\n",
              "  </svg>\n",
              "      </button>\n",
              "\n",
              "\n",
              "\n",
              "    <div id=\"df-55559e2d-98cd-4243-833f-7b708fe727df\">\n",
              "      <button class=\"colab-df-quickchart\" onclick=\"quickchart('df-55559e2d-98cd-4243-833f-7b708fe727df')\"\n",
              "              title=\"Suggest charts.\"\n",
              "              style=\"display:none;\">\n",
              "\n",
              "<svg xmlns=\"http://www.w3.org/2000/svg\" height=\"24px\"viewBox=\"0 0 24 24\"\n",
              "     width=\"24px\">\n",
              "    <g>\n",
              "        <path d=\"M19 3H5c-1.1 0-2 .9-2 2v14c0 1.1.9 2 2 2h14c1.1 0 2-.9 2-2V5c0-1.1-.9-2-2-2zM9 17H7v-7h2v7zm4 0h-2V7h2v10zm4 0h-2v-4h2v4z\"/>\n",
              "    </g>\n",
              "</svg>\n",
              "      </button>\n",
              "    </div>\n",
              "\n",
              "<style>\n",
              "  .colab-df-quickchart {\n",
              "    background-color: #E8F0FE;\n",
              "    border: none;\n",
              "    border-radius: 50%;\n",
              "    cursor: pointer;\n",
              "    display: none;\n",
              "    fill: #1967D2;\n",
              "    height: 32px;\n",
              "    padding: 0 0 0 0;\n",
              "    width: 32px;\n",
              "  }\n",
              "\n",
              "  .colab-df-quickchart:hover {\n",
              "    background-color: #E2EBFA;\n",
              "    box-shadow: 0px 1px 2px rgba(60, 64, 67, 0.3), 0px 1px 3px 1px rgba(60, 64, 67, 0.15);\n",
              "    fill: #174EA6;\n",
              "  }\n",
              "\n",
              "  [theme=dark] .colab-df-quickchart {\n",
              "    background-color: #3B4455;\n",
              "    fill: #D2E3FC;\n",
              "  }\n",
              "\n",
              "  [theme=dark] .colab-df-quickchart:hover {\n",
              "    background-color: #434B5C;\n",
              "    box-shadow: 0px 1px 3px 1px rgba(0, 0, 0, 0.15);\n",
              "    filter: drop-shadow(0px 1px 2px rgba(0, 0, 0, 0.3));\n",
              "    fill: #FFFFFF;\n",
              "  }\n",
              "</style>\n",
              "\n",
              "    <script>\n",
              "      async function quickchart(key) {\n",
              "        const containerElement = document.querySelector('#' + key);\n",
              "        const charts = await google.colab.kernel.invokeFunction(\n",
              "            'suggestCharts', [key], {});\n",
              "      }\n",
              "    </script>\n",
              "\n",
              "      <script>\n",
              "\n",
              "function displayQuickchartButton(domScope) {\n",
              "  let quickchartButtonEl =\n",
              "    domScope.querySelector('#df-55559e2d-98cd-4243-833f-7b708fe727df button.colab-df-quickchart');\n",
              "  quickchartButtonEl.style.display =\n",
              "    google.colab.kernel.accessAllowed ? 'block' : 'none';\n",
              "}\n",
              "\n",
              "        displayQuickchartButton(document);\n",
              "      </script>\n",
              "      <style>\n",
              "    .colab-df-container {\n",
              "      display:flex;\n",
              "      flex-wrap:wrap;\n",
              "      gap: 12px;\n",
              "    }\n",
              "\n",
              "    .colab-df-convert {\n",
              "      background-color: #E8F0FE;\n",
              "      border: none;\n",
              "      border-radius: 50%;\n",
              "      cursor: pointer;\n",
              "      display: none;\n",
              "      fill: #1967D2;\n",
              "      height: 32px;\n",
              "      padding: 0 0 0 0;\n",
              "      width: 32px;\n",
              "    }\n",
              "\n",
              "    .colab-df-convert:hover {\n",
              "      background-color: #E2EBFA;\n",
              "      box-shadow: 0px 1px 2px rgba(60, 64, 67, 0.3), 0px 1px 3px 1px rgba(60, 64, 67, 0.15);\n",
              "      fill: #174EA6;\n",
              "    }\n",
              "\n",
              "    [theme=dark] .colab-df-convert {\n",
              "      background-color: #3B4455;\n",
              "      fill: #D2E3FC;\n",
              "    }\n",
              "\n",
              "    [theme=dark] .colab-df-convert:hover {\n",
              "      background-color: #434B5C;\n",
              "      box-shadow: 0px 1px 3px 1px rgba(0, 0, 0, 0.15);\n",
              "      filter: drop-shadow(0px 1px 2px rgba(0, 0, 0, 0.3));\n",
              "      fill: #FFFFFF;\n",
              "    }\n",
              "  </style>\n",
              "\n",
              "      <script>\n",
              "        const buttonEl =\n",
              "          document.querySelector('#df-4e2ec5c4-7572-41a5-8d61-70a03db5dc83 button.colab-df-convert');\n",
              "        buttonEl.style.display =\n",
              "          google.colab.kernel.accessAllowed ? 'block' : 'none';\n",
              "\n",
              "        async function convertToInteractive(key) {\n",
              "          const element = document.querySelector('#df-4e2ec5c4-7572-41a5-8d61-70a03db5dc83');\n",
              "          const dataTable =\n",
              "            await google.colab.kernel.invokeFunction('convertToInteractive',\n",
              "                                                     [key], {});\n",
              "          if (!dataTable) return;\n",
              "\n",
              "          const docLinkHtml = 'Like what you see? Visit the ' +\n",
              "            '<a target=\"_blank\" href=https://colab.research.google.com/notebooks/data_table.ipynb>data table notebook</a>'\n",
              "            + ' to learn more about interactive tables.';\n",
              "          element.innerHTML = '';\n",
              "          dataTable['output_type'] = 'display_data';\n",
              "          await google.colab.output.renderOutput(dataTable, element);\n",
              "          const docLink = document.createElement('div');\n",
              "          docLink.innerHTML = docLinkHtml;\n",
              "          element.appendChild(docLink);\n",
              "        }\n",
              "      </script>\n",
              "    </div>\n",
              "  </div>\n"
            ]
          },
          "metadata": {},
          "execution_count": 19
        }
      ]
    },
    {
      "cell_type": "markdown",
      "metadata": {
        "id": "depPi_cQgrWg"
      },
      "source": [
        "# TF-IDF (Term Frequency and Inverse Document Frequency)\n",
        "\n",
        "TF(x,y) = Term x frequency in document y/ total words in document y\n",
        "\n",
        "x = Term , y = Document\n",
        "\n",
        "IDF(x,y) = log(Total Document/Document with term x)"
      ]
    },
    {
      "cell_type": "code",
      "metadata": {
        "id": "y5QSWvHWegk-"
      },
      "source": [
        "from sklearn.feature_extraction.text import TfidfVectorizer"
      ],
      "execution_count": null,
      "outputs": []
    },
    {
      "cell_type": "code",
      "metadata": {
        "id": "dIRvDt8nhodx"
      },
      "source": [
        "tf_vect = TfidfVectorizer(min_df=1,lowercase=True,stop_words='english')"
      ],
      "execution_count": null,
      "outputs": []
    },
    {
      "cell_type": "code",
      "metadata": {
        "id": "meFIAbyKiedY"
      },
      "source": [
        "tf_matrix = tf_vect.fit_transform(review_list)"
      ],
      "execution_count": null,
      "outputs": []
    },
    {
      "cell_type": "code",
      "metadata": {
        "id": "RMxgV6dIorqD",
        "outputId": "ecbbde5b-8ce4-4b0e-daba-8db1faca95d0",
        "colab": {
          "base_uri": "https://localhost:8080/"
        }
      },
      "source": [
        "print(tf_matrix)"
      ],
      "execution_count": null,
      "outputs": [
        {
          "output_type": "stream",
          "name": "stdout",
          "text": [
            "  (0, 5)\t0.4804583972923858\n",
            "  (0, 7)\t0.6317450542765208\n",
            "  (0, 3)\t0.4804583972923858\n",
            "  (0, 6)\t0.3731188059313277\n",
            "  (1, 0)\t0.5844829010200651\n",
            "  (1, 2)\t0.5844829010200651\n",
            "  (1, 3)\t0.444514311537431\n",
            "  (1, 6)\t0.34520501686496574\n",
            "  (2, 4)\t0.5844829010200651\n",
            "  (2, 1)\t0.5844829010200651\n",
            "  (2, 5)\t0.444514311537431\n",
            "  (2, 6)\t0.34520501686496574\n"
          ]
        }
      ]
    },
    {
      "cell_type": "code",
      "metadata": {
        "id": "tTIe19poinLs",
        "colab": {
          "base_uri": "https://localhost:8080/"
        },
        "outputId": "d8222526-457f-424a-f2fe-7778f5ac6057"
      },
      "source": [
        "type(tf_matrix)"
      ],
      "execution_count": null,
      "outputs": [
        {
          "output_type": "execute_result",
          "data": {
            "text/plain": [
              "scipy.sparse._csr.csr_matrix"
            ]
          },
          "metadata": {},
          "execution_count": 24
        }
      ]
    },
    {
      "cell_type": "code",
      "metadata": {
        "id": "h4Cf9334itrW",
        "colab": {
          "base_uri": "https://localhost:8080/"
        },
        "outputId": "33a67dc6-b577-4d62-eb5c-04772a82c1fe"
      },
      "source": [
        "tf_matrix.shape"
      ],
      "execution_count": null,
      "outputs": [
        {
          "output_type": "execute_result",
          "data": {
            "text/plain": [
              "(3, 8)"
            ]
          },
          "metadata": {},
          "execution_count": 25
        }
      ]
    },
    {
      "cell_type": "code",
      "metadata": {
        "id": "cYXsVcpqiveQ",
        "colab": {
          "base_uri": "https://localhost:8080/",
          "height": 143
        },
        "outputId": "8f0b0d40-b2f0-437f-fd01-22eb97e89775"
      },
      "source": [
        "tf_df = pd.DataFrame(tf_matrix.toarray(),columns=tf_vect.get_feature_names_out())\n",
        "tf_df"
      ],
      "execution_count": null,
      "outputs": [
        {
          "output_type": "execute_result",
          "data": {
            "text/plain": [
              "     boring       did    ending      good   lengthy      like     movie  \\\n",
              "0  0.000000  0.000000  0.000000  0.480458  0.000000  0.480458  0.373119   \n",
              "1  0.584483  0.000000  0.584483  0.444514  0.000000  0.000000  0.345205   \n",
              "2  0.000000  0.584483  0.000000  0.000000  0.584483  0.444514  0.345205   \n",
              "\n",
              "     really  \n",
              "0  0.631745  \n",
              "1  0.000000  \n",
              "2  0.000000  "
            ],
            "text/html": [
              "\n",
              "\n",
              "  <div id=\"df-53153759-ae9f-42a1-a92a-57eedb751b1a\">\n",
              "    <div class=\"colab-df-container\">\n",
              "      <div>\n",
              "<style scoped>\n",
              "    .dataframe tbody tr th:only-of-type {\n",
              "        vertical-align: middle;\n",
              "    }\n",
              "\n",
              "    .dataframe tbody tr th {\n",
              "        vertical-align: top;\n",
              "    }\n",
              "\n",
              "    .dataframe thead th {\n",
              "        text-align: right;\n",
              "    }\n",
              "</style>\n",
              "<table border=\"1\" class=\"dataframe\">\n",
              "  <thead>\n",
              "    <tr style=\"text-align: right;\">\n",
              "      <th></th>\n",
              "      <th>boring</th>\n",
              "      <th>did</th>\n",
              "      <th>ending</th>\n",
              "      <th>good</th>\n",
              "      <th>lengthy</th>\n",
              "      <th>like</th>\n",
              "      <th>movie</th>\n",
              "      <th>really</th>\n",
              "    </tr>\n",
              "  </thead>\n",
              "  <tbody>\n",
              "    <tr>\n",
              "      <th>0</th>\n",
              "      <td>0.000000</td>\n",
              "      <td>0.000000</td>\n",
              "      <td>0.000000</td>\n",
              "      <td>0.480458</td>\n",
              "      <td>0.000000</td>\n",
              "      <td>0.480458</td>\n",
              "      <td>0.373119</td>\n",
              "      <td>0.631745</td>\n",
              "    </tr>\n",
              "    <tr>\n",
              "      <th>1</th>\n",
              "      <td>0.584483</td>\n",
              "      <td>0.000000</td>\n",
              "      <td>0.584483</td>\n",
              "      <td>0.444514</td>\n",
              "      <td>0.000000</td>\n",
              "      <td>0.000000</td>\n",
              "      <td>0.345205</td>\n",
              "      <td>0.000000</td>\n",
              "    </tr>\n",
              "    <tr>\n",
              "      <th>2</th>\n",
              "      <td>0.000000</td>\n",
              "      <td>0.584483</td>\n",
              "      <td>0.000000</td>\n",
              "      <td>0.000000</td>\n",
              "      <td>0.584483</td>\n",
              "      <td>0.444514</td>\n",
              "      <td>0.345205</td>\n",
              "      <td>0.000000</td>\n",
              "    </tr>\n",
              "  </tbody>\n",
              "</table>\n",
              "</div>\n",
              "      <button class=\"colab-df-convert\" onclick=\"convertToInteractive('df-53153759-ae9f-42a1-a92a-57eedb751b1a')\"\n",
              "              title=\"Convert this dataframe to an interactive table.\"\n",
              "              style=\"display:none;\">\n",
              "\n",
              "  <svg xmlns=\"http://www.w3.org/2000/svg\" height=\"24px\"viewBox=\"0 0 24 24\"\n",
              "       width=\"24px\">\n",
              "    <path d=\"M0 0h24v24H0V0z\" fill=\"none\"/>\n",
              "    <path d=\"M18.56 5.44l.94 2.06.94-2.06 2.06-.94-2.06-.94-.94-2.06-.94 2.06-2.06.94zm-11 1L8.5 8.5l.94-2.06 2.06-.94-2.06-.94L8.5 2.5l-.94 2.06-2.06.94zm10 10l.94 2.06.94-2.06 2.06-.94-2.06-.94-.94-2.06-.94 2.06-2.06.94z\"/><path d=\"M17.41 7.96l-1.37-1.37c-.4-.4-.92-.59-1.43-.59-.52 0-1.04.2-1.43.59L10.3 9.45l-7.72 7.72c-.78.78-.78 2.05 0 2.83L4 21.41c.39.39.9.59 1.41.59.51 0 1.02-.2 1.41-.59l7.78-7.78 2.81-2.81c.8-.78.8-2.07 0-2.86zM5.41 20L4 18.59l7.72-7.72 1.47 1.35L5.41 20z\"/>\n",
              "  </svg>\n",
              "      </button>\n",
              "\n",
              "\n",
              "\n",
              "    <div id=\"df-79d145c1-a918-4d90-86dd-b49b1101f9a7\">\n",
              "      <button class=\"colab-df-quickchart\" onclick=\"quickchart('df-79d145c1-a918-4d90-86dd-b49b1101f9a7')\"\n",
              "              title=\"Suggest charts.\"\n",
              "              style=\"display:none;\">\n",
              "\n",
              "<svg xmlns=\"http://www.w3.org/2000/svg\" height=\"24px\"viewBox=\"0 0 24 24\"\n",
              "     width=\"24px\">\n",
              "    <g>\n",
              "        <path d=\"M19 3H5c-1.1 0-2 .9-2 2v14c0 1.1.9 2 2 2h14c1.1 0 2-.9 2-2V5c0-1.1-.9-2-2-2zM9 17H7v-7h2v7zm4 0h-2V7h2v10zm4 0h-2v-4h2v4z\"/>\n",
              "    </g>\n",
              "</svg>\n",
              "      </button>\n",
              "    </div>\n",
              "\n",
              "<style>\n",
              "  .colab-df-quickchart {\n",
              "    background-color: #E8F0FE;\n",
              "    border: none;\n",
              "    border-radius: 50%;\n",
              "    cursor: pointer;\n",
              "    display: none;\n",
              "    fill: #1967D2;\n",
              "    height: 32px;\n",
              "    padding: 0 0 0 0;\n",
              "    width: 32px;\n",
              "  }\n",
              "\n",
              "  .colab-df-quickchart:hover {\n",
              "    background-color: #E2EBFA;\n",
              "    box-shadow: 0px 1px 2px rgba(60, 64, 67, 0.3), 0px 1px 3px 1px rgba(60, 64, 67, 0.15);\n",
              "    fill: #174EA6;\n",
              "  }\n",
              "\n",
              "  [theme=dark] .colab-df-quickchart {\n",
              "    background-color: #3B4455;\n",
              "    fill: #D2E3FC;\n",
              "  }\n",
              "\n",
              "  [theme=dark] .colab-df-quickchart:hover {\n",
              "    background-color: #434B5C;\n",
              "    box-shadow: 0px 1px 3px 1px rgba(0, 0, 0, 0.15);\n",
              "    filter: drop-shadow(0px 1px 2px rgba(0, 0, 0, 0.3));\n",
              "    fill: #FFFFFF;\n",
              "  }\n",
              "</style>\n",
              "\n",
              "    <script>\n",
              "      async function quickchart(key) {\n",
              "        const containerElement = document.querySelector('#' + key);\n",
              "        const charts = await google.colab.kernel.invokeFunction(\n",
              "            'suggestCharts', [key], {});\n",
              "      }\n",
              "    </script>\n",
              "\n",
              "      <script>\n",
              "\n",
              "function displayQuickchartButton(domScope) {\n",
              "  let quickchartButtonEl =\n",
              "    domScope.querySelector('#df-79d145c1-a918-4d90-86dd-b49b1101f9a7 button.colab-df-quickchart');\n",
              "  quickchartButtonEl.style.display =\n",
              "    google.colab.kernel.accessAllowed ? 'block' : 'none';\n",
              "}\n",
              "\n",
              "        displayQuickchartButton(document);\n",
              "      </script>\n",
              "      <style>\n",
              "    .colab-df-container {\n",
              "      display:flex;\n",
              "      flex-wrap:wrap;\n",
              "      gap: 12px;\n",
              "    }\n",
              "\n",
              "    .colab-df-convert {\n",
              "      background-color: #E8F0FE;\n",
              "      border: none;\n",
              "      border-radius: 50%;\n",
              "      cursor: pointer;\n",
              "      display: none;\n",
              "      fill: #1967D2;\n",
              "      height: 32px;\n",
              "      padding: 0 0 0 0;\n",
              "      width: 32px;\n",
              "    }\n",
              "\n",
              "    .colab-df-convert:hover {\n",
              "      background-color: #E2EBFA;\n",
              "      box-shadow: 0px 1px 2px rgba(60, 64, 67, 0.3), 0px 1px 3px 1px rgba(60, 64, 67, 0.15);\n",
              "      fill: #174EA6;\n",
              "    }\n",
              "\n",
              "    [theme=dark] .colab-df-convert {\n",
              "      background-color: #3B4455;\n",
              "      fill: #D2E3FC;\n",
              "    }\n",
              "\n",
              "    [theme=dark] .colab-df-convert:hover {\n",
              "      background-color: #434B5C;\n",
              "      box-shadow: 0px 1px 3px 1px rgba(0, 0, 0, 0.15);\n",
              "      filter: drop-shadow(0px 1px 2px rgba(0, 0, 0, 0.3));\n",
              "      fill: #FFFFFF;\n",
              "    }\n",
              "  </style>\n",
              "\n",
              "      <script>\n",
              "        const buttonEl =\n",
              "          document.querySelector('#df-53153759-ae9f-42a1-a92a-57eedb751b1a button.colab-df-convert');\n",
              "        buttonEl.style.display =\n",
              "          google.colab.kernel.accessAllowed ? 'block' : 'none';\n",
              "\n",
              "        async function convertToInteractive(key) {\n",
              "          const element = document.querySelector('#df-53153759-ae9f-42a1-a92a-57eedb751b1a');\n",
              "          const dataTable =\n",
              "            await google.colab.kernel.invokeFunction('convertToInteractive',\n",
              "                                                     [key], {});\n",
              "          if (!dataTable) return;\n",
              "\n",
              "          const docLinkHtml = 'Like what you see? Visit the ' +\n",
              "            '<a target=\"_blank\" href=https://colab.research.google.com/notebooks/data_table.ipynb>data table notebook</a>'\n",
              "            + ' to learn more about interactive tables.';\n",
              "          element.innerHTML = '';\n",
              "          dataTable['output_type'] = 'display_data';\n",
              "          await google.colab.output.renderOutput(dataTable, element);\n",
              "          const docLink = document.createElement('div');\n",
              "          docLink.innerHTML = docLinkHtml;\n",
              "          element.appendChild(docLink);\n",
              "        }\n",
              "      </script>\n",
              "    </div>\n",
              "  </div>\n"
            ]
          },
          "metadata": {},
          "execution_count": 27
        }
      ]
    },
    {
      "cell_type": "markdown",
      "metadata": {
        "id": "LTqwgay8mwyF"
      },
      "source": [
        "Now, let's solve a problem of Movie Reviews"
      ]
    },
    {
      "cell_type": "code",
      "metadata": {
        "id": "x_kif-73jLGz"
      },
      "source": [
        "import os\n",
        "import numpy as np"
      ],
      "execution_count": null,
      "outputs": []
    },
    {
      "cell_type": "code",
      "metadata": {
        "id": "dCTDtJIkm9nk"
      },
      "source": [
        "#print(os.listdir(nltk.data.find('corpora')))"
      ],
      "execution_count": null,
      "outputs": []
    },
    {
      "cell_type": "code",
      "metadata": {
        "id": "r_WWaD1LnIv3",
        "colab": {
          "base_uri": "https://localhost:8080/"
        },
        "outputId": "e87aa9bb-f636-44bc-d5c7-725612033117"
      },
      "source": [
        "import nltk\n",
        "nltk.download('movie_reviews')\n",
        "from nltk.corpus import movie_reviews"
      ],
      "execution_count": null,
      "outputs": [
        {
          "output_type": "stream",
          "name": "stderr",
          "text": [
            "[nltk_data] Downloading package movie_reviews to /root/nltk_data...\n",
            "[nltk_data]   Unzipping corpora/movie_reviews.zip.\n"
          ]
        }
      ]
    },
    {
      "cell_type": "code",
      "metadata": {
        "id": "1olcwuN_nUst",
        "colab": {
          "base_uri": "https://localhost:8080/"
        },
        "outputId": "3a2c5cae-1d70-4c31-9afe-b930fa13d1c3"
      },
      "source": [
        "print(movie_reviews.categories())"
      ],
      "execution_count": null,
      "outputs": [
        {
          "output_type": "stream",
          "name": "stdout",
          "text": [
            "['neg', 'pos']\n"
          ]
        }
      ]
    },
    {
      "cell_type": "code",
      "metadata": {
        "id": "tNH2gboIoLz2",
        "colab": {
          "base_uri": "https://localhost:8080/"
        },
        "outputId": "a2c13a3c-4174-4c84-c4b9-ff6119604843"
      },
      "source": [
        "print(movie_reviews.fileids('pos'))"
      ],
      "execution_count": null,
      "outputs": [
        {
          "output_type": "stream",
          "name": "stdout",
          "text": [
            "['pos/cv000_29590.txt', 'pos/cv001_18431.txt', 'pos/cv002_15918.txt', 'pos/cv003_11664.txt', 'pos/cv004_11636.txt', 'pos/cv005_29443.txt', 'pos/cv006_15448.txt', 'pos/cv007_4968.txt', 'pos/cv008_29435.txt', 'pos/cv009_29592.txt', 'pos/cv010_29198.txt', 'pos/cv011_12166.txt', 'pos/cv012_29576.txt', 'pos/cv013_10159.txt', 'pos/cv014_13924.txt', 'pos/cv015_29439.txt', 'pos/cv016_4659.txt', 'pos/cv017_22464.txt', 'pos/cv018_20137.txt', 'pos/cv019_14482.txt', 'pos/cv020_8825.txt', 'pos/cv021_15838.txt', 'pos/cv022_12864.txt', 'pos/cv023_12672.txt', 'pos/cv024_6778.txt', 'pos/cv025_3108.txt', 'pos/cv026_29325.txt', 'pos/cv027_25219.txt', 'pos/cv028_26746.txt', 'pos/cv029_18643.txt', 'pos/cv030_21593.txt', 'pos/cv031_18452.txt', 'pos/cv032_22550.txt', 'pos/cv033_24444.txt', 'pos/cv034_29647.txt', 'pos/cv035_3954.txt', 'pos/cv036_16831.txt', 'pos/cv037_18510.txt', 'pos/cv038_9749.txt', 'pos/cv039_6170.txt', 'pos/cv040_8276.txt', 'pos/cv041_21113.txt', 'pos/cv042_10982.txt', 'pos/cv043_15013.txt', 'pos/cv044_16969.txt', 'pos/cv045_23923.txt', 'pos/cv046_10188.txt', 'pos/cv047_1754.txt', 'pos/cv048_16828.txt', 'pos/cv049_20471.txt', 'pos/cv050_11175.txt', 'pos/cv051_10306.txt', 'pos/cv052_29378.txt', 'pos/cv053_21822.txt', 'pos/cv054_4230.txt', 'pos/cv055_8338.txt', 'pos/cv056_13133.txt', 'pos/cv057_7453.txt', 'pos/cv058_8025.txt', 'pos/cv059_28885.txt', 'pos/cv060_10844.txt', 'pos/cv061_8837.txt', 'pos/cv062_23115.txt', 'pos/cv063_28997.txt', 'pos/cv064_24576.txt', 'pos/cv065_15248.txt', 'pos/cv066_10821.txt', 'pos/cv067_19774.txt', 'pos/cv068_13400.txt', 'pos/cv069_10801.txt', 'pos/cv070_12289.txt', 'pos/cv071_12095.txt', 'pos/cv072_6169.txt', 'pos/cv073_21785.txt', 'pos/cv074_6875.txt', 'pos/cv075_6500.txt', 'pos/cv076_24945.txt', 'pos/cv077_22138.txt', 'pos/cv078_14730.txt', 'pos/cv079_11933.txt', 'pos/cv080_13465.txt', 'pos/cv081_16582.txt', 'pos/cv082_11080.txt', 'pos/cv083_24234.txt', 'pos/cv084_13566.txt', 'pos/cv085_1381.txt', 'pos/cv086_18371.txt', 'pos/cv087_1989.txt', 'pos/cv088_24113.txt', 'pos/cv089_11418.txt', 'pos/cv090_0042.txt', 'pos/cv091_7400.txt', 'pos/cv092_28017.txt', 'pos/cv093_13951.txt', 'pos/cv094_27889.txt', 'pos/cv095_28892.txt', 'pos/cv096_11474.txt', 'pos/cv097_24970.txt', 'pos/cv098_15435.txt', 'pos/cv099_10534.txt', 'pos/cv100_11528.txt', 'pos/cv101_10175.txt', 'pos/cv102_7846.txt', 'pos/cv103_11021.txt', 'pos/cv104_18134.txt', 'pos/cv105_17990.txt', 'pos/cv106_16807.txt', 'pos/cv107_24319.txt', 'pos/cv108_15571.txt', 'pos/cv109_21172.txt', 'pos/cv110_27788.txt', 'pos/cv111_11473.txt', 'pos/cv112_11193.txt', 'pos/cv113_23102.txt', 'pos/cv114_18398.txt', 'pos/cv115_25396.txt', 'pos/cv116_28942.txt', 'pos/cv117_24295.txt', 'pos/cv118_28980.txt', 'pos/cv119_9867.txt', 'pos/cv120_4111.txt', 'pos/cv121_17302.txt', 'pos/cv122_7392.txt', 'pos/cv123_11182.txt', 'pos/cv124_4122.txt', 'pos/cv125_9391.txt', 'pos/cv126_28971.txt', 'pos/cv127_14711.txt', 'pos/cv128_29627.txt', 'pos/cv129_16741.txt', 'pos/cv130_17083.txt', 'pos/cv131_10713.txt', 'pos/cv132_5618.txt', 'pos/cv133_16336.txt', 'pos/cv134_22246.txt', 'pos/cv135_11603.txt', 'pos/cv136_11505.txt', 'pos/cv137_15422.txt', 'pos/cv138_12721.txt', 'pos/cv139_12873.txt', 'pos/cv140_7479.txt', 'pos/cv141_15686.txt', 'pos/cv142_22516.txt', 'pos/cv143_19666.txt', 'pos/cv144_5007.txt', 'pos/cv145_11472.txt', 'pos/cv146_18458.txt', 'pos/cv147_21193.txt', 'pos/cv148_16345.txt', 'pos/cv149_15670.txt', 'pos/cv150_12916.txt', 'pos/cv151_15771.txt', 'pos/cv152_8736.txt', 'pos/cv153_10779.txt', 'pos/cv154_9328.txt', 'pos/cv155_7308.txt', 'pos/cv156_10481.txt', 'pos/cv157_29372.txt', 'pos/cv158_10390.txt', 'pos/cv159_29505.txt', 'pos/cv160_10362.txt', 'pos/cv161_11425.txt', 'pos/cv162_10424.txt', 'pos/cv163_10052.txt', 'pos/cv164_22447.txt', 'pos/cv165_22619.txt', 'pos/cv166_11052.txt', 'pos/cv167_16376.txt', 'pos/cv168_7050.txt', 'pos/cv169_23778.txt', 'pos/cv170_3006.txt', 'pos/cv171_13537.txt', 'pos/cv172_11131.txt', 'pos/cv173_4471.txt', 'pos/cv174_9659.txt', 'pos/cv175_6964.txt', 'pos/cv176_12857.txt', 'pos/cv177_10367.txt', 'pos/cv178_12972.txt', 'pos/cv179_9228.txt', 'pos/cv180_16113.txt', 'pos/cv181_14401.txt', 'pos/cv182_7281.txt', 'pos/cv183_18612.txt', 'pos/cv184_2673.txt', 'pos/cv185_28654.txt', 'pos/cv186_2269.txt', 'pos/cv187_12829.txt', 'pos/cv188_19226.txt', 'pos/cv189_22934.txt', 'pos/cv190_27052.txt', 'pos/cv191_29719.txt', 'pos/cv192_14395.txt', 'pos/cv193_5416.txt', 'pos/cv194_12079.txt', 'pos/cv195_14528.txt', 'pos/cv196_29027.txt', 'pos/cv197_29328.txt', 'pos/cv198_18180.txt', 'pos/cv199_9629.txt', 'pos/cv200_2915.txt', 'pos/cv201_6997.txt', 'pos/cv202_10654.txt', 'pos/cv203_17986.txt', 'pos/cv204_8451.txt', 'pos/cv205_9457.txt', 'pos/cv206_14293.txt', 'pos/cv207_29284.txt', 'pos/cv208_9020.txt', 'pos/cv209_29118.txt', 'pos/cv210_9312.txt', 'pos/cv211_9953.txt', 'pos/cv212_10027.txt', 'pos/cv213_18934.txt', 'pos/cv214_12294.txt', 'pos/cv215_22240.txt', 'pos/cv216_18738.txt', 'pos/cv217_28842.txt', 'pos/cv218_24352.txt', 'pos/cv219_18626.txt', 'pos/cv220_29059.txt', 'pos/cv221_2695.txt', 'pos/cv222_17395.txt', 'pos/cv223_29066.txt', 'pos/cv224_17661.txt', 'pos/cv225_29224.txt', 'pos/cv226_2618.txt', 'pos/cv227_24215.txt', 'pos/cv228_5806.txt', 'pos/cv229_13611.txt', 'pos/cv230_7428.txt', 'pos/cv231_10425.txt', 'pos/cv232_14991.txt', 'pos/cv233_15964.txt', 'pos/cv234_20643.txt', 'pos/cv235_10217.txt', 'pos/cv236_11565.txt', 'pos/cv237_19221.txt', 'pos/cv238_12931.txt', 'pos/cv239_3385.txt', 'pos/cv240_14336.txt', 'pos/cv241_23130.txt', 'pos/cv242_10638.txt', 'pos/cv243_20728.txt', 'pos/cv244_21649.txt', 'pos/cv245_8569.txt', 'pos/cv246_28807.txt', 'pos/cv247_13142.txt', 'pos/cv248_13987.txt', 'pos/cv249_11640.txt', 'pos/cv250_25616.txt', 'pos/cv251_22636.txt', 'pos/cv252_23779.txt', 'pos/cv253_10077.txt', 'pos/cv254_6027.txt', 'pos/cv255_13683.txt', 'pos/cv256_14740.txt', 'pos/cv257_10975.txt', 'pos/cv258_5792.txt', 'pos/cv259_10934.txt', 'pos/cv260_13959.txt', 'pos/cv261_10954.txt', 'pos/cv262_12649.txt', 'pos/cv263_19259.txt', 'pos/cv264_12801.txt', 'pos/cv265_10814.txt', 'pos/cv266_25779.txt', 'pos/cv267_14952.txt', 'pos/cv268_18834.txt', 'pos/cv269_21732.txt', 'pos/cv270_6079.txt', 'pos/cv271_13837.txt', 'pos/cv272_18974.txt', 'pos/cv273_29112.txt', 'pos/cv274_25253.txt', 'pos/cv275_28887.txt', 'pos/cv276_15684.txt', 'pos/cv277_19091.txt', 'pos/cv278_13041.txt', 'pos/cv279_18329.txt', 'pos/cv280_8267.txt', 'pos/cv281_23253.txt', 'pos/cv282_6653.txt', 'pos/cv283_11055.txt', 'pos/cv284_19119.txt', 'pos/cv285_16494.txt', 'pos/cv286_25050.txt', 'pos/cv287_15900.txt', 'pos/cv288_18791.txt', 'pos/cv289_6463.txt', 'pos/cv290_11084.txt', 'pos/cv291_26635.txt', 'pos/cv292_7282.txt', 'pos/cv293_29856.txt', 'pos/cv294_11684.txt', 'pos/cv295_15570.txt', 'pos/cv296_12251.txt', 'pos/cv297_10047.txt', 'pos/cv298_23111.txt', 'pos/cv299_16214.txt', 'pos/cv300_22284.txt', 'pos/cv301_12146.txt', 'pos/cv302_25649.txt', 'pos/cv303_27520.txt', 'pos/cv304_28706.txt', 'pos/cv305_9946.txt', 'pos/cv306_10364.txt', 'pos/cv307_25270.txt', 'pos/cv308_5016.txt', 'pos/cv309_22571.txt', 'pos/cv310_13091.txt', 'pos/cv311_16002.txt', 'pos/cv312_29377.txt', 'pos/cv313_18198.txt', 'pos/cv314_14422.txt', 'pos/cv315_11629.txt', 'pos/cv316_6370.txt', 'pos/cv317_24049.txt', 'pos/cv318_10493.txt', 'pos/cv319_14727.txt', 'pos/cv320_9530.txt', 'pos/cv321_12843.txt', 'pos/cv322_20318.txt', 'pos/cv323_29805.txt', 'pos/cv324_7082.txt', 'pos/cv325_16629.txt', 'pos/cv326_13295.txt', 'pos/cv327_20292.txt', 'pos/cv328_10373.txt', 'pos/cv329_29370.txt', 'pos/cv330_29809.txt', 'pos/cv331_8273.txt', 'pos/cv332_16307.txt', 'pos/cv333_8916.txt', 'pos/cv334_10001.txt', 'pos/cv335_14665.txt', 'pos/cv336_10143.txt', 'pos/cv337_29181.txt', 'pos/cv338_8821.txt', 'pos/cv339_21119.txt', 'pos/cv340_13287.txt', 'pos/cv341_24430.txt', 'pos/cv342_19456.txt', 'pos/cv343_10368.txt', 'pos/cv344_5312.txt', 'pos/cv345_9954.txt', 'pos/cv346_18168.txt', 'pos/cv347_13194.txt', 'pos/cv348_18176.txt', 'pos/cv349_13507.txt', 'pos/cv350_20670.txt', 'pos/cv351_15458.txt', 'pos/cv352_5524.txt', 'pos/cv353_18159.txt', 'pos/cv354_8132.txt', 'pos/cv355_16413.txt', 'pos/cv356_25163.txt', 'pos/cv357_13156.txt', 'pos/cv358_10691.txt', 'pos/cv359_6647.txt', 'pos/cv360_8398.txt', 'pos/cv361_28944.txt', 'pos/cv362_15341.txt', 'pos/cv363_29332.txt', 'pos/cv364_12901.txt', 'pos/cv365_11576.txt', 'pos/cv366_10221.txt', 'pos/cv367_22792.txt', 'pos/cv368_10466.txt', 'pos/cv369_12886.txt', 'pos/cv370_5221.txt', 'pos/cv371_7630.txt', 'pos/cv372_6552.txt', 'pos/cv373_20404.txt', 'pos/cv374_25436.txt', 'pos/cv375_9929.txt', 'pos/cv376_19435.txt', 'pos/cv377_7946.txt', 'pos/cv378_20629.txt', 'pos/cv379_21963.txt', 'pos/cv380_7574.txt', 'pos/cv381_20172.txt', 'pos/cv382_7897.txt', 'pos/cv383_13116.txt', 'pos/cv384_17140.txt', 'pos/cv385_29741.txt', 'pos/cv386_10080.txt', 'pos/cv387_11507.txt', 'pos/cv388_12009.txt', 'pos/cv389_9369.txt', 'pos/cv390_11345.txt', 'pos/cv391_10802.txt', 'pos/cv392_11458.txt', 'pos/cv393_29327.txt', 'pos/cv394_5137.txt', 'pos/cv395_10849.txt', 'pos/cv396_17989.txt', 'pos/cv397_29023.txt', 'pos/cv398_15537.txt', 'pos/cv399_2877.txt', 'pos/cv400_19220.txt', 'pos/cv401_12605.txt', 'pos/cv402_14425.txt', 'pos/cv403_6621.txt', 'pos/cv404_20315.txt', 'pos/cv405_20399.txt', 'pos/cv406_21020.txt', 'pos/cv407_22637.txt', 'pos/cv408_5297.txt', 'pos/cv409_29786.txt', 'pos/cv410_24266.txt', 'pos/cv411_15007.txt', 'pos/cv412_24095.txt', 'pos/cv413_7398.txt', 'pos/cv414_10518.txt', 'pos/cv415_22517.txt', 'pos/cv416_11136.txt', 'pos/cv417_13115.txt', 'pos/cv418_14774.txt', 'pos/cv419_13394.txt', 'pos/cv420_28795.txt', 'pos/cv421_9709.txt', 'pos/cv422_9381.txt', 'pos/cv423_11155.txt', 'pos/cv424_8831.txt', 'pos/cv425_8250.txt', 'pos/cv426_10421.txt', 'pos/cv427_10825.txt', 'pos/cv428_11347.txt', 'pos/cv429_7439.txt', 'pos/cv430_17351.txt', 'pos/cv431_7085.txt', 'pos/cv432_14224.txt', 'pos/cv433_10144.txt', 'pos/cv434_5793.txt', 'pos/cv435_23110.txt', 'pos/cv436_19179.txt', 'pos/cv437_22849.txt', 'pos/cv438_8043.txt', 'pos/cv439_15970.txt', 'pos/cv440_15243.txt', 'pos/cv441_13711.txt', 'pos/cv442_13846.txt', 'pos/cv443_21118.txt', 'pos/cv444_9974.txt', 'pos/cv445_25882.txt', 'pos/cv446_11353.txt', 'pos/cv447_27332.txt', 'pos/cv448_14695.txt', 'pos/cv449_8785.txt', 'pos/cv450_7890.txt', 'pos/cv451_10690.txt', 'pos/cv452_5088.txt', 'pos/cv453_10379.txt', 'pos/cv454_2053.txt', 'pos/cv455_29000.txt', 'pos/cv456_18985.txt', 'pos/cv457_18453.txt', 'pos/cv458_8604.txt', 'pos/cv459_20319.txt', 'pos/cv460_10842.txt', 'pos/cv461_19600.txt', 'pos/cv462_19350.txt', 'pos/cv463_10343.txt', 'pos/cv464_15650.txt', 'pos/cv465_22431.txt', 'pos/cv466_18722.txt', 'pos/cv467_25773.txt', 'pos/cv468_15228.txt', 'pos/cv469_20630.txt', 'pos/cv470_15952.txt', 'pos/cv471_16858.txt', 'pos/cv472_29280.txt', 'pos/cv473_7367.txt', 'pos/cv474_10209.txt', 'pos/cv475_21692.txt', 'pos/cv476_16856.txt', 'pos/cv477_22479.txt', 'pos/cv478_14309.txt', 'pos/cv479_5649.txt', 'pos/cv480_19817.txt', 'pos/cv481_7436.txt', 'pos/cv482_10580.txt', 'pos/cv483_16378.txt', 'pos/cv484_25054.txt', 'pos/cv485_26649.txt', 'pos/cv486_9799.txt', 'pos/cv487_10446.txt', 'pos/cv488_19856.txt', 'pos/cv489_17906.txt', 'pos/cv490_17872.txt', 'pos/cv491_12145.txt', 'pos/cv492_18271.txt', 'pos/cv493_12839.txt', 'pos/cv494_17389.txt', 'pos/cv495_14518.txt', 'pos/cv496_10530.txt', 'pos/cv497_26980.txt', 'pos/cv498_8832.txt', 'pos/cv499_10658.txt', 'pos/cv500_10251.txt', 'pos/cv501_11657.txt', 'pos/cv502_10406.txt', 'pos/cv503_10558.txt', 'pos/cv504_29243.txt', 'pos/cv505_12090.txt', 'pos/cv506_15956.txt', 'pos/cv507_9220.txt', 'pos/cv508_16006.txt', 'pos/cv509_15888.txt', 'pos/cv510_23360.txt', 'pos/cv511_10132.txt', 'pos/cv512_15965.txt', 'pos/cv513_6923.txt', 'pos/cv514_11187.txt', 'pos/cv515_17069.txt', 'pos/cv516_11172.txt', 'pos/cv517_19219.txt', 'pos/cv518_13331.txt', 'pos/cv519_14661.txt', 'pos/cv520_12295.txt', 'pos/cv521_15828.txt', 'pos/cv522_5583.txt', 'pos/cv523_16615.txt', 'pos/cv524_23627.txt', 'pos/cv525_16122.txt', 'pos/cv526_12083.txt', 'pos/cv527_10123.txt', 'pos/cv528_10822.txt', 'pos/cv529_10420.txt', 'pos/cv530_16212.txt', 'pos/cv531_26486.txt', 'pos/cv532_6522.txt', 'pos/cv533_9821.txt', 'pos/cv534_14083.txt', 'pos/cv535_19728.txt', 'pos/cv536_27134.txt', 'pos/cv537_12370.txt', 'pos/cv538_28667.txt', 'pos/cv539_20347.txt', 'pos/cv540_3421.txt', 'pos/cv541_28835.txt', 'pos/cv542_18980.txt', 'pos/cv543_5045.txt', 'pos/cv544_5108.txt', 'pos/cv545_12014.txt', 'pos/cv546_11767.txt', 'pos/cv547_16324.txt', 'pos/cv548_17731.txt', 'pos/cv549_21443.txt', 'pos/cv550_22211.txt', 'pos/cv551_10565.txt', 'pos/cv552_10016.txt', 'pos/cv553_26915.txt', 'pos/cv554_13151.txt', 'pos/cv555_23922.txt', 'pos/cv556_14808.txt', 'pos/cv557_11449.txt', 'pos/cv558_29507.txt', 'pos/cv559_0050.txt', 'pos/cv560_17175.txt', 'pos/cv561_9201.txt', 'pos/cv562_10359.txt', 'pos/cv563_17257.txt', 'pos/cv564_11110.txt', 'pos/cv565_29572.txt', 'pos/cv566_8581.txt', 'pos/cv567_29611.txt', 'pos/cv568_15638.txt', 'pos/cv569_26381.txt', 'pos/cv570_29082.txt', 'pos/cv571_29366.txt', 'pos/cv572_18657.txt', 'pos/cv573_29525.txt', 'pos/cv574_22156.txt', 'pos/cv575_21150.txt', 'pos/cv576_14094.txt', 'pos/cv577_28549.txt', 'pos/cv578_15094.txt', 'pos/cv579_11605.txt', 'pos/cv580_14064.txt', 'pos/cv581_19381.txt', 'pos/cv582_6559.txt', 'pos/cv583_29692.txt', 'pos/cv584_29722.txt', 'pos/cv585_22496.txt', 'pos/cv586_7543.txt', 'pos/cv587_19162.txt', 'pos/cv588_13008.txt', 'pos/cv589_12064.txt', 'pos/cv590_19290.txt', 'pos/cv591_23640.txt', 'pos/cv592_22315.txt', 'pos/cv593_10987.txt', 'pos/cv594_11039.txt', 'pos/cv595_25335.txt', 'pos/cv596_28311.txt', 'pos/cv597_26360.txt', 'pos/cv598_16452.txt', 'pos/cv599_20988.txt', 'pos/cv600_23878.txt', 'pos/cv601_23453.txt', 'pos/cv602_8300.txt', 'pos/cv603_17694.txt', 'pos/cv604_2230.txt', 'pos/cv605_11800.txt', 'pos/cv606_15985.txt', 'pos/cv607_7717.txt', 'pos/cv608_23231.txt', 'pos/cv609_23877.txt', 'pos/cv610_2287.txt', 'pos/cv611_21120.txt', 'pos/cv612_5461.txt', 'pos/cv613_21796.txt', 'pos/cv614_10626.txt', 'pos/cv615_14182.txt', 'pos/cv616_29319.txt', 'pos/cv617_9322.txt', 'pos/cv618_8974.txt', 'pos/cv619_12462.txt', 'pos/cv620_24265.txt', 'pos/cv621_14368.txt', 'pos/cv622_8147.txt', 'pos/cv623_15356.txt', 'pos/cv624_10744.txt', 'pos/cv625_12440.txt', 'pos/cv626_7410.txt', 'pos/cv627_11620.txt', 'pos/cv628_19325.txt', 'pos/cv629_14909.txt', 'pos/cv630_10057.txt', 'pos/cv631_4967.txt', 'pos/cv632_9610.txt', 'pos/cv633_29837.txt', 'pos/cv634_11101.txt', 'pos/cv635_10022.txt', 'pos/cv636_15279.txt', 'pos/cv637_1250.txt', 'pos/cv638_2953.txt', 'pos/cv639_10308.txt', 'pos/cv640_5378.txt', 'pos/cv641_12349.txt', 'pos/cv642_29867.txt', 'pos/cv643_29349.txt', 'pos/cv644_17154.txt', 'pos/cv645_15668.txt', 'pos/cv646_15065.txt', 'pos/cv647_13691.txt', 'pos/cv648_15792.txt', 'pos/cv649_12735.txt', 'pos/cv650_14340.txt', 'pos/cv651_10492.txt', 'pos/cv652_13972.txt', 'pos/cv653_19583.txt', 'pos/cv654_18246.txt', 'pos/cv655_11154.txt', 'pos/cv656_24201.txt', 'pos/cv657_24513.txt', 'pos/cv658_10532.txt', 'pos/cv659_19944.txt', 'pos/cv660_21893.txt', 'pos/cv661_2450.txt', 'pos/cv662_13320.txt', 'pos/cv663_13019.txt', 'pos/cv664_4389.txt', 'pos/cv665_29538.txt', 'pos/cv666_18963.txt', 'pos/cv667_18467.txt', 'pos/cv668_17604.txt', 'pos/cv669_22995.txt', 'pos/cv670_25826.txt', 'pos/cv671_5054.txt', 'pos/cv672_28083.txt', 'pos/cv673_24714.txt', 'pos/cv674_10732.txt', 'pos/cv675_21588.txt', 'pos/cv676_21090.txt', 'pos/cv677_17715.txt', 'pos/cv678_13419.txt', 'pos/cv679_28559.txt', 'pos/cv680_10160.txt', 'pos/cv681_9692.txt', 'pos/cv682_16139.txt', 'pos/cv683_12167.txt', 'pos/cv684_11798.txt', 'pos/cv685_5947.txt', 'pos/cv686_13900.txt', 'pos/cv687_21100.txt', 'pos/cv688_7368.txt', 'pos/cv689_12587.txt', 'pos/cv690_5619.txt', 'pos/cv691_5043.txt', 'pos/cv692_15451.txt', 'pos/cv693_18063.txt', 'pos/cv694_4876.txt', 'pos/cv695_21108.txt', 'pos/cv696_29740.txt', 'pos/cv697_11162.txt', 'pos/cv698_15253.txt', 'pos/cv699_7223.txt', 'pos/cv700_21947.txt', 'pos/cv701_14252.txt', 'pos/cv702_11500.txt', 'pos/cv703_16143.txt', 'pos/cv704_15969.txt', 'pos/cv705_11059.txt', 'pos/cv706_24716.txt', 'pos/cv707_10678.txt', 'pos/cv708_28729.txt', 'pos/cv709_10529.txt', 'pos/cv710_22577.txt', 'pos/cv711_11665.txt', 'pos/cv712_22920.txt', 'pos/cv713_29155.txt', 'pos/cv714_18502.txt', 'pos/cv715_18179.txt', 'pos/cv716_10514.txt', 'pos/cv717_15953.txt', 'pos/cv718_11434.txt', 'pos/cv719_5713.txt', 'pos/cv720_5389.txt', 'pos/cv721_29121.txt', 'pos/cv722_7110.txt', 'pos/cv723_8648.txt', 'pos/cv724_13681.txt', 'pos/cv725_10103.txt', 'pos/cv726_4719.txt', 'pos/cv727_4978.txt', 'pos/cv728_16133.txt', 'pos/cv729_10154.txt', 'pos/cv730_10279.txt', 'pos/cv731_4136.txt', 'pos/cv732_12245.txt', 'pos/cv733_9839.txt', 'pos/cv734_21568.txt', 'pos/cv735_18801.txt', 'pos/cv736_23670.txt', 'pos/cv737_28907.txt', 'pos/cv738_10116.txt', 'pos/cv739_11209.txt', 'pos/cv740_12445.txt', 'pos/cv741_11890.txt', 'pos/cv742_7751.txt', 'pos/cv743_15449.txt', 'pos/cv744_10038.txt', 'pos/cv745_12773.txt', 'pos/cv746_10147.txt', 'pos/cv747_16556.txt', 'pos/cv748_12786.txt', 'pos/cv749_17765.txt', 'pos/cv750_10180.txt', 'pos/cv751_15719.txt', 'pos/cv752_24155.txt', 'pos/cv753_10875.txt', 'pos/cv754_7216.txt', 'pos/cv755_23616.txt', 'pos/cv756_22540.txt', 'pos/cv757_10189.txt', 'pos/cv758_9671.txt', 'pos/cv759_13522.txt', 'pos/cv760_8597.txt', 'pos/cv761_12620.txt', 'pos/cv762_13927.txt', 'pos/cv763_14729.txt', 'pos/cv764_11739.txt', 'pos/cv765_19037.txt', 'pos/cv766_7540.txt', 'pos/cv767_14062.txt', 'pos/cv768_11751.txt', 'pos/cv769_8123.txt', 'pos/cv770_10451.txt', 'pos/cv771_28665.txt', 'pos/cv772_12119.txt', 'pos/cv773_18817.txt', 'pos/cv774_13845.txt', 'pos/cv775_16237.txt', 'pos/cv776_20529.txt', 'pos/cv777_10094.txt', 'pos/cv778_17330.txt', 'pos/cv779_17881.txt', 'pos/cv780_7984.txt', 'pos/cv781_5262.txt', 'pos/cv782_19526.txt', 'pos/cv783_13227.txt', 'pos/cv784_14394.txt', 'pos/cv785_22600.txt', 'pos/cv786_22497.txt', 'pos/cv787_13743.txt', 'pos/cv788_25272.txt', 'pos/cv789_12136.txt', 'pos/cv790_14600.txt', 'pos/cv791_16302.txt', 'pos/cv792_3832.txt', 'pos/cv793_13650.txt', 'pos/cv794_15868.txt', 'pos/cv795_10122.txt', 'pos/cv796_15782.txt', 'pos/cv797_6957.txt', 'pos/cv798_23531.txt', 'pos/cv799_18543.txt', 'pos/cv800_12368.txt', 'pos/cv801_25228.txt', 'pos/cv802_28664.txt', 'pos/cv803_8207.txt', 'pos/cv804_10862.txt', 'pos/cv805_19601.txt', 'pos/cv806_8842.txt', 'pos/cv807_21740.txt', 'pos/cv808_12635.txt', 'pos/cv809_5009.txt', 'pos/cv810_12458.txt', 'pos/cv811_21386.txt', 'pos/cv812_17924.txt', 'pos/cv813_6534.txt', 'pos/cv814_18975.txt', 'pos/cv815_22456.txt', 'pos/cv816_13655.txt', 'pos/cv817_4041.txt', 'pos/cv818_10211.txt', 'pos/cv819_9364.txt', 'pos/cv820_22892.txt', 'pos/cv821_29364.txt', 'pos/cv822_20049.txt', 'pos/cv823_15569.txt', 'pos/cv824_8838.txt', 'pos/cv825_5063.txt', 'pos/cv826_11834.txt', 'pos/cv827_18331.txt', 'pos/cv828_19831.txt', 'pos/cv829_20289.txt', 'pos/cv830_6014.txt', 'pos/cv831_14689.txt', 'pos/cv832_23275.txt', 'pos/cv833_11053.txt', 'pos/cv834_22195.txt', 'pos/cv835_19159.txt', 'pos/cv836_12968.txt', 'pos/cv837_27325.txt', 'pos/cv838_24728.txt', 'pos/cv839_21467.txt', 'pos/cv840_16321.txt', 'pos/cv841_3967.txt', 'pos/cv842_5866.txt', 'pos/cv843_15544.txt', 'pos/cv844_12690.txt', 'pos/cv845_14290.txt', 'pos/cv846_29497.txt', 'pos/cv847_1941.txt', 'pos/cv848_10036.txt', 'pos/cv849_15729.txt', 'pos/cv850_16466.txt', 'pos/cv851_20469.txt', 'pos/cv852_27523.txt', 'pos/cv853_29233.txt', 'pos/cv854_17740.txt', 'pos/cv855_20661.txt', 'pos/cv856_29013.txt', 'pos/cv857_15958.txt', 'pos/cv858_18819.txt', 'pos/cv859_14107.txt', 'pos/cv860_13853.txt', 'pos/cv861_1198.txt', 'pos/cv862_14324.txt', 'pos/cv863_7424.txt', 'pos/cv864_3416.txt', 'pos/cv865_2895.txt', 'pos/cv866_29691.txt', 'pos/cv867_16661.txt', 'pos/cv868_11948.txt', 'pos/cv869_23611.txt', 'pos/cv870_16348.txt', 'pos/cv871_24888.txt', 'pos/cv872_12591.txt', 'pos/cv873_18636.txt', 'pos/cv874_11236.txt', 'pos/cv875_5754.txt', 'pos/cv876_9390.txt', 'pos/cv877_29274.txt', 'pos/cv878_15694.txt', 'pos/cv879_14903.txt', 'pos/cv880_29800.txt', 'pos/cv881_13254.txt', 'pos/cv882_10026.txt', 'pos/cv883_27751.txt', 'pos/cv884_13632.txt', 'pos/cv885_12318.txt', 'pos/cv886_18177.txt', 'pos/cv887_5126.txt', 'pos/cv888_24435.txt', 'pos/cv889_21430.txt', 'pos/cv890_3977.txt', 'pos/cv891_6385.txt', 'pos/cv892_17576.txt', 'pos/cv893_26269.txt', 'pos/cv894_2068.txt', 'pos/cv895_21022.txt', 'pos/cv896_16071.txt', 'pos/cv897_10837.txt', 'pos/cv898_14187.txt', 'pos/cv899_16014.txt', 'pos/cv900_10331.txt', 'pos/cv901_11017.txt', 'pos/cv902_12256.txt', 'pos/cv903_17822.txt', 'pos/cv904_24353.txt', 'pos/cv905_29114.txt', 'pos/cv906_11491.txt', 'pos/cv907_3541.txt', 'pos/cv908_16009.txt', 'pos/cv909_9960.txt', 'pos/cv910_20488.txt', 'pos/cv911_20260.txt', 'pos/cv912_5674.txt', 'pos/cv913_29252.txt', 'pos/cv914_28742.txt', 'pos/cv915_8841.txt', 'pos/cv916_15467.txt', 'pos/cv917_29715.txt', 'pos/cv918_2693.txt', 'pos/cv919_16380.txt', 'pos/cv920_29622.txt', 'pos/cv921_12747.txt', 'pos/cv922_10073.txt', 'pos/cv923_11051.txt', 'pos/cv924_29540.txt', 'pos/cv925_8969.txt', 'pos/cv926_17059.txt', 'pos/cv927_10681.txt', 'pos/cv928_9168.txt', 'pos/cv929_16908.txt', 'pos/cv930_13475.txt', 'pos/cv931_17563.txt', 'pos/cv932_13401.txt', 'pos/cv933_23776.txt', 'pos/cv934_19027.txt', 'pos/cv935_23841.txt', 'pos/cv936_15954.txt', 'pos/cv937_9811.txt', 'pos/cv938_10220.txt', 'pos/cv939_10583.txt', 'pos/cv940_17705.txt', 'pos/cv941_10246.txt', 'pos/cv942_17082.txt', 'pos/cv943_22488.txt', 'pos/cv944_13521.txt', 'pos/cv945_12160.txt', 'pos/cv946_18658.txt', 'pos/cv947_10601.txt', 'pos/cv948_24606.txt', 'pos/cv949_20112.txt', 'pos/cv950_12350.txt', 'pos/cv951_10926.txt', 'pos/cv952_25240.txt', 'pos/cv953_6836.txt', 'pos/cv954_18628.txt', 'pos/cv955_25001.txt', 'pos/cv956_11609.txt', 'pos/cv957_8737.txt', 'pos/cv958_12162.txt', 'pos/cv959_14611.txt', 'pos/cv960_29007.txt', 'pos/cv961_5682.txt', 'pos/cv962_9803.txt', 'pos/cv963_6895.txt', 'pos/cv964_6021.txt', 'pos/cv965_26071.txt', 'pos/cv966_28832.txt', 'pos/cv967_5788.txt', 'pos/cv968_24218.txt', 'pos/cv969_13250.txt', 'pos/cv970_18450.txt', 'pos/cv971_10874.txt', 'pos/cv972_26417.txt', 'pos/cv973_10066.txt', 'pos/cv974_22941.txt', 'pos/cv975_10981.txt', 'pos/cv976_10267.txt', 'pos/cv977_4938.txt', 'pos/cv978_20929.txt', 'pos/cv979_18921.txt', 'pos/cv980_10953.txt', 'pos/cv981_14989.txt', 'pos/cv982_21103.txt', 'pos/cv983_22928.txt', 'pos/cv984_12767.txt', 'pos/cv985_6359.txt', 'pos/cv986_13527.txt', 'pos/cv987_6965.txt', 'pos/cv988_18740.txt', 'pos/cv989_15824.txt', 'pos/cv990_11591.txt', 'pos/cv991_18645.txt', 'pos/cv992_11962.txt', 'pos/cv993_29737.txt', 'pos/cv994_12270.txt', 'pos/cv995_21821.txt', 'pos/cv996_11592.txt', 'pos/cv997_5046.txt', 'pos/cv998_14111.txt', 'pos/cv999_13106.txt']\n"
          ]
        }
      ]
    },
    {
      "cell_type": "code",
      "metadata": {
        "id": "FGtihxtZoebq",
        "colab": {
          "base_uri": "https://localhost:8080/"
        },
        "outputId": "a9bc09e4-d379-4866-f408-d6f40c60713f"
      },
      "source": [
        "print(len(movie_reviews.fileids('pos')))\n",
        "print(len(movie_reviews.fileids('neg')))"
      ],
      "execution_count": null,
      "outputs": [
        {
          "output_type": "stream",
          "name": "stdout",
          "text": [
            "1000\n",
            "1000\n"
          ]
        }
      ]
    },
    {
      "cell_type": "code",
      "metadata": {
        "id": "MM6zLEYGo0wT",
        "colab": {
          "base_uri": "https://localhost:8080/"
        },
        "outputId": "385ade02-dc4f-45f3-fb4c-dc451bbd3a98"
      },
      "source": [
        "review = nltk.corpus.movie_reviews.words('pos/cv000_29590.txt')\n",
        "review"
      ],
      "execution_count": null,
      "outputs": [
        {
          "output_type": "execute_result",
          "data": {
            "text/plain": [
              "['films', 'adapted', 'from', 'comic', 'books', 'have', ...]"
            ]
          },
          "metadata": {},
          "execution_count": 7
        }
      ]
    },
    {
      "cell_type": "markdown",
      "metadata": {
        "id": "56STHCckpEkA"
      },
      "source": [
        "We can only use Count Vectorizer and TF-IDF approach in a string. so, out next target is to detokenize movie_reviews"
      ]
    },
    {
      "cell_type": "code",
      "metadata": {
        "id": "Hrh0p4GvpAuO",
        "colab": {
          "base_uri": "https://localhost:8080/"
        },
        "outputId": "5f7f6801-0ffa-48da-b3aa-b2fc86c896c9"
      },
      "source": [
        "#nltk.download('perluniprops')\n",
        "!pip install mosestokenizer\n",
        "from mosestokenizer import MosesDetokenizer\n",
        "detokenizer = MosesDetokenizer()"
      ],
      "execution_count": null,
      "outputs": [
        {
          "output_type": "stream",
          "name": "stdout",
          "text": [
            "Collecting mosestokenizer\n",
            "  Downloading mosestokenizer-1.2.1.tar.gz (37 kB)\n",
            "  Preparing metadata (setup.py) ... \u001b[?25l\u001b[?25hdone\n",
            "Collecting docopt (from mosestokenizer)\n",
            "  Downloading docopt-0.6.2.tar.gz (25 kB)\n",
            "  Preparing metadata (setup.py) ... \u001b[?25l\u001b[?25hdone\n",
            "Collecting openfile (from mosestokenizer)\n",
            "  Downloading openfile-0.0.7-py3-none-any.whl (2.4 kB)\n",
            "Collecting uctools (from mosestokenizer)\n",
            "  Downloading uctools-1.3.0.tar.gz (4.6 kB)\n",
            "  Preparing metadata (setup.py) ... \u001b[?25l\u001b[?25hdone\n",
            "Collecting toolwrapper (from mosestokenizer)\n",
            "  Downloading toolwrapper-2.1.0.tar.gz (3.2 kB)\n",
            "  Preparing metadata (setup.py) ... \u001b[?25l\u001b[?25hdone\n",
            "Building wheels for collected packages: mosestokenizer, docopt, toolwrapper, uctools\n",
            "  Building wheel for mosestokenizer (setup.py) ... \u001b[?25l\u001b[?25hdone\n",
            "  Created wheel for mosestokenizer: filename=mosestokenizer-1.2.1-py3-none-any.whl size=49170 sha256=dd8f1ac94d798c65a5b48a12f42296ff919494ddc9a6928aeed44f3f3327d119\n",
            "  Stored in directory: /root/.cache/pip/wheels/80/d8/15/4c5ebbe883513f003cb055a0369c77c9df857023a706f39e70\n",
            "  Building wheel for docopt (setup.py) ... \u001b[?25l\u001b[?25hdone\n",
            "  Created wheel for docopt: filename=docopt-0.6.2-py2.py3-none-any.whl size=13705 sha256=5f8443324d9e00d8da9014e73e4bc23fa09e37a407bbd5e4ad659af204cf6911\n",
            "  Stored in directory: /root/.cache/pip/wheels/fc/ab/d4/5da2067ac95b36618c629a5f93f809425700506f72c9732fac\n",
            "  Building wheel for toolwrapper (setup.py) ... \u001b[?25l\u001b[?25hdone\n",
            "  Created wheel for toolwrapper: filename=toolwrapper-2.1.0-py3-none-any.whl size=3337 sha256=9b7114038e8608001b19e7860b91a3cca5ce1e5e42bad22735469e9e39392195\n",
            "  Stored in directory: /root/.cache/pip/wheels/e1/af/b1/99b57a06dda78fdcee86d2e22c64743f3b8df8f31cfc04baf7\n",
            "  Building wheel for uctools (setup.py) ... \u001b[?25l\u001b[?25hdone\n",
            "  Created wheel for uctools: filename=uctools-1.3.0-py3-none-any.whl size=6146 sha256=cf4ec82a31ee5a586a11a33e321d0b60dfe420438276e75d0d63807344336a56\n",
            "  Stored in directory: /root/.cache/pip/wheels/05/ee/10/33257b0801ac6a912c841939032c16da1eb3db377afe1443e5\n",
            "Successfully built mosestokenizer docopt toolwrapper uctools\n",
            "Installing collected packages: toolwrapper, openfile, docopt, uctools, mosestokenizer\n",
            "Successfully installed docopt-0.6.2 mosestokenizer-1.2.1 openfile-0.0.7 toolwrapper-2.1.0 uctools-1.3.0\n"
          ]
        }
      ]
    },
    {
      "cell_type": "code",
      "metadata": {
        "id": "gdmTdr6hpt3R",
        "colab": {
          "base_uri": "https://localhost:8080/",
          "height": 176
        },
        "outputId": "1fff742f-2ed3-40fe-ff09-365de97bf3f3"
      },
      "source": [
        "detokenizer.detokenize(review,return_str=True)"
      ],
      "execution_count": null,
      "outputs": [
        {
          "output_type": "error",
          "ename": "AttributeError",
          "evalue": "ignored",
          "traceback": [
            "\u001b[0;31m---------------------------------------------------------------------------\u001b[0m",
            "\u001b[0;31mAttributeError\u001b[0m                            Traceback (most recent call last)",
            "\u001b[0;32m<ipython-input-37-e80210637705>\u001b[0m in \u001b[0;36m<cell line: 1>\u001b[0;34m()\u001b[0m\n\u001b[0;32m----> 1\u001b[0;31m \u001b[0mdetokenizer\u001b[0m\u001b[0;34m.\u001b[0m\u001b[0mdetokenize\u001b[0m\u001b[0;34m(\u001b[0m\u001b[0mreview\u001b[0m\u001b[0;34m,\u001b[0m\u001b[0mreturn_str\u001b[0m\u001b[0;34m=\u001b[0m\u001b[0;32mTrue\u001b[0m\u001b[0;34m)\u001b[0m\u001b[0;34m\u001b[0m\u001b[0;34m\u001b[0m\u001b[0m\n\u001b[0m",
            "\u001b[0;31mAttributeError\u001b[0m: 'MosesDetokenizer' object has no attribute 'detokenize'"
          ]
        }
      ]
    },
    {
      "cell_type": "markdown",
      "metadata": {
        "id": "hpERTnQXimQP"
      },
      "source": [
        "We can also use Join method to detokenize"
      ]
    },
    {
      "cell_type": "code",
      "metadata": {
        "id": "Ve_gnZceiWgE"
      },
      "source": [
        "neg_rev = movie_reviews.fileids('neg')\n",
        "pos_rev = movie_reviews.fileids('pos')"
      ],
      "execution_count": null,
      "outputs": []
    },
    {
      "cell_type": "code",
      "metadata": {
        "id": "0CLOvgE5GlIG"
      },
      "source": [
        "rev_list = []\n",
        "for rev in neg_rev:\n",
        "    rev_text_neg = rev = nltk.corpus.movie_reviews.words(rev)\n",
        "    review_one_string = \" \".join(rev_text_neg)\n",
        "    review_one_string = review_one_string.replace(' ,' , ',')\n",
        "    review_one_string = review_one_string.replace(' .' , '.')\n",
        "    review_one_string = review_one_string.replace(\"\\' \" , \"'\")\n",
        "    review_one_string = review_one_string.replace(\" \\'\", \"'\")\n",
        "    rev_list.append(review_one_string)"
      ],
      "execution_count": null,
      "outputs": []
    },
    {
      "cell_type": "code",
      "metadata": {
        "id": "XSWzHtaVI6J4",
        "colab": {
          "base_uri": "https://localhost:8080/"
        },
        "outputId": "02cb49c8-8542-4504-cdad-21c09dccab7a"
      },
      "source": [
        "len(rev_list)"
      ],
      "execution_count": null,
      "outputs": [
        {
          "output_type": "execute_result",
          "data": {
            "text/plain": [
              "1000"
            ]
          },
          "metadata": {},
          "execution_count": 10
        }
      ]
    },
    {
      "cell_type": "code",
      "source": [
        "rev_list[1]"
      ],
      "metadata": {
        "colab": {
          "base_uri": "https://localhost:8080/",
          "height": 122
        },
        "id": "1GETRonu4lPw",
        "outputId": "25c8bef1-6998-4531-cc94-ea4cd7ae35f4"
      },
      "execution_count": null,
      "outputs": [
        {
          "output_type": "execute_result",
          "data": {
            "text/plain": [
              "'the happy bastard\\'s quick movie review damn that y2k bug. it\\'s got a head start in this movie starring jamie lee curtis and another baldwin brother ( william this time ) in a story regarding a crew of a tugboat that comes across a deserted russian tech ship that has a strangeness to it when they kick the power back on. little do they know the power within... going for the gore and bringing on a few action sequences here and there, virus still feels very empty, like a movie going for all flash and no substance. we don\\'t know why the crew was really out in the middle of nowhere, we don\\'t know the origin of what took over the ship ( just that a big pink flashy thing hit the mir ), and, of course, we don\\'t know why donald sutherland is stumbling around drunkenly throughout. here, it\\'s just \" hey, let\\'s chase these people around with some robots \". the acting is below average, even from the likes of curtis. you\\'re more likely to get a kick out of her work in halloween h20. sutherland is wasted and baldwin, well, he\\'s acting like a baldwin, of course. the real star here are stan winston\\'s robot design, some schnazzy cgi, and the occasional good gore shot, like picking into someone\\'s brain. so, if robots and body parts really turn you on, here\\'s your movie. otherwise, it\\'s pretty much a sunken ship of a movie.'"
            ],
            "application/vnd.google.colaboratory.intrinsic+json": {
              "type": "string"
            }
          },
          "metadata": {},
          "execution_count": 12
        }
      ]
    },
    {
      "cell_type": "code",
      "metadata": {
        "id": "KT-Tii9KI8Tf"
      },
      "source": [
        "# Now let's add positive reviews to rev_list\n",
        "for rev in pos_rev:\n",
        "  rev_text_pos = nltk.corpus.movie_reviews.words(rev)\n",
        "  review_one_string = \" \".join(rev_text_pos)\n",
        "  review_one_string = review_one_string.replace(' ,',',')\n",
        "  review_one_string = review_one_string.replace(' .','.')\n",
        "  review_one_string = review_one_string.replace(\"\\' \",\"'\")\n",
        "  review_one_string = review_one_string.replace(\" \\'\",\"'\")\n",
        "  rev_list.append(review_one_string)"
      ],
      "execution_count": null,
      "outputs": []
    },
    {
      "cell_type": "code",
      "metadata": {
        "id": "RMInBihPJ500",
        "colab": {
          "base_uri": "https://localhost:8080/"
        },
        "outputId": "7092cd22-806a-48e5-df8e-b565a90adc6f"
      },
      "source": [
        "len(rev_list)"
      ],
      "execution_count": null,
      "outputs": [
        {
          "output_type": "execute_result",
          "data": {
            "text/plain": [
              "2000"
            ]
          },
          "metadata": {},
          "execution_count": 43
        }
      ]
    },
    {
      "cell_type": "code",
      "metadata": {
        "id": "J_0pyXDaKB7G"
      },
      "source": [
        "# Now, Let us create targets for positive reviews and Negative reviews\n",
        "neg_targets = np.zeros((1000,),dtype=np.int64)\n",
        "pos_targets = np.ones((1000,),dtype=np.int64)"
      ],
      "execution_count": null,
      "outputs": []
    },
    {
      "cell_type": "code",
      "metadata": {
        "id": "NE7YX9D2KjBv"
      },
      "source": [
        "target_list = []\n",
        "for neg_tar in neg_targets:\n",
        "  target_list.append(neg_tar)\n",
        "for pos_tar in pos_targets:\n",
        "  target_list.append(pos_tar)"
      ],
      "execution_count": null,
      "outputs": []
    },
    {
      "cell_type": "code",
      "metadata": {
        "id": "V-xV_IgCLTV7",
        "colab": {
          "base_uri": "https://localhost:8080/"
        },
        "outputId": "2faddd6f-cc20-4720-affb-103188cb4750"
      },
      "source": [
        "len(target_list)"
      ],
      "execution_count": null,
      "outputs": [
        {
          "output_type": "execute_result",
          "data": {
            "text/plain": [
              "2000"
            ]
          },
          "metadata": {},
          "execution_count": 46
        }
      ]
    },
    {
      "cell_type": "code",
      "metadata": {
        "id": "dw7PofA8LVf4",
        "colab": {
          "base_uri": "https://localhost:8080/"
        },
        "outputId": "da342abb-8526-4283-9d72-4b8dc90c8276"
      },
      "source": [
        "Target = pd.Series(target_list)\n",
        "Target.head()"
      ],
      "execution_count": null,
      "outputs": [
        {
          "output_type": "execute_result",
          "data": {
            "text/plain": [
              "0    0\n",
              "1    0\n",
              "2    0\n",
              "3    0\n",
              "4    0\n",
              "dtype: int64"
            ]
          },
          "metadata": {},
          "execution_count": 47
        }
      ]
    },
    {
      "cell_type": "markdown",
      "metadata": {
        "id": "f4ZGmj5KLzc2"
      },
      "source": [
        "Now, Let's use Count Vectorizer"
      ]
    },
    {
      "cell_type": "code",
      "metadata": {
        "id": "PXBSsODALiEp"
      },
      "source": [
        "count_vect = CountVectorizer(lowercase=True,min_df=2,stop_words='english')\n",
        "X_count_vect = count_vect.fit_transform(rev_list)"
      ],
      "execution_count": null,
      "outputs": []
    },
    {
      "cell_type": "code",
      "metadata": {
        "id": "xbbo2pECMMqt",
        "colab": {
          "base_uri": "https://localhost:8080/"
        },
        "outputId": "cd0aaf5e-2328-4798-b6df-b7c34a1d9810"
      },
      "source": [
        "type(X_count_vect)"
      ],
      "execution_count": null,
      "outputs": [
        {
          "output_type": "execute_result",
          "data": {
            "text/plain": [
              "scipy.sparse._csr.csr_matrix"
            ]
          },
          "metadata": {},
          "execution_count": 49
        }
      ]
    },
    {
      "cell_type": "code",
      "metadata": {
        "id": "nxvybE-QMPbv",
        "colab": {
          "base_uri": "https://localhost:8080/"
        },
        "outputId": "cbdb1126-090a-410d-a586-3d35d4dc1aba"
      },
      "source": [
        "X_count_vect.shape"
      ],
      "execution_count": null,
      "outputs": [
        {
          "output_type": "execute_result",
          "data": {
            "text/plain": [
              "(2000, 23784)"
            ]
          },
          "metadata": {},
          "execution_count": 50
        }
      ]
    },
    {
      "cell_type": "code",
      "metadata": {
        "id": "Y6yzHqeyMR65"
      },
      "source": [
        "dataframe = pd.DataFrame(X_count_vect.toarray(),columns=count_vect.get_feature_names_out())"
      ],
      "execution_count": null,
      "outputs": []
    },
    {
      "cell_type": "code",
      "metadata": {
        "id": "jXDnjxJ1Mz8C",
        "colab": {
          "base_uri": "https://localhost:8080/",
          "height": 235
        },
        "outputId": "4c4a497a-dfb3-4911-8707-432004715bb4"
      },
      "source": [
        "dataframe.head()"
      ],
      "execution_count": null,
      "outputs": [
        {
          "output_type": "execute_result",
          "data": {
            "text/plain": [
              "   00  000  007  05  10  100  1000  100m  101  102  ...  zoom  zooming  zooms  \\\n",
              "0   0    0    0   0  10    0     0     0    0    0  ...     0        0      0   \n",
              "1   0    0    0   0   0    0     0     0    0    0  ...     0        0      0   \n",
              "2   0    0    0   0   0    0     0     0    0    0  ...     0        0      0   \n",
              "3   0    0    0   0   0    0     0     0    0    0  ...     0        0      0   \n",
              "4   0    0    0   0   0    0     0     0    0    0  ...     0        0      0   \n",
              "\n",
              "   zoot  zorg  zorro  zucker  zuko  zwick  zwigoff  \n",
              "0     0     0      0       0     0      0        0  \n",
              "1     0     0      0       0     0      0        0  \n",
              "2     0     0      0       0     0      0        0  \n",
              "3     0     0      0       0     0      0        0  \n",
              "4     0     0      0       0     0      0        0  \n",
              "\n",
              "[5 rows x 23784 columns]"
            ],
            "text/html": [
              "\n",
              "\n",
              "  <div id=\"df-6aa6e9b2-ffe2-45da-afe8-1b469c6f51b2\">\n",
              "    <div class=\"colab-df-container\">\n",
              "      <div>\n",
              "<style scoped>\n",
              "    .dataframe tbody tr th:only-of-type {\n",
              "        vertical-align: middle;\n",
              "    }\n",
              "\n",
              "    .dataframe tbody tr th {\n",
              "        vertical-align: top;\n",
              "    }\n",
              "\n",
              "    .dataframe thead th {\n",
              "        text-align: right;\n",
              "    }\n",
              "</style>\n",
              "<table border=\"1\" class=\"dataframe\">\n",
              "  <thead>\n",
              "    <tr style=\"text-align: right;\">\n",
              "      <th></th>\n",
              "      <th>00</th>\n",
              "      <th>000</th>\n",
              "      <th>007</th>\n",
              "      <th>05</th>\n",
              "      <th>10</th>\n",
              "      <th>100</th>\n",
              "      <th>1000</th>\n",
              "      <th>100m</th>\n",
              "      <th>101</th>\n",
              "      <th>102</th>\n",
              "      <th>...</th>\n",
              "      <th>zoom</th>\n",
              "      <th>zooming</th>\n",
              "      <th>zooms</th>\n",
              "      <th>zoot</th>\n",
              "      <th>zorg</th>\n",
              "      <th>zorro</th>\n",
              "      <th>zucker</th>\n",
              "      <th>zuko</th>\n",
              "      <th>zwick</th>\n",
              "      <th>zwigoff</th>\n",
              "    </tr>\n",
              "  </thead>\n",
              "  <tbody>\n",
              "    <tr>\n",
              "      <th>0</th>\n",
              "      <td>0</td>\n",
              "      <td>0</td>\n",
              "      <td>0</td>\n",
              "      <td>0</td>\n",
              "      <td>10</td>\n",
              "      <td>0</td>\n",
              "      <td>0</td>\n",
              "      <td>0</td>\n",
              "      <td>0</td>\n",
              "      <td>0</td>\n",
              "      <td>...</td>\n",
              "      <td>0</td>\n",
              "      <td>0</td>\n",
              "      <td>0</td>\n",
              "      <td>0</td>\n",
              "      <td>0</td>\n",
              "      <td>0</td>\n",
              "      <td>0</td>\n",
              "      <td>0</td>\n",
              "      <td>0</td>\n",
              "      <td>0</td>\n",
              "    </tr>\n",
              "    <tr>\n",
              "      <th>1</th>\n",
              "      <td>0</td>\n",
              "      <td>0</td>\n",
              "      <td>0</td>\n",
              "      <td>0</td>\n",
              "      <td>0</td>\n",
              "      <td>0</td>\n",
              "      <td>0</td>\n",
              "      <td>0</td>\n",
              "      <td>0</td>\n",
              "      <td>0</td>\n",
              "      <td>...</td>\n",
              "      <td>0</td>\n",
              "      <td>0</td>\n",
              "      <td>0</td>\n",
              "      <td>0</td>\n",
              "      <td>0</td>\n",
              "      <td>0</td>\n",
              "      <td>0</td>\n",
              "      <td>0</td>\n",
              "      <td>0</td>\n",
              "      <td>0</td>\n",
              "    </tr>\n",
              "    <tr>\n",
              "      <th>2</th>\n",
              "      <td>0</td>\n",
              "      <td>0</td>\n",
              "      <td>0</td>\n",
              "      <td>0</td>\n",
              "      <td>0</td>\n",
              "      <td>0</td>\n",
              "      <td>0</td>\n",
              "      <td>0</td>\n",
              "      <td>0</td>\n",
              "      <td>0</td>\n",
              "      <td>...</td>\n",
              "      <td>0</td>\n",
              "      <td>0</td>\n",
              "      <td>0</td>\n",
              "      <td>0</td>\n",
              "      <td>0</td>\n",
              "      <td>0</td>\n",
              "      <td>0</td>\n",
              "      <td>0</td>\n",
              "      <td>0</td>\n",
              "      <td>0</td>\n",
              "    </tr>\n",
              "    <tr>\n",
              "      <th>3</th>\n",
              "      <td>0</td>\n",
              "      <td>0</td>\n",
              "      <td>0</td>\n",
              "      <td>0</td>\n",
              "      <td>0</td>\n",
              "      <td>0</td>\n",
              "      <td>0</td>\n",
              "      <td>0</td>\n",
              "      <td>0</td>\n",
              "      <td>0</td>\n",
              "      <td>...</td>\n",
              "      <td>0</td>\n",
              "      <td>0</td>\n",
              "      <td>0</td>\n",
              "      <td>0</td>\n",
              "      <td>0</td>\n",
              "      <td>0</td>\n",
              "      <td>0</td>\n",
              "      <td>0</td>\n",
              "      <td>0</td>\n",
              "      <td>0</td>\n",
              "    </tr>\n",
              "    <tr>\n",
              "      <th>4</th>\n",
              "      <td>0</td>\n",
              "      <td>0</td>\n",
              "      <td>0</td>\n",
              "      <td>0</td>\n",
              "      <td>0</td>\n",
              "      <td>0</td>\n",
              "      <td>0</td>\n",
              "      <td>0</td>\n",
              "      <td>0</td>\n",
              "      <td>0</td>\n",
              "      <td>...</td>\n",
              "      <td>0</td>\n",
              "      <td>0</td>\n",
              "      <td>0</td>\n",
              "      <td>0</td>\n",
              "      <td>0</td>\n",
              "      <td>0</td>\n",
              "      <td>0</td>\n",
              "      <td>0</td>\n",
              "      <td>0</td>\n",
              "      <td>0</td>\n",
              "    </tr>\n",
              "  </tbody>\n",
              "</table>\n",
              "<p>5 rows × 23784 columns</p>\n",
              "</div>\n",
              "      <button class=\"colab-df-convert\" onclick=\"convertToInteractive('df-6aa6e9b2-ffe2-45da-afe8-1b469c6f51b2')\"\n",
              "              title=\"Convert this dataframe to an interactive table.\"\n",
              "              style=\"display:none;\">\n",
              "\n",
              "  <svg xmlns=\"http://www.w3.org/2000/svg\" height=\"24px\"viewBox=\"0 0 24 24\"\n",
              "       width=\"24px\">\n",
              "    <path d=\"M0 0h24v24H0V0z\" fill=\"none\"/>\n",
              "    <path d=\"M18.56 5.44l.94 2.06.94-2.06 2.06-.94-2.06-.94-.94-2.06-.94 2.06-2.06.94zm-11 1L8.5 8.5l.94-2.06 2.06-.94-2.06-.94L8.5 2.5l-.94 2.06-2.06.94zm10 10l.94 2.06.94-2.06 2.06-.94-2.06-.94-.94-2.06-.94 2.06-2.06.94z\"/><path d=\"M17.41 7.96l-1.37-1.37c-.4-.4-.92-.59-1.43-.59-.52 0-1.04.2-1.43.59L10.3 9.45l-7.72 7.72c-.78.78-.78 2.05 0 2.83L4 21.41c.39.39.9.59 1.41.59.51 0 1.02-.2 1.41-.59l7.78-7.78 2.81-2.81c.8-.78.8-2.07 0-2.86zM5.41 20L4 18.59l7.72-7.72 1.47 1.35L5.41 20z\"/>\n",
              "  </svg>\n",
              "      </button>\n",
              "\n",
              "\n",
              "\n",
              "    <div id=\"df-d16a32c9-d4b8-4ffa-8a71-da8a6cea8165\">\n",
              "      <button class=\"colab-df-quickchart\" onclick=\"quickchart('df-d16a32c9-d4b8-4ffa-8a71-da8a6cea8165')\"\n",
              "              title=\"Suggest charts.\"\n",
              "              style=\"display:none;\">\n",
              "\n",
              "<svg xmlns=\"http://www.w3.org/2000/svg\" height=\"24px\"viewBox=\"0 0 24 24\"\n",
              "     width=\"24px\">\n",
              "    <g>\n",
              "        <path d=\"M19 3H5c-1.1 0-2 .9-2 2v14c0 1.1.9 2 2 2h14c1.1 0 2-.9 2-2V5c0-1.1-.9-2-2-2zM9 17H7v-7h2v7zm4 0h-2V7h2v10zm4 0h-2v-4h2v4z\"/>\n",
              "    </g>\n",
              "</svg>\n",
              "      </button>\n",
              "    </div>\n",
              "\n",
              "<style>\n",
              "  .colab-df-quickchart {\n",
              "    background-color: #E8F0FE;\n",
              "    border: none;\n",
              "    border-radius: 50%;\n",
              "    cursor: pointer;\n",
              "    display: none;\n",
              "    fill: #1967D2;\n",
              "    height: 32px;\n",
              "    padding: 0 0 0 0;\n",
              "    width: 32px;\n",
              "  }\n",
              "\n",
              "  .colab-df-quickchart:hover {\n",
              "    background-color: #E2EBFA;\n",
              "    box-shadow: 0px 1px 2px rgba(60, 64, 67, 0.3), 0px 1px 3px 1px rgba(60, 64, 67, 0.15);\n",
              "    fill: #174EA6;\n",
              "  }\n",
              "\n",
              "  [theme=dark] .colab-df-quickchart {\n",
              "    background-color: #3B4455;\n",
              "    fill: #D2E3FC;\n",
              "  }\n",
              "\n",
              "  [theme=dark] .colab-df-quickchart:hover {\n",
              "    background-color: #434B5C;\n",
              "    box-shadow: 0px 1px 3px 1px rgba(0, 0, 0, 0.15);\n",
              "    filter: drop-shadow(0px 1px 2px rgba(0, 0, 0, 0.3));\n",
              "    fill: #FFFFFF;\n",
              "  }\n",
              "</style>\n",
              "\n",
              "    <script>\n",
              "      async function quickchart(key) {\n",
              "        const containerElement = document.querySelector('#' + key);\n",
              "        const charts = await google.colab.kernel.invokeFunction(\n",
              "            'suggestCharts', [key], {});\n",
              "      }\n",
              "    </script>\n",
              "\n",
              "      <script>\n",
              "\n",
              "function displayQuickchartButton(domScope) {\n",
              "  let quickchartButtonEl =\n",
              "    domScope.querySelector('#df-d16a32c9-d4b8-4ffa-8a71-da8a6cea8165 button.colab-df-quickchart');\n",
              "  quickchartButtonEl.style.display =\n",
              "    google.colab.kernel.accessAllowed ? 'block' : 'none';\n",
              "}\n",
              "\n",
              "        displayQuickchartButton(document);\n",
              "      </script>\n",
              "      <style>\n",
              "    .colab-df-container {\n",
              "      display:flex;\n",
              "      flex-wrap:wrap;\n",
              "      gap: 12px;\n",
              "    }\n",
              "\n",
              "    .colab-df-convert {\n",
              "      background-color: #E8F0FE;\n",
              "      border: none;\n",
              "      border-radius: 50%;\n",
              "      cursor: pointer;\n",
              "      display: none;\n",
              "      fill: #1967D2;\n",
              "      height: 32px;\n",
              "      padding: 0 0 0 0;\n",
              "      width: 32px;\n",
              "    }\n",
              "\n",
              "    .colab-df-convert:hover {\n",
              "      background-color: #E2EBFA;\n",
              "      box-shadow: 0px 1px 2px rgba(60, 64, 67, 0.3), 0px 1px 3px 1px rgba(60, 64, 67, 0.15);\n",
              "      fill: #174EA6;\n",
              "    }\n",
              "\n",
              "    [theme=dark] .colab-df-convert {\n",
              "      background-color: #3B4455;\n",
              "      fill: #D2E3FC;\n",
              "    }\n",
              "\n",
              "    [theme=dark] .colab-df-convert:hover {\n",
              "      background-color: #434B5C;\n",
              "      box-shadow: 0px 1px 3px 1px rgba(0, 0, 0, 0.15);\n",
              "      filter: drop-shadow(0px 1px 2px rgba(0, 0, 0, 0.3));\n",
              "      fill: #FFFFFF;\n",
              "    }\n",
              "  </style>\n",
              "\n",
              "      <script>\n",
              "        const buttonEl =\n",
              "          document.querySelector('#df-6aa6e9b2-ffe2-45da-afe8-1b469c6f51b2 button.colab-df-convert');\n",
              "        buttonEl.style.display =\n",
              "          google.colab.kernel.accessAllowed ? 'block' : 'none';\n",
              "\n",
              "        async function convertToInteractive(key) {\n",
              "          const element = document.querySelector('#df-6aa6e9b2-ffe2-45da-afe8-1b469c6f51b2');\n",
              "          const dataTable =\n",
              "            await google.colab.kernel.invokeFunction('convertToInteractive',\n",
              "                                                     [key], {});\n",
              "          if (!dataTable) return;\n",
              "\n",
              "          const docLinkHtml = 'Like what you see? Visit the ' +\n",
              "            '<a target=\"_blank\" href=https://colab.research.google.com/notebooks/data_table.ipynb>data table notebook</a>'\n",
              "            + ' to learn more about interactive tables.';\n",
              "          element.innerHTML = '';\n",
              "          dataTable['output_type'] = 'display_data';\n",
              "          await google.colab.output.renderOutput(dataTable, element);\n",
              "          const docLink = document.createElement('div');\n",
              "          docLink.innerHTML = docLinkHtml;\n",
              "          element.appendChild(docLink);\n",
              "        }\n",
              "      </script>\n",
              "    </div>\n",
              "  </div>\n"
            ]
          },
          "metadata": {},
          "execution_count": 53
        }
      ]
    },
    {
      "cell_type": "code",
      "metadata": {
        "id": "NJxXWuZ0M1cT"
      },
      "source": [
        "from sklearn.model_selection import train_test_split\n",
        "from sklearn.metrics import confusion_matrix, accuracy_score, classification_report"
      ],
      "execution_count": null,
      "outputs": []
    },
    {
      "cell_type": "code",
      "metadata": {
        "id": "8RPIQHFANJMi"
      },
      "source": [
        "x_train,x_test,y_train,y_test = train_test_split(dataframe,Target,test_size=0.2,random_state=42)"
      ],
      "execution_count": null,
      "outputs": []
    },
    {
      "cell_type": "markdown",
      "metadata": {
        "id": "DMGbXPyTN48h"
      },
      "source": [
        "Let's use Naive bayes Classifier"
      ]
    },
    {
      "cell_type": "code",
      "metadata": {
        "id": "h2kBrHUINfRk"
      },
      "source": [
        "from sklearn.naive_bayes import MultinomialNB\n",
        "clf = MultinomialNB()"
      ],
      "execution_count": null,
      "outputs": []
    },
    {
      "cell_type": "code",
      "metadata": {
        "id": "7QVkVZFiOB7T",
        "colab": {
          "base_uri": "https://localhost:8080/",
          "height": 74
        },
        "outputId": "57da4160-15a2-4503-a500-9267fb08ad3b"
      },
      "source": [
        "clf.fit(x_train,y_train)"
      ],
      "execution_count": null,
      "outputs": [
        {
          "output_type": "execute_result",
          "data": {
            "text/plain": [
              "MultinomialNB()"
            ],
            "text/html": [
              "<style>#sk-container-id-1 {color: black;background-color: white;}#sk-container-id-1 pre{padding: 0;}#sk-container-id-1 div.sk-toggleable {background-color: white;}#sk-container-id-1 label.sk-toggleable__label {cursor: pointer;display: block;width: 100%;margin-bottom: 0;padding: 0.3em;box-sizing: border-box;text-align: center;}#sk-container-id-1 label.sk-toggleable__label-arrow:before {content: \"▸\";float: left;margin-right: 0.25em;color: #696969;}#sk-container-id-1 label.sk-toggleable__label-arrow:hover:before {color: black;}#sk-container-id-1 div.sk-estimator:hover label.sk-toggleable__label-arrow:before {color: black;}#sk-container-id-1 div.sk-toggleable__content {max-height: 0;max-width: 0;overflow: hidden;text-align: left;background-color: #f0f8ff;}#sk-container-id-1 div.sk-toggleable__content pre {margin: 0.2em;color: black;border-radius: 0.25em;background-color: #f0f8ff;}#sk-container-id-1 input.sk-toggleable__control:checked~div.sk-toggleable__content {max-height: 200px;max-width: 100%;overflow: auto;}#sk-container-id-1 input.sk-toggleable__control:checked~label.sk-toggleable__label-arrow:before {content: \"▾\";}#sk-container-id-1 div.sk-estimator input.sk-toggleable__control:checked~label.sk-toggleable__label {background-color: #d4ebff;}#sk-container-id-1 div.sk-label input.sk-toggleable__control:checked~label.sk-toggleable__label {background-color: #d4ebff;}#sk-container-id-1 input.sk-hidden--visually {border: 0;clip: rect(1px 1px 1px 1px);clip: rect(1px, 1px, 1px, 1px);height: 1px;margin: -1px;overflow: hidden;padding: 0;position: absolute;width: 1px;}#sk-container-id-1 div.sk-estimator {font-family: monospace;background-color: #f0f8ff;border: 1px dotted black;border-radius: 0.25em;box-sizing: border-box;margin-bottom: 0.5em;}#sk-container-id-1 div.sk-estimator:hover {background-color: #d4ebff;}#sk-container-id-1 div.sk-parallel-item::after {content: \"\";width: 100%;border-bottom: 1px solid gray;flex-grow: 1;}#sk-container-id-1 div.sk-label:hover label.sk-toggleable__label {background-color: #d4ebff;}#sk-container-id-1 div.sk-serial::before {content: \"\";position: absolute;border-left: 1px solid gray;box-sizing: border-box;top: 0;bottom: 0;left: 50%;z-index: 0;}#sk-container-id-1 div.sk-serial {display: flex;flex-direction: column;align-items: center;background-color: white;padding-right: 0.2em;padding-left: 0.2em;position: relative;}#sk-container-id-1 div.sk-item {position: relative;z-index: 1;}#sk-container-id-1 div.sk-parallel {display: flex;align-items: stretch;justify-content: center;background-color: white;position: relative;}#sk-container-id-1 div.sk-item::before, #sk-container-id-1 div.sk-parallel-item::before {content: \"\";position: absolute;border-left: 1px solid gray;box-sizing: border-box;top: 0;bottom: 0;left: 50%;z-index: -1;}#sk-container-id-1 div.sk-parallel-item {display: flex;flex-direction: column;z-index: 1;position: relative;background-color: white;}#sk-container-id-1 div.sk-parallel-item:first-child::after {align-self: flex-end;width: 50%;}#sk-container-id-1 div.sk-parallel-item:last-child::after {align-self: flex-start;width: 50%;}#sk-container-id-1 div.sk-parallel-item:only-child::after {width: 0;}#sk-container-id-1 div.sk-dashed-wrapped {border: 1px dashed gray;margin: 0 0.4em 0.5em 0.4em;box-sizing: border-box;padding-bottom: 0.4em;background-color: white;}#sk-container-id-1 div.sk-label label {font-family: monospace;font-weight: bold;display: inline-block;line-height: 1.2em;}#sk-container-id-1 div.sk-label-container {text-align: center;}#sk-container-id-1 div.sk-container {/* jupyter's `normalize.less` sets `[hidden] { display: none; }` but bootstrap.min.css set `[hidden] { display: none !important; }` so we also need the `!important` here to be able to override the default hidden behavior on the sphinx rendered scikit-learn.org. See: https://github.com/scikit-learn/scikit-learn/issues/21755 */display: inline-block !important;position: relative;}#sk-container-id-1 div.sk-text-repr-fallback {display: none;}</style><div id=\"sk-container-id-1\" class=\"sk-top-container\"><div class=\"sk-text-repr-fallback\"><pre>MultinomialNB()</pre><b>In a Jupyter environment, please rerun this cell to show the HTML representation or trust the notebook. <br />On GitHub, the HTML representation is unable to render, please try loading this page with nbviewer.org.</b></div><div class=\"sk-container\" hidden><div class=\"sk-item\"><div class=\"sk-estimator sk-toggleable\"><input class=\"sk-toggleable__control sk-hidden--visually\" id=\"sk-estimator-id-1\" type=\"checkbox\" checked><label for=\"sk-estimator-id-1\" class=\"sk-toggleable__label sk-toggleable__label-arrow\">MultinomialNB</label><div class=\"sk-toggleable__content\"><pre>MultinomialNB()</pre></div></div></div></div></div>"
            ]
          },
          "metadata": {},
          "execution_count": 57
        }
      ]
    },
    {
      "cell_type": "code",
      "metadata": {
        "id": "_7hTAZvxOE0y"
      },
      "source": [
        "y_pred = clf.predict(x_test)"
      ],
      "execution_count": null,
      "outputs": []
    },
    {
      "cell_type": "code",
      "metadata": {
        "id": "qXXUB87wPEZh",
        "colab": {
          "base_uri": "https://localhost:8080/"
        },
        "outputId": "d2f2b1d3-d398-4053-a725-4de4b216637a"
      },
      "source": [
        "accuracy_score(y_test,y_pred)"
      ],
      "execution_count": null,
      "outputs": [
        {
          "output_type": "execute_result",
          "data": {
            "text/plain": [
              "0.8"
            ]
          },
          "metadata": {},
          "execution_count": 59
        }
      ]
    },
    {
      "cell_type": "code",
      "metadata": {
        "id": "J37prZsMPIdN",
        "colab": {
          "base_uri": "https://localhost:8080/"
        },
        "outputId": "d05456bc-0f32-4cb9-e403-b77179cebea9"
      },
      "source": [
        "confusion_matrix(y_test,y_pred)"
      ],
      "execution_count": null,
      "outputs": [
        {
          "output_type": "execute_result",
          "data": {
            "text/plain": [
              "array([[169,  30],\n",
              "       [ 50, 151]])"
            ]
          },
          "metadata": {},
          "execution_count": 60
        }
      ]
    },
    {
      "cell_type": "code",
      "source": [
        "print(classification_report(y_test,y_pred))"
      ],
      "metadata": {
        "colab": {
          "base_uri": "https://localhost:8080/"
        },
        "id": "Zro5POGLPBeu",
        "outputId": "92626a89-09ce-4fc8-8594-6f71f1b9f74c"
      },
      "execution_count": null,
      "outputs": [
        {
          "output_type": "stream",
          "name": "stdout",
          "text": [
            "              precision    recall  f1-score   support\n",
            "\n",
            "           0       0.77      0.85      0.81       199\n",
            "           1       0.83      0.75      0.79       201\n",
            "\n",
            "    accuracy                           0.80       400\n",
            "   macro avg       0.80      0.80      0.80       400\n",
            "weighted avg       0.80      0.80      0.80       400\n",
            "\n"
          ]
        }
      ]
    },
    {
      "cell_type": "markdown",
      "metadata": {
        "id": "cSVlKmlM2rMt"
      },
      "source": [
        "Now, Let's use Tf-Idf Approach"
      ]
    },
    {
      "cell_type": "code",
      "metadata": {
        "id": "aIIOkImOPM6Y"
      },
      "source": [
        "tfidf_vect = TfidfVectorizer(min_df=1,stop_words='english',lowercase=True)"
      ],
      "execution_count": null,
      "outputs": []
    },
    {
      "cell_type": "code",
      "metadata": {
        "id": "7DnfmB0w3JqC"
      },
      "source": [
        "tfidf_count = tfidf_vect.fit_transform(rev_list)"
      ],
      "execution_count": null,
      "outputs": []
    },
    {
      "cell_type": "code",
      "metadata": {
        "id": "qOcysNP23YS8",
        "colab": {
          "base_uri": "https://localhost:8080/"
        },
        "outputId": "cfb902e8-7f05-461f-e53f-c58a518d6941"
      },
      "source": [
        "type(tfidf_count)"
      ],
      "execution_count": null,
      "outputs": [
        {
          "output_type": "execute_result",
          "data": {
            "text/plain": [
              "scipy.sparse.csr.csr_matrix"
            ]
          },
          "metadata": {},
          "execution_count": 97
        }
      ]
    },
    {
      "cell_type": "code",
      "metadata": {
        "id": "uVXVuFxF3cPx",
        "colab": {
          "base_uri": "https://localhost:8080/"
        },
        "outputId": "f5918626-4034-459d-f940-748208d35053"
      },
      "source": [
        "tfidf_count.shape"
      ],
      "execution_count": null,
      "outputs": [
        {
          "output_type": "execute_result",
          "data": {
            "text/plain": [
              "(2000, 39354)"
            ]
          },
          "metadata": {},
          "execution_count": 98
        }
      ]
    },
    {
      "cell_type": "code",
      "metadata": {
        "id": "H-CKcx703etT",
        "colab": {
          "base_uri": "https://localhost:8080/"
        },
        "outputId": "5270e219-e5bb-4a35-fce3-218518d38d26"
      },
      "source": [
        "tfidf_df = pd.DataFrame(tfidf_count.toarray(),columns=tfidf_vect.get_feature_names())"
      ],
      "execution_count": null,
      "outputs": [
        {
          "output_type": "stream",
          "name": "stderr",
          "text": [
            "/usr/local/lib/python3.7/dist-packages/sklearn/utils/deprecation.py:87: FutureWarning: Function get_feature_names is deprecated; get_feature_names is deprecated in 1.0 and will be removed in 1.2. Please use get_feature_names_out instead.\n",
            "  warnings.warn(msg, category=FutureWarning)\n"
          ]
        }
      ]
    },
    {
      "cell_type": "code",
      "metadata": {
        "id": "XHoFWG3e32qo",
        "colab": {
          "base_uri": "https://localhost:8080/",
          "height": 235
        },
        "outputId": "f0e2e2a4-99d2-4819-995c-4ddbaa6b4e72"
      },
      "source": [
        "tfidf_df.head()"
      ],
      "execution_count": null,
      "outputs": [
        {
          "output_type": "execute_result",
          "data": {
            "text/plain": [
              "    00  000  0009f  007  00s   03   04   05  05425        10  ...  zukovsky  \\\n",
              "0  0.0  0.0    0.0  0.0  0.0  0.0  0.0  0.0    0.0  0.395189  ...       0.0   \n",
              "1  0.0  0.0    0.0  0.0  0.0  0.0  0.0  0.0    0.0  0.000000  ...       0.0   \n",
              "2  0.0  0.0    0.0  0.0  0.0  0.0  0.0  0.0    0.0  0.000000  ...       0.0   \n",
              "3  0.0  0.0    0.0  0.0  0.0  0.0  0.0  0.0    0.0  0.000000  ...       0.0   \n",
              "4  0.0  0.0    0.0  0.0  0.0  0.0  0.0  0.0    0.0  0.000000  ...       0.0   \n",
              "\n",
              "   zulu  zundel  zurg  zus  zweibel  zwick  zwigoff  zycie  zzzzzzz  \n",
              "0   0.0     0.0   0.0  0.0      0.0    0.0      0.0    0.0      0.0  \n",
              "1   0.0     0.0   0.0  0.0      0.0    0.0      0.0    0.0      0.0  \n",
              "2   0.0     0.0   0.0  0.0      0.0    0.0      0.0    0.0      0.0  \n",
              "3   0.0     0.0   0.0  0.0      0.0    0.0      0.0    0.0      0.0  \n",
              "4   0.0     0.0   0.0  0.0      0.0    0.0      0.0    0.0      0.0  \n",
              "\n",
              "[5 rows x 39354 columns]"
            ],
            "text/html": [
              "\n",
              "  <div id=\"df-afeaae5e-1087-40f8-9e01-038ef7da289f\">\n",
              "    <div class=\"colab-df-container\">\n",
              "      <div>\n",
              "<style scoped>\n",
              "    .dataframe tbody tr th:only-of-type {\n",
              "        vertical-align: middle;\n",
              "    }\n",
              "\n",
              "    .dataframe tbody tr th {\n",
              "        vertical-align: top;\n",
              "    }\n",
              "\n",
              "    .dataframe thead th {\n",
              "        text-align: right;\n",
              "    }\n",
              "</style>\n",
              "<table border=\"1\" class=\"dataframe\">\n",
              "  <thead>\n",
              "    <tr style=\"text-align: right;\">\n",
              "      <th></th>\n",
              "      <th>00</th>\n",
              "      <th>000</th>\n",
              "      <th>0009f</th>\n",
              "      <th>007</th>\n",
              "      <th>00s</th>\n",
              "      <th>03</th>\n",
              "      <th>04</th>\n",
              "      <th>05</th>\n",
              "      <th>05425</th>\n",
              "      <th>10</th>\n",
              "      <th>...</th>\n",
              "      <th>zukovsky</th>\n",
              "      <th>zulu</th>\n",
              "      <th>zundel</th>\n",
              "      <th>zurg</th>\n",
              "      <th>zus</th>\n",
              "      <th>zweibel</th>\n",
              "      <th>zwick</th>\n",
              "      <th>zwigoff</th>\n",
              "      <th>zycie</th>\n",
              "      <th>zzzzzzz</th>\n",
              "    </tr>\n",
              "  </thead>\n",
              "  <tbody>\n",
              "    <tr>\n",
              "      <th>0</th>\n",
              "      <td>0.0</td>\n",
              "      <td>0.0</td>\n",
              "      <td>0.0</td>\n",
              "      <td>0.0</td>\n",
              "      <td>0.0</td>\n",
              "      <td>0.0</td>\n",
              "      <td>0.0</td>\n",
              "      <td>0.0</td>\n",
              "      <td>0.0</td>\n",
              "      <td>0.395189</td>\n",
              "      <td>...</td>\n",
              "      <td>0.0</td>\n",
              "      <td>0.0</td>\n",
              "      <td>0.0</td>\n",
              "      <td>0.0</td>\n",
              "      <td>0.0</td>\n",
              "      <td>0.0</td>\n",
              "      <td>0.0</td>\n",
              "      <td>0.0</td>\n",
              "      <td>0.0</td>\n",
              "      <td>0.0</td>\n",
              "    </tr>\n",
              "    <tr>\n",
              "      <th>1</th>\n",
              "      <td>0.0</td>\n",
              "      <td>0.0</td>\n",
              "      <td>0.0</td>\n",
              "      <td>0.0</td>\n",
              "      <td>0.0</td>\n",
              "      <td>0.0</td>\n",
              "      <td>0.0</td>\n",
              "      <td>0.0</td>\n",
              "      <td>0.0</td>\n",
              "      <td>0.000000</td>\n",
              "      <td>...</td>\n",
              "      <td>0.0</td>\n",
              "      <td>0.0</td>\n",
              "      <td>0.0</td>\n",
              "      <td>0.0</td>\n",
              "      <td>0.0</td>\n",
              "      <td>0.0</td>\n",
              "      <td>0.0</td>\n",
              "      <td>0.0</td>\n",
              "      <td>0.0</td>\n",
              "      <td>0.0</td>\n",
              "    </tr>\n",
              "    <tr>\n",
              "      <th>2</th>\n",
              "      <td>0.0</td>\n",
              "      <td>0.0</td>\n",
              "      <td>0.0</td>\n",
              "      <td>0.0</td>\n",
              "      <td>0.0</td>\n",
              "      <td>0.0</td>\n",
              "      <td>0.0</td>\n",
              "      <td>0.0</td>\n",
              "      <td>0.0</td>\n",
              "      <td>0.000000</td>\n",
              "      <td>...</td>\n",
              "      <td>0.0</td>\n",
              "      <td>0.0</td>\n",
              "      <td>0.0</td>\n",
              "      <td>0.0</td>\n",
              "      <td>0.0</td>\n",
              "      <td>0.0</td>\n",
              "      <td>0.0</td>\n",
              "      <td>0.0</td>\n",
              "      <td>0.0</td>\n",
              "      <td>0.0</td>\n",
              "    </tr>\n",
              "    <tr>\n",
              "      <th>3</th>\n",
              "      <td>0.0</td>\n",
              "      <td>0.0</td>\n",
              "      <td>0.0</td>\n",
              "      <td>0.0</td>\n",
              "      <td>0.0</td>\n",
              "      <td>0.0</td>\n",
              "      <td>0.0</td>\n",
              "      <td>0.0</td>\n",
              "      <td>0.0</td>\n",
              "      <td>0.000000</td>\n",
              "      <td>...</td>\n",
              "      <td>0.0</td>\n",
              "      <td>0.0</td>\n",
              "      <td>0.0</td>\n",
              "      <td>0.0</td>\n",
              "      <td>0.0</td>\n",
              "      <td>0.0</td>\n",
              "      <td>0.0</td>\n",
              "      <td>0.0</td>\n",
              "      <td>0.0</td>\n",
              "      <td>0.0</td>\n",
              "    </tr>\n",
              "    <tr>\n",
              "      <th>4</th>\n",
              "      <td>0.0</td>\n",
              "      <td>0.0</td>\n",
              "      <td>0.0</td>\n",
              "      <td>0.0</td>\n",
              "      <td>0.0</td>\n",
              "      <td>0.0</td>\n",
              "      <td>0.0</td>\n",
              "      <td>0.0</td>\n",
              "      <td>0.0</td>\n",
              "      <td>0.000000</td>\n",
              "      <td>...</td>\n",
              "      <td>0.0</td>\n",
              "      <td>0.0</td>\n",
              "      <td>0.0</td>\n",
              "      <td>0.0</td>\n",
              "      <td>0.0</td>\n",
              "      <td>0.0</td>\n",
              "      <td>0.0</td>\n",
              "      <td>0.0</td>\n",
              "      <td>0.0</td>\n",
              "      <td>0.0</td>\n",
              "    </tr>\n",
              "  </tbody>\n",
              "</table>\n",
              "<p>5 rows × 39354 columns</p>\n",
              "</div>\n",
              "      <button class=\"colab-df-convert\" onclick=\"convertToInteractive('df-afeaae5e-1087-40f8-9e01-038ef7da289f')\"\n",
              "              title=\"Convert this dataframe to an interactive table.\"\n",
              "              style=\"display:none;\">\n",
              "        \n",
              "  <svg xmlns=\"http://www.w3.org/2000/svg\" height=\"24px\"viewBox=\"0 0 24 24\"\n",
              "       width=\"24px\">\n",
              "    <path d=\"M0 0h24v24H0V0z\" fill=\"none\"/>\n",
              "    <path d=\"M18.56 5.44l.94 2.06.94-2.06 2.06-.94-2.06-.94-.94-2.06-.94 2.06-2.06.94zm-11 1L8.5 8.5l.94-2.06 2.06-.94-2.06-.94L8.5 2.5l-.94 2.06-2.06.94zm10 10l.94 2.06.94-2.06 2.06-.94-2.06-.94-.94-2.06-.94 2.06-2.06.94z\"/><path d=\"M17.41 7.96l-1.37-1.37c-.4-.4-.92-.59-1.43-.59-.52 0-1.04.2-1.43.59L10.3 9.45l-7.72 7.72c-.78.78-.78 2.05 0 2.83L4 21.41c.39.39.9.59 1.41.59.51 0 1.02-.2 1.41-.59l7.78-7.78 2.81-2.81c.8-.78.8-2.07 0-2.86zM5.41 20L4 18.59l7.72-7.72 1.47 1.35L5.41 20z\"/>\n",
              "  </svg>\n",
              "      </button>\n",
              "      \n",
              "  <style>\n",
              "    .colab-df-container {\n",
              "      display:flex;\n",
              "      flex-wrap:wrap;\n",
              "      gap: 12px;\n",
              "    }\n",
              "\n",
              "    .colab-df-convert {\n",
              "      background-color: #E8F0FE;\n",
              "      border: none;\n",
              "      border-radius: 50%;\n",
              "      cursor: pointer;\n",
              "      display: none;\n",
              "      fill: #1967D2;\n",
              "      height: 32px;\n",
              "      padding: 0 0 0 0;\n",
              "      width: 32px;\n",
              "    }\n",
              "\n",
              "    .colab-df-convert:hover {\n",
              "      background-color: #E2EBFA;\n",
              "      box-shadow: 0px 1px 2px rgba(60, 64, 67, 0.3), 0px 1px 3px 1px rgba(60, 64, 67, 0.15);\n",
              "      fill: #174EA6;\n",
              "    }\n",
              "\n",
              "    [theme=dark] .colab-df-convert {\n",
              "      background-color: #3B4455;\n",
              "      fill: #D2E3FC;\n",
              "    }\n",
              "\n",
              "    [theme=dark] .colab-df-convert:hover {\n",
              "      background-color: #434B5C;\n",
              "      box-shadow: 0px 1px 3px 1px rgba(0, 0, 0, 0.15);\n",
              "      filter: drop-shadow(0px 1px 2px rgba(0, 0, 0, 0.3));\n",
              "      fill: #FFFFFF;\n",
              "    }\n",
              "  </style>\n",
              "\n",
              "      <script>\n",
              "        const buttonEl =\n",
              "          document.querySelector('#df-afeaae5e-1087-40f8-9e01-038ef7da289f button.colab-df-convert');\n",
              "        buttonEl.style.display =\n",
              "          google.colab.kernel.accessAllowed ? 'block' : 'none';\n",
              "\n",
              "        async function convertToInteractive(key) {\n",
              "          const element = document.querySelector('#df-afeaae5e-1087-40f8-9e01-038ef7da289f');\n",
              "          const dataTable =\n",
              "            await google.colab.kernel.invokeFunction('convertToInteractive',\n",
              "                                                     [key], {});\n",
              "          if (!dataTable) return;\n",
              "\n",
              "          const docLinkHtml = 'Like what you see? Visit the ' +\n",
              "            '<a target=\"_blank\" href=https://colab.research.google.com/notebooks/data_table.ipynb>data table notebook</a>'\n",
              "            + ' to learn more about interactive tables.';\n",
              "          element.innerHTML = '';\n",
              "          dataTable['output_type'] = 'display_data';\n",
              "          await google.colab.output.renderOutput(dataTable, element);\n",
              "          const docLink = document.createElement('div');\n",
              "          docLink.innerHTML = docLinkHtml;\n",
              "          element.appendChild(docLink);\n",
              "        }\n",
              "      </script>\n",
              "    </div>\n",
              "  </div>\n",
              "  "
            ]
          },
          "metadata": {},
          "execution_count": 100
        }
      ]
    },
    {
      "cell_type": "code",
      "metadata": {
        "id": "EvOOPsOd3-Mm"
      },
      "source": [
        "x_train_tf,x_test_tf,y_train_tf,y_test_tf = train_test_split(tfidf_df,Target,test_size=0.2,random_state=42)"
      ],
      "execution_count": null,
      "outputs": []
    },
    {
      "cell_type": "code",
      "metadata": {
        "id": "0Tv-dabU4VFX",
        "colab": {
          "base_uri": "https://localhost:8080/"
        },
        "outputId": "7a317825-00d6-4082-81d1-d7ea6d24e5a3"
      },
      "source": [
        "clf.fit(x_train_tf,y_train_tf)"
      ],
      "execution_count": null,
      "outputs": [
        {
          "output_type": "execute_result",
          "data": {
            "text/plain": [
              "MultinomialNB()"
            ]
          },
          "metadata": {},
          "execution_count": 102
        }
      ]
    },
    {
      "cell_type": "code",
      "metadata": {
        "id": "Qd1sJOeJ4hy6"
      },
      "source": [
        "y_pred_tf = clf.predict(x_test_tf)"
      ],
      "execution_count": null,
      "outputs": []
    },
    {
      "cell_type": "code",
      "metadata": {
        "id": "HjSx1VDT4pLn",
        "colab": {
          "base_uri": "https://localhost:8080/"
        },
        "outputId": "2600237b-88da-4415-81ec-0cc007f7afde"
      },
      "source": [
        "accuracy_score(y_test_tf,y_pred_tf)"
      ],
      "execution_count": null,
      "outputs": [
        {
          "output_type": "execute_result",
          "data": {
            "text/plain": [
              "0.805"
            ]
          },
          "metadata": {},
          "execution_count": 104
        }
      ]
    },
    {
      "cell_type": "code",
      "metadata": {
        "id": "-d-FgPJ_4sr0",
        "colab": {
          "base_uri": "https://localhost:8080/"
        },
        "outputId": "38ad2dc0-c7f3-4910-e6bd-5411220c7408"
      },
      "source": [
        "confusion_matrix(y_test_tf,y_pred_tf)"
      ],
      "execution_count": null,
      "outputs": [
        {
          "output_type": "execute_result",
          "data": {
            "text/plain": [
              "array([[170,  29],\n",
              "       [ 49, 152]])"
            ]
          },
          "metadata": {},
          "execution_count": 105
        }
      ]
    },
    {
      "cell_type": "code",
      "metadata": {
        "id": "pYIRas3O4xbJ"
      },
      "source": [],
      "execution_count": null,
      "outputs": []
    },
    {
      "cell_type": "code",
      "metadata": {
        "colab": {
          "base_uri": "https://localhost:8080/"
        },
        "id": "5ccb567c",
        "outputId": "c5d1cad4-353d-4aec-ae67-9fe4f3990041"
      },
      "source": [
        "import spacy\n",
        "\n",
        "# Load the English language model\n",
        "nlp = spacy.load(\"en_core_web_sm\")\n",
        "\n",
        "# Access the stopwords\n",
        "stopwords = nlp.Defaults.stop_words\n",
        "\n",
        "# Print the number of stopwords\n",
        "print(f\"Number of stopwords in spaCy: {len(stopwords)}\")\n",
        "\n",
        "# Print some example stopwords\n",
        "print(\"Example stopwords:\")\n",
        "print(list(stopwords)[:20])"
      ],
      "execution_count": null,
      "outputs": [
        {
          "output_type": "stream",
          "name": "stdout",
          "text": [
            "Number of stopwords in spaCy: 326\n",
            "Example stopwords:\n",
            "['hereafter', 'than', 'please', 'n’t', 'beyond', 'if', 'ten', 'in', 'during', 'become', 'whereby', 'again', 'others', 'that', \"'s\", 'somewhere', 'almost', 'regarding', 'under', 'very']\n"
          ]
        }
      ]
    },
    {
      "cell_type": "code",
      "source": [
        "print(list(stopwords))"
      ],
      "metadata": {
        "colab": {
          "base_uri": "https://localhost:8080/"
        },
        "id": "HImXHQO5ZHni",
        "outputId": "89b02d59-185b-49a2-955e-4096e5a0134d"
      },
      "execution_count": null,
      "outputs": [
        {
          "output_type": "stream",
          "name": "stdout",
          "text": [
            "['hereafter', 'than', 'please', 'n’t', 'beyond', 'if', 'ten', 'in', 'during', 'become', 'whereby', 'again', 'others', 'that', \"'s\", 'somewhere', 'almost', 'regarding', 'under', 'very', 'first', '’s', 'ourselves', 'out', 'with', 'anywhere', 'as', 'did', 'anyhow', 'was', '’re', 'empty', 'various', 'here', 'and', 'four', 'least', 'because', 'seems', 'twelve', 'thus', 'hereupon', 'seeming', 'toward', 'becomes', 'the', 'every', 'themselves', 're', 'then', 'whereupon', 'yourselves', 'together', 'two', \"'m\", 'somehow', 'would', 'only', 'through', 'however', 'along', 'himself', 'since', 'latter', 'formerly', 'at', \"'re\", 'their', 'enough', 'this', 'something', 'doing', 'whereas', 'front', 'take', 'except', 'across', 'against', 'even', 'once', 'of', 'are', 'have', 'whose', 'many', 'might', 'sometimes', 'mine', \"'ve\", 'also', 'below', 'now', 'whereafter', 'put', 'seem', 'really', 'your', 'other', 'indeed', 'thereby', 'therein', \"'d\", 'it', 'either', 'while', 'after', 'nothing', 'for', 'twenty', 'them', 'perhaps', 'anyway', 'part', 'same', 'among', 'these', 'forty', 'before', 'but', 'is', 'five', 'give', 'sometime', 'well', 'why', 'side', 'beforehand', 'became', 'becoming', 'from', 'you', 'around', 'herself', 'has', 'noone', 'upon', '‘ve', 'him', 'do', 'no', 'another', 'make', 'without', 'down', 'he', '‘ll', 'back', 'serious', 'how', 'they', 'or', 'such', 'show', 'unless', 'already', 'just', 'eight', 'ca', 'not', 'being', 'latterly', 'nowhere', 'into', 'made', '’ll', 'else', 'alone', 'everyone', 'on', 'via', 'anyone', 'will', 'full', 'always', 'hundred', 'be', 'last', 'eleven', 'rather', 'too', 'an', 'next', 'had', 'those', 'by', 'name', 'third', \"'ll\", 'hence', 'nine', 'whether', 'her', 'between', 'three', 'own', 'cannot', '’d', 'although', 'never', 'thereupon', 'everywhere', 'thru', '‘m', 'herein', 'several', 'itself', 'less', 'otherwise', 'ever', 'she', 'behind', 'further', 'whom', 'bottom', 'whoever', 'until', 'wherever', 'often', 'each', 'few', 'my', 'where', 'amount', 'therefore', 'amongst', 'hers', 'though', 'beside', 'using', 'us', 'anything', 'what', 'onto', 'seemed', 'see', 'keep', 'thereafter', 'whither', 'when', 'move', 'to', 'off', 'our', 'used', 'who', 'throughout', 'thence', 'ours', 'neither', 'get', 'moreover', 'about', 'should', 'top', 'me', 'we', 'yourself', 'nevertheless', 'does', 'done', 'fifteen', 'still', 'which', 'within', 'its', 'one', 'someone', 'mostly', 'both', 'meanwhile', 'so', 'due', 'may', 'more', 'whatever', 'towards', 'were', '’ve', 'up', 'any', 'say', \"n't\", 'everything', 'former', 'n‘t', 'elsewhere', 'could', 'there', 'must', 'go', 'am', 'fifty', 'over', 'whole', '‘d', 'nor', 'namely', 'been', '’m', 'nobody', 'yours', 'quite', '‘re', 'a', 'most', 'sixty', 'call', 'his', 'much', '‘s', 'myself', 'some', 'hereby', 'can', 'afterwards', 'whenever', 'besides', 'yet', 'i', 'above', 'wherein', 'six', 'whence', 'per', 'none', 'all']\n"
          ]
        }
      ]
    },
    {
      "cell_type": "code",
      "source": [
        "#remove punctuation from sentence\n",
        "import string\n",
        "a = string.punctuation\n",
        "print(a)"
      ],
      "metadata": {
        "colab": {
          "base_uri": "https://localhost:8080/"
        },
        "id": "o0rLrEzTZNrs",
        "outputId": "695b171b-1db9-4f12-905a-4447278cbaaf"
      },
      "execution_count": null,
      "outputs": [
        {
          "output_type": "stream",
          "name": "stdout",
          "text": [
            "!\"#$%&'()*+,-./:;<=>?@[\\]^_`{|}~\n"
          ]
        }
      ]
    },
    {
      "cell_type": "code",
      "metadata": {
        "colab": {
          "base_uri": "https://localhost:8080/"
        },
        "id": "c560a6cb",
        "outputId": "8879aa97-b0f7-4479-b21b-d746484cc33e"
      },
      "source": [
        "import string\n",
        "\n",
        "sentence = \"This is a sentence with, some, punctuation!\"\n",
        "# Remove punctuation\n",
        "sentence_without_punct = \"\".join([char for char in sentence if char not in string.punctuation])\n",
        "\n",
        "print(sentence_without_punct)"
      ],
      "execution_count": null,
      "outputs": [
        {
          "output_type": "stream",
          "name": "stdout",
          "text": [
            "This is a sentence with some punctuation\n"
          ]
        }
      ]
    },
    {
      "cell_type": "code",
      "source": [],
      "metadata": {
        "id": "1TzxukGyamEL"
      },
      "execution_count": null,
      "outputs": []
    }
  ]
}